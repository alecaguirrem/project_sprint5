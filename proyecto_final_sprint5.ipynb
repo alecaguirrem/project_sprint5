{
 "cells": [
  {
   "cell_type": "markdown",
   "metadata": {
    "id": "3rYiDeEH0q0f"
   },
   "source": [
    "# ¿Cuál es la mejor tarifa?\n",
    "\n",
    "Trabajas como analista para el operador de telecomunicaciones Megaline. La empresa ofrece a sus clientes dos tarifas de prepago, Surf y Ultimate. El departamento comercial quiere saber cuál de las tarifas genera más ingresos para poder ajustar el presupuesto de publicidad.\n",
    "\n",
    "Vas a realizar un análisis preliminar de las tarifas basado en una selección de clientes relativamente pequeña. Tendrás los datos de 500 clientes de Megaline: quiénes son los clientes, de dónde son, qué tarifa usan, así como la cantidad de llamadas que hicieron y los mensajes de texto que enviaron en 2018. Tu trabajo es analizar el comportamiento de los clientes y determinar qué tarifa de prepago genera más ingresos."
   ]
  },
  {
   "cell_type": "markdown",
   "metadata": {
    "id": "VNddPNRQ0q0w"
   },
   "source": [
    "[Te proporcionamos algunos comentarios para orientarte mientras completas este proyecto. Pero debes asegurarte de eliminar todos los comentarios entre corchetes antes de entregar tu proyecto.]\n",
    "\n",
    "[Antes de sumergirte en el análisis de datos, explica por tu propia cuenta el propósito del proyecto y las acciones que planeas realizar.]\n",
    "\n",
    "[Ten en cuenta que estudiar, modificar y analizar datos es un proceso iterativo. Es normal volver a los pasos anteriores y corregirlos/ampliarlos para permitir nuevos pasos.]"
   ]
  },
  {
   "cell_type": "markdown",
   "metadata": {
    "id": "MQi4IPy70q0y"
   },
   "source": [
    "## Inicialización"
   ]
  },
  {
   "cell_type": "code",
   "execution_count": 1,
   "metadata": {
    "id": "MtYIuBxu0q0z",
    "trusted": true
   },
   "outputs": [],
   "source": [
    "import pandas as pd\n",
    "import numpy as np\n",
    "from matplotlib import pyplot as plt\n",
    "import seaborn as sns\n",
    "from math import factorial\n",
    "from scipy import stats as st\n",
    "import math as mt\n",
    "from scipy.stats import levene"
   ]
  },
  {
   "cell_type": "markdown",
   "metadata": {
    "id": "4ysWWC5i0q00"
   },
   "source": [
    "## Cargar datos"
   ]
  },
  {
   "cell_type": "code",
   "execution_count": 2,
   "metadata": {
    "id": "CCqPW7rS0q01",
    "trusted": true
   },
   "outputs": [],
   "source": [
    "# Carga los archivos de datos en diferentes DataFrames\n",
    "df_users = pd.read_csv(\"/datasets/megaline_users.csv\")\n",
    "df_calls = pd.read_csv(\"/datasets/megaline_calls.csv\")\n",
    "df_msg = pd.read_csv(\"/datasets/megaline_messages.csv\")\n",
    "df_wifi = pd.read_csv(\"/datasets/megaline_internet.csv\")\n",
    "df_plans = pd.read_csv(\"/datasets/megaline_plans.csv\")"
   ]
  },
  {
   "cell_type": "markdown",
   "metadata": {
    "id": "69qqoJ3r0q01"
   },
   "source": [
    "## Preparar los datos"
   ]
  },
  {
   "cell_type": "markdown",
   "metadata": {
    "id": "vUuZw80S0q01"
   },
   "source": [
    "[Los datos para este proyecto se dividen en varias tablas. Explora cada una para tener una comprensión inicial de los datos. Si es necesario, haz las correcciones requeridas en cada tabla.]"
   ]
  },
  {
   "cell_type": "code",
   "execution_count": 3,
   "metadata": {
    "scrolled": false,
    "trusted": true
   },
   "outputs": [
    {
     "name": "stdout",
     "output_type": "stream",
     "text": [
      "Información de los usuarios:\n"
     ]
    },
    {
     "data": {
      "text/html": [
       "<div>\n",
       "<style scoped>\n",
       "    .dataframe tbody tr th:only-of-type {\n",
       "        vertical-align: middle;\n",
       "    }\n",
       "\n",
       "    .dataframe tbody tr th {\n",
       "        vertical-align: top;\n",
       "    }\n",
       "\n",
       "    .dataframe thead th {\n",
       "        text-align: right;\n",
       "    }\n",
       "</style>\n",
       "<table border=\"1\" class=\"dataframe\">\n",
       "  <thead>\n",
       "    <tr style=\"text-align: right;\">\n",
       "      <th></th>\n",
       "      <th>user_id</th>\n",
       "      <th>first_name</th>\n",
       "      <th>last_name</th>\n",
       "      <th>age</th>\n",
       "      <th>city</th>\n",
       "      <th>reg_date</th>\n",
       "      <th>plan</th>\n",
       "      <th>churn_date</th>\n",
       "    </tr>\n",
       "  </thead>\n",
       "  <tbody>\n",
       "    <tr>\n",
       "      <th>0</th>\n",
       "      <td>1000</td>\n",
       "      <td>Anamaria</td>\n",
       "      <td>Bauer</td>\n",
       "      <td>45</td>\n",
       "      <td>Atlanta-Sandy Springs-Roswell, GA MSA</td>\n",
       "      <td>2018-12-24</td>\n",
       "      <td>ultimate</td>\n",
       "      <td>NaN</td>\n",
       "    </tr>\n",
       "    <tr>\n",
       "      <th>1</th>\n",
       "      <td>1001</td>\n",
       "      <td>Mickey</td>\n",
       "      <td>Wilkerson</td>\n",
       "      <td>28</td>\n",
       "      <td>Seattle-Tacoma-Bellevue, WA MSA</td>\n",
       "      <td>2018-08-13</td>\n",
       "      <td>surf</td>\n",
       "      <td>NaN</td>\n",
       "    </tr>\n",
       "    <tr>\n",
       "      <th>2</th>\n",
       "      <td>1002</td>\n",
       "      <td>Carlee</td>\n",
       "      <td>Hoffman</td>\n",
       "      <td>36</td>\n",
       "      <td>Las Vegas-Henderson-Paradise, NV MSA</td>\n",
       "      <td>2018-10-21</td>\n",
       "      <td>surf</td>\n",
       "      <td>NaN</td>\n",
       "    </tr>\n",
       "    <tr>\n",
       "      <th>3</th>\n",
       "      <td>1003</td>\n",
       "      <td>Reynaldo</td>\n",
       "      <td>Jenkins</td>\n",
       "      <td>52</td>\n",
       "      <td>Tulsa, OK MSA</td>\n",
       "      <td>2018-01-28</td>\n",
       "      <td>surf</td>\n",
       "      <td>NaN</td>\n",
       "    </tr>\n",
       "    <tr>\n",
       "      <th>4</th>\n",
       "      <td>1004</td>\n",
       "      <td>Leonila</td>\n",
       "      <td>Thompson</td>\n",
       "      <td>40</td>\n",
       "      <td>Seattle-Tacoma-Bellevue, WA MSA</td>\n",
       "      <td>2018-05-23</td>\n",
       "      <td>surf</td>\n",
       "      <td>NaN</td>\n",
       "    </tr>\n",
       "  </tbody>\n",
       "</table>\n",
       "</div>"
      ],
      "text/plain": [
       "   user_id first_name  last_name  age                                   city  \\\n",
       "0     1000   Anamaria      Bauer   45  Atlanta-Sandy Springs-Roswell, GA MSA   \n",
       "1     1001     Mickey  Wilkerson   28        Seattle-Tacoma-Bellevue, WA MSA   \n",
       "2     1002     Carlee    Hoffman   36   Las Vegas-Henderson-Paradise, NV MSA   \n",
       "3     1003   Reynaldo    Jenkins   52                          Tulsa, OK MSA   \n",
       "4     1004    Leonila   Thompson   40        Seattle-Tacoma-Bellevue, WA MSA   \n",
       "\n",
       "     reg_date      plan churn_date  \n",
       "0  2018-12-24  ultimate        NaN  \n",
       "1  2018-08-13      surf        NaN  \n",
       "2  2018-10-21      surf        NaN  \n",
       "3  2018-01-28      surf        NaN  \n",
       "4  2018-05-23      surf        NaN  "
      ]
     },
     "metadata": {},
     "output_type": "display_data"
    },
    {
     "name": "stdout",
     "output_type": "stream",
     "text": [
      "Información de las llamadas:\n"
     ]
    },
    {
     "data": {
      "text/html": [
       "<div>\n",
       "<style scoped>\n",
       "    .dataframe tbody tr th:only-of-type {\n",
       "        vertical-align: middle;\n",
       "    }\n",
       "\n",
       "    .dataframe tbody tr th {\n",
       "        vertical-align: top;\n",
       "    }\n",
       "\n",
       "    .dataframe thead th {\n",
       "        text-align: right;\n",
       "    }\n",
       "</style>\n",
       "<table border=\"1\" class=\"dataframe\">\n",
       "  <thead>\n",
       "    <tr style=\"text-align: right;\">\n",
       "      <th></th>\n",
       "      <th>id</th>\n",
       "      <th>user_id</th>\n",
       "      <th>call_date</th>\n",
       "      <th>duration</th>\n",
       "    </tr>\n",
       "  </thead>\n",
       "  <tbody>\n",
       "    <tr>\n",
       "      <th>0</th>\n",
       "      <td>1000_93</td>\n",
       "      <td>1000</td>\n",
       "      <td>2018-12-27</td>\n",
       "      <td>8.52</td>\n",
       "    </tr>\n",
       "    <tr>\n",
       "      <th>1</th>\n",
       "      <td>1000_145</td>\n",
       "      <td>1000</td>\n",
       "      <td>2018-12-27</td>\n",
       "      <td>13.66</td>\n",
       "    </tr>\n",
       "    <tr>\n",
       "      <th>2</th>\n",
       "      <td>1000_247</td>\n",
       "      <td>1000</td>\n",
       "      <td>2018-12-27</td>\n",
       "      <td>14.48</td>\n",
       "    </tr>\n",
       "    <tr>\n",
       "      <th>3</th>\n",
       "      <td>1000_309</td>\n",
       "      <td>1000</td>\n",
       "      <td>2018-12-28</td>\n",
       "      <td>5.76</td>\n",
       "    </tr>\n",
       "    <tr>\n",
       "      <th>4</th>\n",
       "      <td>1000_380</td>\n",
       "      <td>1000</td>\n",
       "      <td>2018-12-30</td>\n",
       "      <td>4.22</td>\n",
       "    </tr>\n",
       "  </tbody>\n",
       "</table>\n",
       "</div>"
      ],
      "text/plain": [
       "         id  user_id   call_date  duration\n",
       "0   1000_93     1000  2018-12-27      8.52\n",
       "1  1000_145     1000  2018-12-27     13.66\n",
       "2  1000_247     1000  2018-12-27     14.48\n",
       "3  1000_309     1000  2018-12-28      5.76\n",
       "4  1000_380     1000  2018-12-30      4.22"
      ]
     },
     "metadata": {},
     "output_type": "display_data"
    },
    {
     "name": "stdout",
     "output_type": "stream",
     "text": [
      "Información de los mensajes:\n"
     ]
    },
    {
     "data": {
      "text/html": [
       "<div>\n",
       "<style scoped>\n",
       "    .dataframe tbody tr th:only-of-type {\n",
       "        vertical-align: middle;\n",
       "    }\n",
       "\n",
       "    .dataframe tbody tr th {\n",
       "        vertical-align: top;\n",
       "    }\n",
       "\n",
       "    .dataframe thead th {\n",
       "        text-align: right;\n",
       "    }\n",
       "</style>\n",
       "<table border=\"1\" class=\"dataframe\">\n",
       "  <thead>\n",
       "    <tr style=\"text-align: right;\">\n",
       "      <th></th>\n",
       "      <th>id</th>\n",
       "      <th>user_id</th>\n",
       "      <th>message_date</th>\n",
       "    </tr>\n",
       "  </thead>\n",
       "  <tbody>\n",
       "    <tr>\n",
       "      <th>0</th>\n",
       "      <td>1000_125</td>\n",
       "      <td>1000</td>\n",
       "      <td>2018-12-27</td>\n",
       "    </tr>\n",
       "    <tr>\n",
       "      <th>1</th>\n",
       "      <td>1000_160</td>\n",
       "      <td>1000</td>\n",
       "      <td>2018-12-31</td>\n",
       "    </tr>\n",
       "    <tr>\n",
       "      <th>2</th>\n",
       "      <td>1000_223</td>\n",
       "      <td>1000</td>\n",
       "      <td>2018-12-31</td>\n",
       "    </tr>\n",
       "    <tr>\n",
       "      <th>3</th>\n",
       "      <td>1000_251</td>\n",
       "      <td>1000</td>\n",
       "      <td>2018-12-27</td>\n",
       "    </tr>\n",
       "    <tr>\n",
       "      <th>4</th>\n",
       "      <td>1000_255</td>\n",
       "      <td>1000</td>\n",
       "      <td>2018-12-26</td>\n",
       "    </tr>\n",
       "  </tbody>\n",
       "</table>\n",
       "</div>"
      ],
      "text/plain": [
       "         id  user_id message_date\n",
       "0  1000_125     1000   2018-12-27\n",
       "1  1000_160     1000   2018-12-31\n",
       "2  1000_223     1000   2018-12-31\n",
       "3  1000_251     1000   2018-12-27\n",
       "4  1000_255     1000   2018-12-26"
      ]
     },
     "metadata": {},
     "output_type": "display_data"
    },
    {
     "name": "stdout",
     "output_type": "stream",
     "text": [
      "Información del internet:\n"
     ]
    },
    {
     "data": {
      "text/html": [
       "<div>\n",
       "<style scoped>\n",
       "    .dataframe tbody tr th:only-of-type {\n",
       "        vertical-align: middle;\n",
       "    }\n",
       "\n",
       "    .dataframe tbody tr th {\n",
       "        vertical-align: top;\n",
       "    }\n",
       "\n",
       "    .dataframe thead th {\n",
       "        text-align: right;\n",
       "    }\n",
       "</style>\n",
       "<table border=\"1\" class=\"dataframe\">\n",
       "  <thead>\n",
       "    <tr style=\"text-align: right;\">\n",
       "      <th></th>\n",
       "      <th>id</th>\n",
       "      <th>user_id</th>\n",
       "      <th>session_date</th>\n",
       "      <th>mb_used</th>\n",
       "    </tr>\n",
       "  </thead>\n",
       "  <tbody>\n",
       "    <tr>\n",
       "      <th>0</th>\n",
       "      <td>1000_13</td>\n",
       "      <td>1000</td>\n",
       "      <td>2018-12-29</td>\n",
       "      <td>89.86</td>\n",
       "    </tr>\n",
       "    <tr>\n",
       "      <th>1</th>\n",
       "      <td>1000_204</td>\n",
       "      <td>1000</td>\n",
       "      <td>2018-12-31</td>\n",
       "      <td>0.00</td>\n",
       "    </tr>\n",
       "    <tr>\n",
       "      <th>2</th>\n",
       "      <td>1000_379</td>\n",
       "      <td>1000</td>\n",
       "      <td>2018-12-28</td>\n",
       "      <td>660.40</td>\n",
       "    </tr>\n",
       "    <tr>\n",
       "      <th>3</th>\n",
       "      <td>1000_413</td>\n",
       "      <td>1000</td>\n",
       "      <td>2018-12-26</td>\n",
       "      <td>270.99</td>\n",
       "    </tr>\n",
       "    <tr>\n",
       "      <th>4</th>\n",
       "      <td>1000_442</td>\n",
       "      <td>1000</td>\n",
       "      <td>2018-12-27</td>\n",
       "      <td>880.22</td>\n",
       "    </tr>\n",
       "  </tbody>\n",
       "</table>\n",
       "</div>"
      ],
      "text/plain": [
       "         id  user_id session_date  mb_used\n",
       "0   1000_13     1000   2018-12-29    89.86\n",
       "1  1000_204     1000   2018-12-31     0.00\n",
       "2  1000_379     1000   2018-12-28   660.40\n",
       "3  1000_413     1000   2018-12-26   270.99\n",
       "4  1000_442     1000   2018-12-27   880.22"
      ]
     },
     "metadata": {},
     "output_type": "display_data"
    },
    {
     "name": "stdout",
     "output_type": "stream",
     "text": [
      "Información de los planes:\n"
     ]
    },
    {
     "data": {
      "text/html": [
       "<div>\n",
       "<style scoped>\n",
       "    .dataframe tbody tr th:only-of-type {\n",
       "        vertical-align: middle;\n",
       "    }\n",
       "\n",
       "    .dataframe tbody tr th {\n",
       "        vertical-align: top;\n",
       "    }\n",
       "\n",
       "    .dataframe thead th {\n",
       "        text-align: right;\n",
       "    }\n",
       "</style>\n",
       "<table border=\"1\" class=\"dataframe\">\n",
       "  <thead>\n",
       "    <tr style=\"text-align: right;\">\n",
       "      <th></th>\n",
       "      <th>messages_included</th>\n",
       "      <th>mb_per_month_included</th>\n",
       "      <th>minutes_included</th>\n",
       "      <th>usd_monthly_pay</th>\n",
       "      <th>usd_per_gb</th>\n",
       "      <th>usd_per_message</th>\n",
       "      <th>usd_per_minute</th>\n",
       "      <th>plan_name</th>\n",
       "    </tr>\n",
       "  </thead>\n",
       "  <tbody>\n",
       "    <tr>\n",
       "      <th>0</th>\n",
       "      <td>50</td>\n",
       "      <td>15360</td>\n",
       "      <td>500</td>\n",
       "      <td>20</td>\n",
       "      <td>10</td>\n",
       "      <td>0.03</td>\n",
       "      <td>0.03</td>\n",
       "      <td>surf</td>\n",
       "    </tr>\n",
       "    <tr>\n",
       "      <th>1</th>\n",
       "      <td>1000</td>\n",
       "      <td>30720</td>\n",
       "      <td>3000</td>\n",
       "      <td>70</td>\n",
       "      <td>7</td>\n",
       "      <td>0.01</td>\n",
       "      <td>0.01</td>\n",
       "      <td>ultimate</td>\n",
       "    </tr>\n",
       "  </tbody>\n",
       "</table>\n",
       "</div>"
      ],
      "text/plain": [
       "   messages_included  mb_per_month_included  minutes_included  \\\n",
       "0                 50                  15360               500   \n",
       "1               1000                  30720              3000   \n",
       "\n",
       "   usd_monthly_pay  usd_per_gb  usd_per_message  usd_per_minute plan_name  \n",
       "0               20          10             0.03            0.03      surf  \n",
       "1               70           7             0.01            0.01  ultimate  "
      ]
     },
     "metadata": {},
     "output_type": "display_data"
    }
   ],
   "source": [
    "print(\"Información de los usuarios:\")\n",
    "display(df_users.head(5))\n",
    "print(\"Información de las llamadas:\")\n",
    "display(df_calls.head(5))\n",
    "print(\"Información de los mensajes:\")\n",
    "display(df_msg.head(5))\n",
    "print(\"Información del internet:\")\n",
    "display(df_wifi.head(5))\n",
    "print(\"Información de los planes:\")\n",
    "display(df_plans.head(5))"
   ]
  },
  {
   "cell_type": "markdown",
   "metadata": {
    "id": "ohBhimvH0q01"
   },
   "source": [
    "## Tarifas"
   ]
  },
  {
   "cell_type": "code",
   "execution_count": 4,
   "metadata": {
    "id": "GptqP3Q40q02",
    "trusted": true
   },
   "outputs": [
    {
     "name": "stdout",
     "output_type": "stream",
     "text": [
      "<class 'pandas.core.frame.DataFrame'>\n",
      "RangeIndex: 2 entries, 0 to 1\n",
      "Data columns (total 8 columns):\n",
      " #   Column                 Non-Null Count  Dtype  \n",
      "---  ------                 --------------  -----  \n",
      " 0   messages_included      2 non-null      int64  \n",
      " 1   mb_per_month_included  2 non-null      int64  \n",
      " 2   minutes_included       2 non-null      int64  \n",
      " 3   usd_monthly_pay        2 non-null      int64  \n",
      " 4   usd_per_gb             2 non-null      int64  \n",
      " 5   usd_per_message        2 non-null      float64\n",
      " 6   usd_per_minute         2 non-null      float64\n",
      " 7   plan_name              2 non-null      object \n",
      "dtypes: float64(2), int64(5), object(1)\n",
      "memory usage: 256.0+ bytes\n"
     ]
    }
   ],
   "source": [
    "# Imprime la información general/resumida sobre el DataFrame de las tarifas\n",
    "df_plans.info()"
   ]
  },
  {
   "cell_type": "code",
   "execution_count": 5,
   "metadata": {
    "id": "64xzjwL70q02",
    "trusted": true
   },
   "outputs": [
    {
     "data": {
      "text/html": [
       "<div>\n",
       "<style scoped>\n",
       "    .dataframe tbody tr th:only-of-type {\n",
       "        vertical-align: middle;\n",
       "    }\n",
       "\n",
       "    .dataframe tbody tr th {\n",
       "        vertical-align: top;\n",
       "    }\n",
       "\n",
       "    .dataframe thead th {\n",
       "        text-align: right;\n",
       "    }\n",
       "</style>\n",
       "<table border=\"1\" class=\"dataframe\">\n",
       "  <thead>\n",
       "    <tr style=\"text-align: right;\">\n",
       "      <th></th>\n",
       "      <th>messages_included</th>\n",
       "      <th>mb_per_month_included</th>\n",
       "      <th>minutes_included</th>\n",
       "      <th>usd_monthly_pay</th>\n",
       "      <th>usd_per_gb</th>\n",
       "      <th>usd_per_message</th>\n",
       "      <th>usd_per_minute</th>\n",
       "      <th>plan_name</th>\n",
       "    </tr>\n",
       "  </thead>\n",
       "  <tbody>\n",
       "    <tr>\n",
       "      <th>0</th>\n",
       "      <td>50</td>\n",
       "      <td>15360</td>\n",
       "      <td>500</td>\n",
       "      <td>20</td>\n",
       "      <td>10</td>\n",
       "      <td>0.03</td>\n",
       "      <td>0.03</td>\n",
       "      <td>surf</td>\n",
       "    </tr>\n",
       "    <tr>\n",
       "      <th>1</th>\n",
       "      <td>1000</td>\n",
       "      <td>30720</td>\n",
       "      <td>3000</td>\n",
       "      <td>70</td>\n",
       "      <td>7</td>\n",
       "      <td>0.01</td>\n",
       "      <td>0.01</td>\n",
       "      <td>ultimate</td>\n",
       "    </tr>\n",
       "  </tbody>\n",
       "</table>\n",
       "</div>"
      ],
      "text/plain": [
       "   messages_included  mb_per_month_included  minutes_included  \\\n",
       "0                 50                  15360               500   \n",
       "1               1000                  30720              3000   \n",
       "\n",
       "   usd_monthly_pay  usd_per_gb  usd_per_message  usd_per_minute plan_name  \n",
       "0               20          10             0.03            0.03      surf  \n",
       "1               70           7             0.01            0.01  ultimate  "
      ]
     },
     "metadata": {},
     "output_type": "display_data"
    }
   ],
   "source": [
    "# Imprime una muestra de los datos para las tarifas\n",
    "display(df_plans)"
   ]
  },
  {
   "cell_type": "markdown",
   "metadata": {
    "id": "mEc_3_hs0q02"
   },
   "source": [
    "[Describe lo que ves y observas en la información general y en la muestra de datos impresa para el precio de datos anterior. ¿Hay algún problema (tipos de datos no adecuados, datos ausentes, etc.) que pudieran necesitar investigación y cambios adicionales? ¿Cómo se puede arreglar?]\n",
    "\n",
    "**Primero que nada yo cambiaría el orden de las columnas ya que es confuso estar buscando por ejemplo el plan y cual es su precio al mes o ver los MB que incluye un paquete y su precio por excedete.**\n",
    "\n",
    "**Después del paso anterior, ahora convertiría la columna usd_per_gb a usd_per_mb para sacar la conversión del precio excedente por MB, ya que todos los datos de internet de los otros dataframes están en megabytes.También convertiría la columna usd_per_gb a float para poder dividirla entre 1024 mb**"
   ]
  },
  {
   "cell_type": "markdown",
   "metadata": {
    "id": "R3C05i1l0q03"
   },
   "source": [
    "### Corregir datos"
   ]
  },
  {
   "cell_type": "markdown",
   "metadata": {
    "id": "bIi8StZI0q03"
   },
   "source": [
    "[Corrige los problemas obvios con los datos basándote en las observaciones iniciales.]"
   ]
  },
  {
   "cell_type": "code",
   "execution_count": 6,
   "metadata": {
    "id": "Y7SVmjGn0q03",
    "trusted": true
   },
   "outputs": [],
   "source": [
    "# Primero voy a ordenar las columnas del DataFrame.\n",
    "df_plans = df_plans[[\"plan_name\",\"usd_monthly_pay\",\"minutes_included\",\"usd_per_minute\",\"messages_included\",\"usd_per_message\",\"mb_per_month_included\",\"usd_per_gb\"]]\n",
    "df_plans = df_plans.rename(columns={\"usd_per_gb\":\"usd_per_mb\"})\n",
    "df_plans[\"usd_per_mb\"] = df_plans[\"usd_per_mb\"].astype(\"float\")"
   ]
  },
  {
   "cell_type": "markdown",
   "metadata": {
    "id": "LJir7bml0q03"
   },
   "source": [
    "### Enriquecer los datos"
   ]
  },
  {
   "cell_type": "markdown",
   "metadata": {
    "id": "eqADpCfg0q04"
   },
   "source": [
    "[Agrega factores adicionales a los datos si crees que pudieran ser útiles.]"
   ]
  },
  {
   "cell_type": "code",
   "execution_count": 7,
   "metadata": {
    "id": "gfcIEuXV0q04",
    "trusted": true
   },
   "outputs": [],
   "source": [
    "df_plans[\"usd_per_mb\"] = df_plans[\"usd_per_mb\"] / 1024"
   ]
  },
  {
   "cell_type": "markdown",
   "metadata": {
    "id": "1n2X6WXf0q04"
   },
   "source": [
    "## Usuarios/as"
   ]
  },
  {
   "cell_type": "code",
   "execution_count": 8,
   "metadata": {
    "id": "2NgjWFqx0q05",
    "trusted": true
   },
   "outputs": [
    {
     "name": "stdout",
     "output_type": "stream",
     "text": [
      "<class 'pandas.core.frame.DataFrame'>\n",
      "RangeIndex: 500 entries, 0 to 499\n",
      "Data columns (total 8 columns):\n",
      " #   Column      Non-Null Count  Dtype \n",
      "---  ------      --------------  ----- \n",
      " 0   user_id     500 non-null    int64 \n",
      " 1   first_name  500 non-null    object\n",
      " 2   last_name   500 non-null    object\n",
      " 3   age         500 non-null    int64 \n",
      " 4   city        500 non-null    object\n",
      " 5   reg_date    500 non-null    object\n",
      " 6   plan        500 non-null    object\n",
      " 7   churn_date  34 non-null     object\n",
      "dtypes: int64(2), object(6)\n",
      "memory usage: 31.4+ KB\n"
     ]
    }
   ],
   "source": [
    "# Imprime la información general/resumida sobre el DataFrame de usuarios\n",
    "df_users.info()"
   ]
  },
  {
   "cell_type": "code",
   "execution_count": 9,
   "metadata": {
    "id": "1IN1L9uh0q05",
    "trusted": true
   },
   "outputs": [
    {
     "data": {
      "text/html": [
       "<div>\n",
       "<style scoped>\n",
       "    .dataframe tbody tr th:only-of-type {\n",
       "        vertical-align: middle;\n",
       "    }\n",
       "\n",
       "    .dataframe tbody tr th {\n",
       "        vertical-align: top;\n",
       "    }\n",
       "\n",
       "    .dataframe thead th {\n",
       "        text-align: right;\n",
       "    }\n",
       "</style>\n",
       "<table border=\"1\" class=\"dataframe\">\n",
       "  <thead>\n",
       "    <tr style=\"text-align: right;\">\n",
       "      <th></th>\n",
       "      <th>user_id</th>\n",
       "      <th>first_name</th>\n",
       "      <th>last_name</th>\n",
       "      <th>age</th>\n",
       "      <th>city</th>\n",
       "      <th>reg_date</th>\n",
       "      <th>plan</th>\n",
       "      <th>churn_date</th>\n",
       "    </tr>\n",
       "  </thead>\n",
       "  <tbody>\n",
       "    <tr>\n",
       "      <th>0</th>\n",
       "      <td>1000</td>\n",
       "      <td>Anamaria</td>\n",
       "      <td>Bauer</td>\n",
       "      <td>45</td>\n",
       "      <td>Atlanta-Sandy Springs-Roswell, GA MSA</td>\n",
       "      <td>2018-12-24</td>\n",
       "      <td>ultimate</td>\n",
       "      <td>NaN</td>\n",
       "    </tr>\n",
       "    <tr>\n",
       "      <th>1</th>\n",
       "      <td>1001</td>\n",
       "      <td>Mickey</td>\n",
       "      <td>Wilkerson</td>\n",
       "      <td>28</td>\n",
       "      <td>Seattle-Tacoma-Bellevue, WA MSA</td>\n",
       "      <td>2018-08-13</td>\n",
       "      <td>surf</td>\n",
       "      <td>NaN</td>\n",
       "    </tr>\n",
       "    <tr>\n",
       "      <th>2</th>\n",
       "      <td>1002</td>\n",
       "      <td>Carlee</td>\n",
       "      <td>Hoffman</td>\n",
       "      <td>36</td>\n",
       "      <td>Las Vegas-Henderson-Paradise, NV MSA</td>\n",
       "      <td>2018-10-21</td>\n",
       "      <td>surf</td>\n",
       "      <td>NaN</td>\n",
       "    </tr>\n",
       "    <tr>\n",
       "      <th>3</th>\n",
       "      <td>1003</td>\n",
       "      <td>Reynaldo</td>\n",
       "      <td>Jenkins</td>\n",
       "      <td>52</td>\n",
       "      <td>Tulsa, OK MSA</td>\n",
       "      <td>2018-01-28</td>\n",
       "      <td>surf</td>\n",
       "      <td>NaN</td>\n",
       "    </tr>\n",
       "    <tr>\n",
       "      <th>4</th>\n",
       "      <td>1004</td>\n",
       "      <td>Leonila</td>\n",
       "      <td>Thompson</td>\n",
       "      <td>40</td>\n",
       "      <td>Seattle-Tacoma-Bellevue, WA MSA</td>\n",
       "      <td>2018-05-23</td>\n",
       "      <td>surf</td>\n",
       "      <td>NaN</td>\n",
       "    </tr>\n",
       "  </tbody>\n",
       "</table>\n",
       "</div>"
      ],
      "text/plain": [
       "   user_id first_name  last_name  age                                   city  \\\n",
       "0     1000   Anamaria      Bauer   45  Atlanta-Sandy Springs-Roswell, GA MSA   \n",
       "1     1001     Mickey  Wilkerson   28        Seattle-Tacoma-Bellevue, WA MSA   \n",
       "2     1002     Carlee    Hoffman   36   Las Vegas-Henderson-Paradise, NV MSA   \n",
       "3     1003   Reynaldo    Jenkins   52                          Tulsa, OK MSA   \n",
       "4     1004    Leonila   Thompson   40        Seattle-Tacoma-Bellevue, WA MSA   \n",
       "\n",
       "     reg_date      plan churn_date  \n",
       "0  2018-12-24  ultimate        NaN  \n",
       "1  2018-08-13      surf        NaN  \n",
       "2  2018-10-21      surf        NaN  \n",
       "3  2018-01-28      surf        NaN  \n",
       "4  2018-05-23      surf        NaN  "
      ]
     },
     "metadata": {},
     "output_type": "display_data"
    }
   ],
   "source": [
    "# Imprime una muestra de datos para usuarios\n",
    "display(df_users.head())"
   ]
  },
  {
   "cell_type": "markdown",
   "metadata": {
    "id": "dCZoUq4f0q06"
   },
   "source": [
    "[Describe lo que ves y observas en la información general y en la muestra de datos impresa para el precio de datos anterior. ¿Hay algún problema (tipos de datos no adecuados, datos ausentes, etc.) que pudieran necesitar investigación y cambios adicionales? ¿Cómo se puede arreglar?]\n",
    "\n",
    "**De la columan user_id pasaría el tipo de dato a object, las columnas de nombre y apellido las haría minúsculas, ciudad también a minúsculas, reg_date y churn_date a tipo datetime**\n"
   ]
  },
  {
   "cell_type": "markdown",
   "metadata": {
    "id": "BX5FQh_I0q06"
   },
   "source": [
    "### Corregir los datos"
   ]
  },
  {
   "cell_type": "markdown",
   "metadata": {
    "id": "8OdKMwJv0q06"
   },
   "source": [
    "[Corrige los problemas obvios con los datos basándote en las observaciones iniciales.]"
   ]
  },
  {
   "cell_type": "code",
   "execution_count": 10,
   "metadata": {
    "id": "yUqX-K0C0q07",
    "trusted": true
   },
   "outputs": [],
   "source": [
    "df_users[\"user_id\"] = df_users[\"user_id\"].astype(\"object\")                        # Conversión de tipo int a object\n",
    "df_users[\"reg_date\"] = pd.to_datetime(df_users[\"reg_date\"],format=\"%Y-%m-%d\")     # Convertir a datetime\n",
    "df_users[\"churn_date\"] = pd.to_datetime(df_users[\"churn_date\"],format=\"%Y-%m-%d\") # Convertir a datetime"
   ]
  },
  {
   "cell_type": "markdown",
   "metadata": {
    "id": "ycwuARJp0q07"
   },
   "source": [
    "### Enriquecer los datos"
   ]
  },
  {
   "cell_type": "markdown",
   "metadata": {
    "id": "96NIh4CJ0q08"
   },
   "source": [
    "[Agrega factores adicionales a los datos si crees que pudieran ser útiles.]"
   ]
  },
  {
   "cell_type": "code",
   "execution_count": 11,
   "metadata": {
    "id": "iq0AaBS90q08",
    "trusted": true
   },
   "outputs": [],
   "source": [
    "df_users[\"first_name\"] = df_users[\"first_name\"].str.lower()                       # Conversión a minúsculas \n",
    "df_users[\"last_name\"] = df_users[\"last_name\"].str.lower()                         # Conversión a minúsculas \n",
    "df_users[\"city\"] = df_users[\"city\"].str.lower()                                   # Conversión a minúsculas "
   ]
  },
  {
   "cell_type": "markdown",
   "metadata": {
    "id": "o7MeKCid0q08"
   },
   "source": [
    "## Llamadas"
   ]
  },
  {
   "cell_type": "code",
   "execution_count": 12,
   "metadata": {
    "id": "6dDlnoDm0q08",
    "trusted": true
   },
   "outputs": [
    {
     "name": "stdout",
     "output_type": "stream",
     "text": [
      "<class 'pandas.core.frame.DataFrame'>\n",
      "RangeIndex: 137735 entries, 0 to 137734\n",
      "Data columns (total 4 columns):\n",
      " #   Column     Non-Null Count   Dtype  \n",
      "---  ------     --------------   -----  \n",
      " 0   id         137735 non-null  object \n",
      " 1   user_id    137735 non-null  int64  \n",
      " 2   call_date  137735 non-null  object \n",
      " 3   duration   137735 non-null  float64\n",
      "dtypes: float64(1), int64(1), object(2)\n",
      "memory usage: 4.2+ MB\n"
     ]
    }
   ],
   "source": [
    "# Imprime la información general/resumida sobre el DataFrame de las llamadas\n",
    "df_calls.info()"
   ]
  },
  {
   "cell_type": "code",
   "execution_count": 13,
   "metadata": {
    "id": "kuh1vlNB0q09",
    "trusted": true
   },
   "outputs": [
    {
     "data": {
      "text/html": [
       "<div>\n",
       "<style scoped>\n",
       "    .dataframe tbody tr th:only-of-type {\n",
       "        vertical-align: middle;\n",
       "    }\n",
       "\n",
       "    .dataframe tbody tr th {\n",
       "        vertical-align: top;\n",
       "    }\n",
       "\n",
       "    .dataframe thead th {\n",
       "        text-align: right;\n",
       "    }\n",
       "</style>\n",
       "<table border=\"1\" class=\"dataframe\">\n",
       "  <thead>\n",
       "    <tr style=\"text-align: right;\">\n",
       "      <th></th>\n",
       "      <th>id</th>\n",
       "      <th>user_id</th>\n",
       "      <th>call_date</th>\n",
       "      <th>duration</th>\n",
       "    </tr>\n",
       "  </thead>\n",
       "  <tbody>\n",
       "    <tr>\n",
       "      <th>0</th>\n",
       "      <td>1000_93</td>\n",
       "      <td>1000</td>\n",
       "      <td>2018-12-27</td>\n",
       "      <td>8.52</td>\n",
       "    </tr>\n",
       "    <tr>\n",
       "      <th>1</th>\n",
       "      <td>1000_145</td>\n",
       "      <td>1000</td>\n",
       "      <td>2018-12-27</td>\n",
       "      <td>13.66</td>\n",
       "    </tr>\n",
       "    <tr>\n",
       "      <th>2</th>\n",
       "      <td>1000_247</td>\n",
       "      <td>1000</td>\n",
       "      <td>2018-12-27</td>\n",
       "      <td>14.48</td>\n",
       "    </tr>\n",
       "    <tr>\n",
       "      <th>3</th>\n",
       "      <td>1000_309</td>\n",
       "      <td>1000</td>\n",
       "      <td>2018-12-28</td>\n",
       "      <td>5.76</td>\n",
       "    </tr>\n",
       "    <tr>\n",
       "      <th>4</th>\n",
       "      <td>1000_380</td>\n",
       "      <td>1000</td>\n",
       "      <td>2018-12-30</td>\n",
       "      <td>4.22</td>\n",
       "    </tr>\n",
       "  </tbody>\n",
       "</table>\n",
       "</div>"
      ],
      "text/plain": [
       "         id  user_id   call_date  duration\n",
       "0   1000_93     1000  2018-12-27      8.52\n",
       "1  1000_145     1000  2018-12-27     13.66\n",
       "2  1000_247     1000  2018-12-27     14.48\n",
       "3  1000_309     1000  2018-12-28      5.76\n",
       "4  1000_380     1000  2018-12-30      4.22"
      ]
     },
     "metadata": {},
     "output_type": "display_data"
    }
   ],
   "source": [
    "# Imprime una muestra de datos para las llamadas\n",
    "display(df_calls.head())"
   ]
  },
  {
   "cell_type": "markdown",
   "metadata": {
    "id": "DOAxYJSx0q09"
   },
   "source": [
    "[Describe lo que ves y observas en la información general y en la muestra de datos impresa para el precio de datos anterior. ¿Hay algún problema (tipos de datos no adecuados, datos ausentes, etc.) que pudieran necesitar investigación y cambios adicionales? ¿Cómo se puede arreglar?]\n",
    "\n",
    "**Yo cambiaría el tipo de user_id a tipo object, call_date a datetime y reacomodaría las columnas**"
   ]
  },
  {
   "cell_type": "markdown",
   "metadata": {
    "id": "S7hzxmbX0q0-"
   },
   "source": [
    "### Corregir los datos"
   ]
  },
  {
   "cell_type": "markdown",
   "metadata": {
    "id": "YxWyAjD20q0-"
   },
   "source": [
    "[Corrige los problemas obvios con los datos basándote en las observaciones iniciales.]"
   ]
  },
  {
   "cell_type": "code",
   "execution_count": 14,
   "metadata": {
    "id": "S2r8xA4f0q0-",
    "trusted": true
   },
   "outputs": [],
   "source": [
    "df_calls = df_calls[[\"user_id\",\"id\",\"duration\",\"call_date\"]]\n",
    "df_calls[\"user_id\"] = df_calls[\"user_id\"].astype(\"object\")                        # Conversión de tipo int a object \n",
    "df_calls[\"call_date\"] = pd.to_datetime(df_calls[\"call_date\"],format=\"%Y-%m-%d\")   # Convertir a datetime"
   ]
  },
  {
   "cell_type": "markdown",
   "metadata": {
    "id": "KrMgTrlG0q0_"
   },
   "source": [
    "### Enriquecer los datos"
   ]
  },
  {
   "cell_type": "markdown",
   "metadata": {
    "id": "a9MbmEvE0q0_"
   },
   "source": [
    "[Agrega factores adicionales a los datos si crees que pudieran ser útiles.]"
   ]
  },
  {
   "cell_type": "code",
   "execution_count": null,
   "metadata": {
    "id": "iZ1avpA_0q0_",
    "trusted": true
   },
   "outputs": [],
   "source": []
  },
  {
   "cell_type": "markdown",
   "metadata": {
    "id": "mOUZSi180q0_"
   },
   "source": [
    "## Mensajes"
   ]
  },
  {
   "cell_type": "code",
   "execution_count": 15,
   "metadata": {
    "id": "R-bYJpdV0q1A",
    "trusted": true
   },
   "outputs": [
    {
     "name": "stdout",
     "output_type": "stream",
     "text": [
      "<class 'pandas.core.frame.DataFrame'>\n",
      "RangeIndex: 76051 entries, 0 to 76050\n",
      "Data columns (total 3 columns):\n",
      " #   Column        Non-Null Count  Dtype \n",
      "---  ------        --------------  ----- \n",
      " 0   id            76051 non-null  object\n",
      " 1   user_id       76051 non-null  int64 \n",
      " 2   message_date  76051 non-null  object\n",
      "dtypes: int64(1), object(2)\n",
      "memory usage: 1.7+ MB\n"
     ]
    }
   ],
   "source": [
    "# Imprime la información general/resumida sobre el DataFrame de los mensajes\n",
    "df_msg.info()"
   ]
  },
  {
   "cell_type": "code",
   "execution_count": 16,
   "metadata": {
    "id": "mCEl2iGE0q1A",
    "trusted": true
   },
   "outputs": [
    {
     "data": {
      "text/html": [
       "<div>\n",
       "<style scoped>\n",
       "    .dataframe tbody tr th:only-of-type {\n",
       "        vertical-align: middle;\n",
       "    }\n",
       "\n",
       "    .dataframe tbody tr th {\n",
       "        vertical-align: top;\n",
       "    }\n",
       "\n",
       "    .dataframe thead th {\n",
       "        text-align: right;\n",
       "    }\n",
       "</style>\n",
       "<table border=\"1\" class=\"dataframe\">\n",
       "  <thead>\n",
       "    <tr style=\"text-align: right;\">\n",
       "      <th></th>\n",
       "      <th>id</th>\n",
       "      <th>user_id</th>\n",
       "      <th>message_date</th>\n",
       "    </tr>\n",
       "  </thead>\n",
       "  <tbody>\n",
       "    <tr>\n",
       "      <th>0</th>\n",
       "      <td>1000_125</td>\n",
       "      <td>1000</td>\n",
       "      <td>2018-12-27</td>\n",
       "    </tr>\n",
       "    <tr>\n",
       "      <th>1</th>\n",
       "      <td>1000_160</td>\n",
       "      <td>1000</td>\n",
       "      <td>2018-12-31</td>\n",
       "    </tr>\n",
       "    <tr>\n",
       "      <th>2</th>\n",
       "      <td>1000_223</td>\n",
       "      <td>1000</td>\n",
       "      <td>2018-12-31</td>\n",
       "    </tr>\n",
       "    <tr>\n",
       "      <th>3</th>\n",
       "      <td>1000_251</td>\n",
       "      <td>1000</td>\n",
       "      <td>2018-12-27</td>\n",
       "    </tr>\n",
       "    <tr>\n",
       "      <th>4</th>\n",
       "      <td>1000_255</td>\n",
       "      <td>1000</td>\n",
       "      <td>2018-12-26</td>\n",
       "    </tr>\n",
       "  </tbody>\n",
       "</table>\n",
       "</div>"
      ],
      "text/plain": [
       "         id  user_id message_date\n",
       "0  1000_125     1000   2018-12-27\n",
       "1  1000_160     1000   2018-12-31\n",
       "2  1000_223     1000   2018-12-31\n",
       "3  1000_251     1000   2018-12-27\n",
       "4  1000_255     1000   2018-12-26"
      ]
     },
     "metadata": {},
     "output_type": "display_data"
    }
   ],
   "source": [
    "# Imprime una muestra de datos para los mensajes\n",
    "display(df_msg.head())"
   ]
  },
  {
   "cell_type": "markdown",
   "metadata": {
    "id": "04xDj7KH0q1A"
   },
   "source": [
    "[Describe lo que ves y observas en la información general y en la muestra de datos impresa para el precio de datos anterior. ¿Hay algún problema (tipos de datos no adecuados, datos ausentes, etc.) que pudieran necesitar investigación y cambios adicionales? ¿Cómo se puede arreglar?]\n",
    "\n",
    "**Yo cambiaría el tipo de user_id a tipo object, call_date a datetime y reacomodaría las columnas**"
   ]
  },
  {
   "cell_type": "markdown",
   "metadata": {
    "id": "Sprfak900q1B"
   },
   "source": [
    "### Corregir los datos"
   ]
  },
  {
   "cell_type": "markdown",
   "metadata": {
    "id": "eGw7d9j10q1B"
   },
   "source": [
    "[Corrige los problemas obvios con los datos basándote en las observaciones iniciales.]"
   ]
  },
  {
   "cell_type": "code",
   "execution_count": 17,
   "metadata": {
    "id": "vsllvkoa0q1B",
    "trusted": true
   },
   "outputs": [],
   "source": [
    "df_msg = df_msg[[\"user_id\",\"id\",\"message_date\"]]\n",
    "df_msg[\"user_id\"] = df_msg[\"user_id\"].astype(\"object\")                              # Conversión de tipo int a object \n",
    "df_msg[\"message_date\"] = pd.to_datetime(df_msg[\"message_date\"],format=\"%Y-%m-%d\")   # Convertir a datetime"
   ]
  },
  {
   "cell_type": "markdown",
   "metadata": {
    "id": "HvLid7iD0q1B"
   },
   "source": [
    "### Enriquecer los datos"
   ]
  },
  {
   "cell_type": "markdown",
   "metadata": {
    "id": "8nhPFKIe0q1C"
   },
   "source": [
    "[Agrega factores adicionales a los datos si crees que pudieran ser útiles.]"
   ]
  },
  {
   "cell_type": "code",
   "execution_count": null,
   "metadata": {
    "id": "zYEXZac10q1C",
    "trusted": true
   },
   "outputs": [],
   "source": []
  },
  {
   "cell_type": "markdown",
   "metadata": {
    "id": "bStkaxn40q1C"
   },
   "source": [
    "## Internet"
   ]
  },
  {
   "cell_type": "code",
   "execution_count": 18,
   "metadata": {
    "id": "e-Uz5qyn0q1C",
    "trusted": true
   },
   "outputs": [
    {
     "name": "stdout",
     "output_type": "stream",
     "text": [
      "<class 'pandas.core.frame.DataFrame'>\n",
      "RangeIndex: 104825 entries, 0 to 104824\n",
      "Data columns (total 4 columns):\n",
      " #   Column        Non-Null Count   Dtype  \n",
      "---  ------        --------------   -----  \n",
      " 0   id            104825 non-null  object \n",
      " 1   user_id       104825 non-null  int64  \n",
      " 2   session_date  104825 non-null  object \n",
      " 3   mb_used       104825 non-null  float64\n",
      "dtypes: float64(1), int64(1), object(2)\n",
      "memory usage: 3.2+ MB\n"
     ]
    }
   ],
   "source": [
    "# Imprime la información general/resumida sobre el DataFrame de internet\n",
    "df_wifi.info()"
   ]
  },
  {
   "cell_type": "code",
   "execution_count": 19,
   "metadata": {
    "id": "9r3x_XLw0q1C",
    "trusted": true
   },
   "outputs": [
    {
     "data": {
      "text/html": [
       "<div>\n",
       "<style scoped>\n",
       "    .dataframe tbody tr th:only-of-type {\n",
       "        vertical-align: middle;\n",
       "    }\n",
       "\n",
       "    .dataframe tbody tr th {\n",
       "        vertical-align: top;\n",
       "    }\n",
       "\n",
       "    .dataframe thead th {\n",
       "        text-align: right;\n",
       "    }\n",
       "</style>\n",
       "<table border=\"1\" class=\"dataframe\">\n",
       "  <thead>\n",
       "    <tr style=\"text-align: right;\">\n",
       "      <th></th>\n",
       "      <th>id</th>\n",
       "      <th>user_id</th>\n",
       "      <th>session_date</th>\n",
       "      <th>mb_used</th>\n",
       "    </tr>\n",
       "  </thead>\n",
       "  <tbody>\n",
       "    <tr>\n",
       "      <th>0</th>\n",
       "      <td>1000_13</td>\n",
       "      <td>1000</td>\n",
       "      <td>2018-12-29</td>\n",
       "      <td>89.86</td>\n",
       "    </tr>\n",
       "    <tr>\n",
       "      <th>1</th>\n",
       "      <td>1000_204</td>\n",
       "      <td>1000</td>\n",
       "      <td>2018-12-31</td>\n",
       "      <td>0.00</td>\n",
       "    </tr>\n",
       "    <tr>\n",
       "      <th>2</th>\n",
       "      <td>1000_379</td>\n",
       "      <td>1000</td>\n",
       "      <td>2018-12-28</td>\n",
       "      <td>660.40</td>\n",
       "    </tr>\n",
       "    <tr>\n",
       "      <th>3</th>\n",
       "      <td>1000_413</td>\n",
       "      <td>1000</td>\n",
       "      <td>2018-12-26</td>\n",
       "      <td>270.99</td>\n",
       "    </tr>\n",
       "    <tr>\n",
       "      <th>4</th>\n",
       "      <td>1000_442</td>\n",
       "      <td>1000</td>\n",
       "      <td>2018-12-27</td>\n",
       "      <td>880.22</td>\n",
       "    </tr>\n",
       "  </tbody>\n",
       "</table>\n",
       "</div>"
      ],
      "text/plain": [
       "         id  user_id session_date  mb_used\n",
       "0   1000_13     1000   2018-12-29    89.86\n",
       "1  1000_204     1000   2018-12-31     0.00\n",
       "2  1000_379     1000   2018-12-28   660.40\n",
       "3  1000_413     1000   2018-12-26   270.99\n",
       "4  1000_442     1000   2018-12-27   880.22"
      ]
     },
     "metadata": {},
     "output_type": "display_data"
    }
   ],
   "source": [
    "# Imprime una muestra de datos para el tráfico de internet\n",
    "display(df_wifi.head())"
   ]
  },
  {
   "cell_type": "markdown",
   "metadata": {
    "id": "EzOG5ik30q1D"
   },
   "source": [
    "[Describe lo que ves y observas en la información general y en la muestra de datos impresa para el precio de datos anterior. ¿Hay algún problema (tipos de datos no adecuados, datos ausentes, etc.) que pudieran necesitar investigación y cambios adicionales? ¿Cómo se puede arreglar?]\n",
    "\n",
    "**Yo cambiaría el tipo de user_id a tipo object, call_date a datetime y reacomodaría las columnas**"
   ]
  },
  {
   "cell_type": "markdown",
   "metadata": {
    "id": "yA0tkPFg0q1D"
   },
   "source": [
    "### Corregir los datos"
   ]
  },
  {
   "cell_type": "markdown",
   "metadata": {
    "id": "zlZMuIEK0q1D"
   },
   "source": [
    "[Corrige los problemas obvios con los datos basándote en las observaciones iniciales.]"
   ]
  },
  {
   "cell_type": "code",
   "execution_count": 20,
   "metadata": {
    "id": "zVeanzdd0q1E",
    "trusted": true
   },
   "outputs": [],
   "source": [
    "df_wifi = df_wifi[[\"user_id\",\"id\",\"mb_used\",\"session_date\"]]\n",
    "df_wifi[\"user_id\"] = df_wifi[\"user_id\"].astype(\"object\")                              # Conversión de tipo int a object \n",
    "df_wifi[\"session_date\"] = pd.to_datetime(df_wifi[\"session_date\"],format=\"%Y-%m-%d\")   # Convertir a datetime "
   ]
  },
  {
   "cell_type": "markdown",
   "metadata": {
    "id": "e8_mLF4a0q1E"
   },
   "source": [
    "### Enriquecer los datos"
   ]
  },
  {
   "cell_type": "markdown",
   "metadata": {
    "id": "xhNdn2tE0q1E"
   },
   "source": [
    "[Agrega factores adicionales a los datos si crees que pudieran ser útiles.]"
   ]
  },
  {
   "cell_type": "code",
   "execution_count": null,
   "metadata": {
    "id": "ESiYPIEK0q1E",
    "trusted": true
   },
   "outputs": [],
   "source": []
  },
  {
   "cell_type": "markdown",
   "metadata": {
    "id": "3UA2cqIW0q1E"
   },
   "source": [
    "## Estudiar las condiciones de las tarifas"
   ]
  },
  {
   "cell_type": "markdown",
   "metadata": {
    "id": "T86Sqltq0q1F"
   },
   "source": [
    "[Es sumamente importante entender cómo funcionan las tarifas, cómo se les cobra a los usuarios en función de su plan de suscripción. Así que te sugerimos imprimir la información de la tarifa para ver una vez más sus condiciones.]"
   ]
  },
  {
   "cell_type": "code",
   "execution_count": 21,
   "metadata": {
    "id": "i409op8p0q1F",
    "trusted": true
   },
   "outputs": [
    {
     "data": {
      "text/html": [
       "<div>\n",
       "<style scoped>\n",
       "    .dataframe tbody tr th:only-of-type {\n",
       "        vertical-align: middle;\n",
       "    }\n",
       "\n",
       "    .dataframe tbody tr th {\n",
       "        vertical-align: top;\n",
       "    }\n",
       "\n",
       "    .dataframe thead th {\n",
       "        text-align: right;\n",
       "    }\n",
       "</style>\n",
       "<table border=\"1\" class=\"dataframe\">\n",
       "  <thead>\n",
       "    <tr style=\"text-align: right;\">\n",
       "      <th></th>\n",
       "      <th>plan</th>\n",
       "      <th>usd_monthly_pay</th>\n",
       "      <th>minutes_included</th>\n",
       "      <th>usd_per_minute</th>\n",
       "      <th>messages_included</th>\n",
       "      <th>usd_per_message</th>\n",
       "      <th>mb_per_month_included</th>\n",
       "      <th>usd_per_mb</th>\n",
       "    </tr>\n",
       "  </thead>\n",
       "  <tbody>\n",
       "    <tr>\n",
       "      <th>0</th>\n",
       "      <td>surf</td>\n",
       "      <td>20</td>\n",
       "      <td>500</td>\n",
       "      <td>0.03</td>\n",
       "      <td>50</td>\n",
       "      <td>0.03</td>\n",
       "      <td>15360</td>\n",
       "      <td>0.009766</td>\n",
       "    </tr>\n",
       "    <tr>\n",
       "      <th>1</th>\n",
       "      <td>ultimate</td>\n",
       "      <td>70</td>\n",
       "      <td>3000</td>\n",
       "      <td>0.01</td>\n",
       "      <td>1000</td>\n",
       "      <td>0.01</td>\n",
       "      <td>30720</td>\n",
       "      <td>0.006836</td>\n",
       "    </tr>\n",
       "  </tbody>\n",
       "</table>\n",
       "</div>"
      ],
      "text/plain": [
       "       plan  usd_monthly_pay  minutes_included  usd_per_minute  \\\n",
       "0      surf               20               500            0.03   \n",
       "1  ultimate               70              3000            0.01   \n",
       "\n",
       "   messages_included  usd_per_message  mb_per_month_included  usd_per_mb  \n",
       "0                 50             0.03                  15360    0.009766  \n",
       "1               1000             0.01                  30720    0.006836  "
      ]
     },
     "metadata": {},
     "output_type": "display_data"
    }
   ],
   "source": [
    "# Imprime las condiciones de la tarifa y asegúrate de que te quedan claras\n",
    "df_plans = df_plans.rename(columns={\"plan_name\":\"plan\"})\n",
    "display(df_plans)"
   ]
  },
  {
   "cell_type": "markdown",
   "metadata": {
    "id": "hMR1tP5d0q1F"
   },
   "source": [
    "## Agregar datos por usuario\n",
    "\n",
    "[Ahora que los datos están limpios, agrega los datos por usuario y por periodo para que solo haya un registro por usuario y por periodo. Esto facilitará mucho el análisis posterior.]"
   ]
  },
  {
   "cell_type": "code",
   "execution_count": 22,
   "metadata": {
    "id": "A332cedB0q1G",
    "trusted": true
   },
   "outputs": [
    {
     "name": "stdout",
     "output_type": "stream",
     "text": [
      "      user_id  month  calls_per_month\n",
      "0        1000     12               16\n",
      "1        1001      8               27\n",
      "2        1001      9               49\n",
      "3        1001     10               65\n",
      "4        1001     11               64\n",
      "...       ...    ...              ...\n",
      "2253     1498     12               39\n",
      "2254     1499      9               41\n",
      "2255     1499     10               53\n",
      "2256     1499     11               45\n",
      "2257     1499     12               65\n",
      "\n",
      "[2258 rows x 3 columns]\n"
     ]
    }
   ],
   "source": [
    "# Calcula el número de llamadas hechas por cada usuario al mes. Guarda el resultado.\n",
    "df_calls[\"month\"] = df_calls[\"call_date\"].dt.month\n",
    "df_calls_per_month = df_calls.groupby(by=[\"user_id\",\"month\"]).count()\n",
    "df_calls_per_month = df_calls_per_month.reset_index()\n",
    "df_calls_per_month = df_calls_per_month.drop([\"duration\",\"call_date\"],axis=1)\n",
    "df_calls_per_month = df_calls_per_month.rename(columns={\"id\":\"calls_per_month\"})\n",
    "print(df_calls_per_month)"
   ]
  },
  {
   "cell_type": "code",
   "execution_count": 23,
   "metadata": {
    "id": "aw2cmuql0q1G",
    "trusted": true
   },
   "outputs": [
    {
     "name": "stdout",
     "output_type": "stream",
     "text": [
      "      user_id  month  duration\n",
      "0        1000     12    116.83\n",
      "1        1001      8    171.14\n",
      "2        1001      9    297.69\n",
      "3        1001     10    374.11\n",
      "4        1001     11    404.59\n",
      "...       ...    ...       ...\n",
      "2253     1498     12    324.77\n",
      "2254     1499      9    330.37\n",
      "2255     1499     10    363.28\n",
      "2256     1499     11    288.56\n",
      "2257     1499     12    468.10\n",
      "\n",
      "[2258 rows x 3 columns]\n"
     ]
    }
   ],
   "source": [
    "# Calcula la cantidad de minutos usados por cada usuario al mes. Guarda el resultado.\n",
    "df_time_calls_per_month = df_calls.drop([\"call_date\",\"id\"],axis=1)\n",
    "df_time_calls_per_month = df_time_calls_per_month.groupby(by=[\"user_id\",\"month\"]).sum()\n",
    "df_time_calls_per_month = df_time_calls_per_month.reset_index()\n",
    "print(df_time_calls_per_month)"
   ]
  },
  {
   "cell_type": "code",
   "execution_count": 24,
   "metadata": {
    "id": "CcQvNHn60q1G",
    "trusted": true
   },
   "outputs": [
    {
     "name": "stdout",
     "output_type": "stream",
     "text": [
      "      user_id  month  quantity_msg\n",
      "0        1000     12            11\n",
      "1        1001      8            30\n",
      "2        1001      9            44\n",
      "3        1001     10            53\n",
      "4        1001     11            36\n",
      "...       ...    ...           ...\n",
      "1801     1496      9            21\n",
      "1802     1496     10            18\n",
      "1803     1496     11            13\n",
      "1804     1496     12            11\n",
      "1805     1497     12            50\n",
      "\n",
      "[1806 rows x 3 columns]\n"
     ]
    }
   ],
   "source": [
    "# Calcula el número de mensajes enviados por cada usuario al mes. Guarda el resultado.\n",
    "df_msg[\"month\"] = df_msg[\"message_date\"].dt.month\n",
    "df_msg_per_month = df_msg.groupby([\"user_id\",\"month\"]).count()\n",
    "df_msg_per_month = df_msg_per_month.reset_index()\n",
    "df_msg_per_month = df_msg_per_month.drop(\"message_date\",axis=1)\n",
    "df_msg_per_month = df_msg_per_month.rename(columns={\"id\":\"quantity_msg\"})\n",
    "print(df_msg_per_month)"
   ]
  },
  {
   "cell_type": "code",
   "execution_count": 25,
   "metadata": {
    "id": "H1AqN2eG0q1H",
    "trusted": true
   },
   "outputs": [
    {
     "name": "stdout",
     "output_type": "stream",
     "text": [
      "      user_id  month   mb_used\n",
      "0        1000     12   1901.47\n",
      "1        1001      8   6919.15\n",
      "2        1001      9  13314.82\n",
      "3        1001     10  22330.49\n",
      "4        1001     11  18504.30\n",
      "...       ...    ...       ...\n",
      "2272     1498     12  23137.69\n",
      "2273     1499      9  12984.76\n",
      "2274     1499     10  19492.43\n",
      "2275     1499     11  16813.83\n",
      "2276     1499     12  22059.21\n",
      "\n",
      "[2277 rows x 3 columns]\n"
     ]
    }
   ],
   "source": [
    "# Calcula el volumen del tráfico de Internet usado por cada usuario al mes. Guarda el resultado.\n",
    "df_wifi[\"month\"] = df_wifi[\"session_date\"].dt.month\n",
    "df_wifi = df_wifi.drop([\"session_date\",\"id\"],axis=1)\n",
    "df_wifi_per_month = df_wifi.groupby([\"user_id\",\"month\"]).sum()\n",
    "df_wifi_per_month = df_wifi_per_month.reset_index()\n",
    "print(df_wifi_per_month)"
   ]
  },
  {
   "cell_type": "markdown",
   "metadata": {
    "id": "VDfYXnj80q1H"
   },
   "source": [
    "[Junta los datos agregados en un DataFrame para que haya un registro que represente lo que consumió un usuario único en un mes determinado.]"
   ]
  },
  {
   "cell_type": "code",
   "execution_count": 26,
   "metadata": {
    "id": "FW99ykyf0q1H",
    "scrolled": true,
    "trusted": true
   },
   "outputs": [
    {
     "name": "stdout",
     "output_type": "stream",
     "text": [
      "      user_id  month  calls_per_month  duration  quantity_msg   mb_used\n",
      "0        1000     12             16.0    116.83          11.0   1901.47\n",
      "1        1001      8             27.0    171.14          30.0   6919.15\n",
      "2        1001      9             49.0    297.69          44.0  13314.82\n",
      "3        1001     10             65.0    374.11          53.0  22330.49\n",
      "4        1001     11             64.0    404.59          36.0  18504.30\n",
      "...       ...    ...              ...       ...           ...       ...\n",
      "2288     1349     12              NaN       NaN          61.0  13039.91\n",
      "2289     1361      5              NaN       NaN           2.0   1519.69\n",
      "2290     1482     10              NaN       NaN           2.0       NaN\n",
      "2291     1108     12              NaN       NaN           NaN    233.17\n",
      "2292     1311      6              NaN       NaN           NaN   1498.83\n",
      "\n",
      "[2293 rows x 6 columns]\n"
     ]
    }
   ],
   "source": [
    "# Fusiona los datos de llamadas, minutos, mensajes e Internet con base en user_id y month\n",
    "general_df = df_calls_per_month.merge(df_time_calls_per_month,on=[\"user_id\",\"month\"])\n",
    "general_df = general_df.merge(df_msg_per_month,on=[\"user_id\",\"month\"],how=\"outer\")\n",
    "general_df = general_df.merge(df_wifi_per_month,on=[\"user_id\",\"month\"],how=\"outer\")\n",
    "print(general_df)"
   ]
  },
  {
   "cell_type": "code",
   "execution_count": 27,
   "metadata": {
    "id": "0dNOXHag0q1H",
    "trusted": true
   },
   "outputs": [
    {
     "data": {
      "text/html": [
       "<div>\n",
       "<style scoped>\n",
       "    .dataframe tbody tr th:only-of-type {\n",
       "        vertical-align: middle;\n",
       "    }\n",
       "\n",
       "    .dataframe tbody tr th {\n",
       "        vertical-align: top;\n",
       "    }\n",
       "\n",
       "    .dataframe thead th {\n",
       "        text-align: right;\n",
       "    }\n",
       "</style>\n",
       "<table border=\"1\" class=\"dataframe\">\n",
       "  <thead>\n",
       "    <tr style=\"text-align: right;\">\n",
       "      <th></th>\n",
       "      <th>user_id</th>\n",
       "      <th>plan</th>\n",
       "      <th>usd_monthly_pay</th>\n",
       "      <th>month</th>\n",
       "      <th>minutes_included</th>\n",
       "      <th>calls_per_month</th>\n",
       "      <th>duration</th>\n",
       "      <th>usd_per_minute</th>\n",
       "      <th>messages_included</th>\n",
       "      <th>quantity_msg</th>\n",
       "      <th>usd_per_message</th>\n",
       "      <th>mb_per_month_included</th>\n",
       "      <th>mb_used</th>\n",
       "      <th>usd_per_mb</th>\n",
       "    </tr>\n",
       "  </thead>\n",
       "  <tbody>\n",
       "    <tr>\n",
       "      <th>0</th>\n",
       "      <td>1000</td>\n",
       "      <td>ultimate</td>\n",
       "      <td>70</td>\n",
       "      <td>12</td>\n",
       "      <td>3000</td>\n",
       "      <td>16.0</td>\n",
       "      <td>116.83</td>\n",
       "      <td>0.01</td>\n",
       "      <td>1000</td>\n",
       "      <td>11.0</td>\n",
       "      <td>0.01</td>\n",
       "      <td>30720</td>\n",
       "      <td>1901.47</td>\n",
       "      <td>0.006836</td>\n",
       "    </tr>\n",
       "    <tr>\n",
       "      <th>1</th>\n",
       "      <td>1006</td>\n",
       "      <td>ultimate</td>\n",
       "      <td>70</td>\n",
       "      <td>11</td>\n",
       "      <td>3000</td>\n",
       "      <td>2.0</td>\n",
       "      <td>9.32</td>\n",
       "      <td>0.01</td>\n",
       "      <td>1000</td>\n",
       "      <td>15.0</td>\n",
       "      <td>0.01</td>\n",
       "      <td>30720</td>\n",
       "      <td>2068.37</td>\n",
       "      <td>0.006836</td>\n",
       "    </tr>\n",
       "    <tr>\n",
       "      <th>2</th>\n",
       "      <td>1006</td>\n",
       "      <td>ultimate</td>\n",
       "      <td>70</td>\n",
       "      <td>12</td>\n",
       "      <td>3000</td>\n",
       "      <td>9.0</td>\n",
       "      <td>54.79</td>\n",
       "      <td>0.01</td>\n",
       "      <td>1000</td>\n",
       "      <td>139.0</td>\n",
       "      <td>0.01</td>\n",
       "      <td>30720</td>\n",
       "      <td>32118.82</td>\n",
       "      <td>0.006836</td>\n",
       "    </tr>\n",
       "    <tr>\n",
       "      <th>3</th>\n",
       "      <td>1008</td>\n",
       "      <td>ultimate</td>\n",
       "      <td>70</td>\n",
       "      <td>10</td>\n",
       "      <td>3000</td>\n",
       "      <td>71.0</td>\n",
       "      <td>450.21</td>\n",
       "      <td>0.01</td>\n",
       "      <td>1000</td>\n",
       "      <td>21.0</td>\n",
       "      <td>0.01</td>\n",
       "      <td>30720</td>\n",
       "      <td>17106.99</td>\n",
       "      <td>0.006836</td>\n",
       "    </tr>\n",
       "    <tr>\n",
       "      <th>4</th>\n",
       "      <td>1008</td>\n",
       "      <td>ultimate</td>\n",
       "      <td>70</td>\n",
       "      <td>11</td>\n",
       "      <td>3000</td>\n",
       "      <td>63.0</td>\n",
       "      <td>422.81</td>\n",
       "      <td>0.01</td>\n",
       "      <td>1000</td>\n",
       "      <td>37.0</td>\n",
       "      <td>0.01</td>\n",
       "      <td>30720</td>\n",
       "      <td>23676.72</td>\n",
       "      <td>0.006836</td>\n",
       "    </tr>\n",
       "    <tr>\n",
       "      <th>...</th>\n",
       "      <td>...</td>\n",
       "      <td>...</td>\n",
       "      <td>...</td>\n",
       "      <td>...</td>\n",
       "      <td>...</td>\n",
       "      <td>...</td>\n",
       "      <td>...</td>\n",
       "      <td>...</td>\n",
       "      <td>...</td>\n",
       "      <td>...</td>\n",
       "      <td>...</td>\n",
       "      <td>...</td>\n",
       "      <td>...</td>\n",
       "      <td>...</td>\n",
       "    </tr>\n",
       "    <tr>\n",
       "      <th>2288</th>\n",
       "      <td>1194</td>\n",
       "      <td>surf</td>\n",
       "      <td>20</td>\n",
       "      <td>11</td>\n",
       "      <td>500</td>\n",
       "      <td>NaN</td>\n",
       "      <td>NaN</td>\n",
       "      <td>0.03</td>\n",
       "      <td>50</td>\n",
       "      <td>62.0</td>\n",
       "      <td>0.03</td>\n",
       "      <td>15360</td>\n",
       "      <td>42866.10</td>\n",
       "      <td>0.009766</td>\n",
       "    </tr>\n",
       "    <tr>\n",
       "      <th>2289</th>\n",
       "      <td>1194</td>\n",
       "      <td>surf</td>\n",
       "      <td>20</td>\n",
       "      <td>12</td>\n",
       "      <td>500</td>\n",
       "      <td>NaN</td>\n",
       "      <td>NaN</td>\n",
       "      <td>0.03</td>\n",
       "      <td>50</td>\n",
       "      <td>56.0</td>\n",
       "      <td>0.03</td>\n",
       "      <td>15360</td>\n",
       "      <td>31088.49</td>\n",
       "      <td>0.009766</td>\n",
       "    </tr>\n",
       "    <tr>\n",
       "      <th>2290</th>\n",
       "      <td>1349</td>\n",
       "      <td>surf</td>\n",
       "      <td>20</td>\n",
       "      <td>10</td>\n",
       "      <td>500</td>\n",
       "      <td>NaN</td>\n",
       "      <td>NaN</td>\n",
       "      <td>0.03</td>\n",
       "      <td>50</td>\n",
       "      <td>76.0</td>\n",
       "      <td>0.03</td>\n",
       "      <td>15360</td>\n",
       "      <td>13093.55</td>\n",
       "      <td>0.009766</td>\n",
       "    </tr>\n",
       "    <tr>\n",
       "      <th>2291</th>\n",
       "      <td>1349</td>\n",
       "      <td>surf</td>\n",
       "      <td>20</td>\n",
       "      <td>11</td>\n",
       "      <td>500</td>\n",
       "      <td>NaN</td>\n",
       "      <td>NaN</td>\n",
       "      <td>0.03</td>\n",
       "      <td>50</td>\n",
       "      <td>72.0</td>\n",
       "      <td>0.03</td>\n",
       "      <td>15360</td>\n",
       "      <td>17128.26</td>\n",
       "      <td>0.009766</td>\n",
       "    </tr>\n",
       "    <tr>\n",
       "      <th>2292</th>\n",
       "      <td>1349</td>\n",
       "      <td>surf</td>\n",
       "      <td>20</td>\n",
       "      <td>12</td>\n",
       "      <td>500</td>\n",
       "      <td>NaN</td>\n",
       "      <td>NaN</td>\n",
       "      <td>0.03</td>\n",
       "      <td>50</td>\n",
       "      <td>61.0</td>\n",
       "      <td>0.03</td>\n",
       "      <td>15360</td>\n",
       "      <td>13039.91</td>\n",
       "      <td>0.009766</td>\n",
       "    </tr>\n",
       "  </tbody>\n",
       "</table>\n",
       "<p>2293 rows × 14 columns</p>\n",
       "</div>"
      ],
      "text/plain": [
       "     user_id      plan  usd_monthly_pay  month  minutes_included  \\\n",
       "0       1000  ultimate               70     12              3000   \n",
       "1       1006  ultimate               70     11              3000   \n",
       "2       1006  ultimate               70     12              3000   \n",
       "3       1008  ultimate               70     10              3000   \n",
       "4       1008  ultimate               70     11              3000   \n",
       "...      ...       ...              ...    ...               ...   \n",
       "2288    1194      surf               20     11               500   \n",
       "2289    1194      surf               20     12               500   \n",
       "2290    1349      surf               20     10               500   \n",
       "2291    1349      surf               20     11               500   \n",
       "2292    1349      surf               20     12               500   \n",
       "\n",
       "      calls_per_month  duration  usd_per_minute  messages_included  \\\n",
       "0                16.0    116.83            0.01               1000   \n",
       "1                 2.0      9.32            0.01               1000   \n",
       "2                 9.0     54.79            0.01               1000   \n",
       "3                71.0    450.21            0.01               1000   \n",
       "4                63.0    422.81            0.01               1000   \n",
       "...               ...       ...             ...                ...   \n",
       "2288              NaN       NaN            0.03                 50   \n",
       "2289              NaN       NaN            0.03                 50   \n",
       "2290              NaN       NaN            0.03                 50   \n",
       "2291              NaN       NaN            0.03                 50   \n",
       "2292              NaN       NaN            0.03                 50   \n",
       "\n",
       "      quantity_msg  usd_per_message  mb_per_month_included   mb_used  \\\n",
       "0             11.0             0.01                  30720   1901.47   \n",
       "1             15.0             0.01                  30720   2068.37   \n",
       "2            139.0             0.01                  30720  32118.82   \n",
       "3             21.0             0.01                  30720  17106.99   \n",
       "4             37.0             0.01                  30720  23676.72   \n",
       "...            ...              ...                    ...       ...   \n",
       "2288          62.0             0.03                  15360  42866.10   \n",
       "2289          56.0             0.03                  15360  31088.49   \n",
       "2290          76.0             0.03                  15360  13093.55   \n",
       "2291          72.0             0.03                  15360  17128.26   \n",
       "2292          61.0             0.03                  15360  13039.91   \n",
       "\n",
       "      usd_per_mb  \n",
       "0       0.006836  \n",
       "1       0.006836  \n",
       "2       0.006836  \n",
       "3       0.006836  \n",
       "4       0.006836  \n",
       "...          ...  \n",
       "2288    0.009766  \n",
       "2289    0.009766  \n",
       "2290    0.009766  \n",
       "2291    0.009766  \n",
       "2292    0.009766  \n",
       "\n",
       "[2293 rows x 14 columns]"
      ]
     },
     "metadata": {},
     "output_type": "display_data"
    }
   ],
   "source": [
    "# Añade la información de la tarifa\n",
    "general_df = general_df.merge(df_users,on=\"user_id\")\n",
    "general_df = general_df.drop([\"first_name\",\"last_name\",\"age\",\"city\",\"reg_date\",\"churn_date\"],axis=1)\n",
    "general_df = general_df.merge(df_plans,on=\"plan\")\n",
    "general_df = general_df[[\"user_id\",\"plan\",\"usd_monthly_pay\",\"month\",\"minutes_included\",\"calls_per_month\",\"duration\",\"usd_per_minute\",\"messages_included\",\"quantity_msg\",\"usd_per_message\",\"mb_per_month_included\",\"mb_used\",\"usd_per_mb\"]]\n",
    "display(general_df)"
   ]
  },
  {
   "cell_type": "markdown",
   "metadata": {
    "id": "1IwGo4wg0q1I"
   },
   "source": [
    "[Calcula los ingresos mensuales por usuario (resta el límite del paquete gratuito del número total de llamadas, mensajes de texto y datos; multiplica el resultado por el valor del plan de llamadas; añade la tarifa mensual en función del plan de llamadas). Nota: Dadas las condiciones del plan, ¡esto podría no ser tan trivial como un par de líneas! Así que no pasa nada si dedicas algo de tiempo a ello.]"
   ]
  },
  {
   "cell_type": "code",
   "execution_count": 28,
   "metadata": {
    "id": "5FGCf_c60q1I",
    "trusted": true
   },
   "outputs": [
    {
     "data": {
      "text/html": [
       "<div>\n",
       "<style scoped>\n",
       "    .dataframe tbody tr th:only-of-type {\n",
       "        vertical-align: middle;\n",
       "    }\n",
       "\n",
       "    .dataframe tbody tr th {\n",
       "        vertical-align: top;\n",
       "    }\n",
       "\n",
       "    .dataframe thead th {\n",
       "        text-align: right;\n",
       "    }\n",
       "</style>\n",
       "<table border=\"1\" class=\"dataframe\">\n",
       "  <thead>\n",
       "    <tr style=\"text-align: right;\">\n",
       "      <th></th>\n",
       "      <th>user_id</th>\n",
       "      <th>plan</th>\n",
       "      <th>usd_monthly_pay</th>\n",
       "      <th>month</th>\n",
       "      <th>minutes_included</th>\n",
       "      <th>calls_per_month</th>\n",
       "      <th>duration</th>\n",
       "      <th>usd_per_minute</th>\n",
       "      <th>messages_included</th>\n",
       "      <th>quantity_msg</th>\n",
       "      <th>usd_per_message</th>\n",
       "      <th>mb_per_month_included</th>\n",
       "      <th>mb_used</th>\n",
       "      <th>usd_per_mb</th>\n",
       "      <th>extra_charge_calls</th>\n",
       "      <th>extra_charge_msg</th>\n",
       "      <th>extra_charge_mb</th>\n",
       "      <th>total_fee</th>\n",
       "    </tr>\n",
       "  </thead>\n",
       "  <tbody>\n",
       "    <tr>\n",
       "      <th>0</th>\n",
       "      <td>1000</td>\n",
       "      <td>ultimate</td>\n",
       "      <td>70</td>\n",
       "      <td>12</td>\n",
       "      <td>3000</td>\n",
       "      <td>16.0</td>\n",
       "      <td>116.83</td>\n",
       "      <td>0.01</td>\n",
       "      <td>1000</td>\n",
       "      <td>11.0</td>\n",
       "      <td>0.01</td>\n",
       "      <td>30720</td>\n",
       "      <td>1901.47</td>\n",
       "      <td>0.006836</td>\n",
       "      <td>0.0</td>\n",
       "      <td>0.00</td>\n",
       "      <td>0.000000</td>\n",
       "      <td>70.000000</td>\n",
       "    </tr>\n",
       "    <tr>\n",
       "      <th>1</th>\n",
       "      <td>1006</td>\n",
       "      <td>ultimate</td>\n",
       "      <td>70</td>\n",
       "      <td>11</td>\n",
       "      <td>3000</td>\n",
       "      <td>2.0</td>\n",
       "      <td>9.32</td>\n",
       "      <td>0.01</td>\n",
       "      <td>1000</td>\n",
       "      <td>15.0</td>\n",
       "      <td>0.01</td>\n",
       "      <td>30720</td>\n",
       "      <td>2068.37</td>\n",
       "      <td>0.006836</td>\n",
       "      <td>0.0</td>\n",
       "      <td>0.00</td>\n",
       "      <td>0.000000</td>\n",
       "      <td>70.000000</td>\n",
       "    </tr>\n",
       "    <tr>\n",
       "      <th>2</th>\n",
       "      <td>1006</td>\n",
       "      <td>ultimate</td>\n",
       "      <td>70</td>\n",
       "      <td>12</td>\n",
       "      <td>3000</td>\n",
       "      <td>9.0</td>\n",
       "      <td>54.79</td>\n",
       "      <td>0.01</td>\n",
       "      <td>1000</td>\n",
       "      <td>139.0</td>\n",
       "      <td>0.01</td>\n",
       "      <td>30720</td>\n",
       "      <td>32118.82</td>\n",
       "      <td>0.006836</td>\n",
       "      <td>0.0</td>\n",
       "      <td>0.00</td>\n",
       "      <td>9.562246</td>\n",
       "      <td>79.562246</td>\n",
       "    </tr>\n",
       "    <tr>\n",
       "      <th>3</th>\n",
       "      <td>1008</td>\n",
       "      <td>ultimate</td>\n",
       "      <td>70</td>\n",
       "      <td>10</td>\n",
       "      <td>3000</td>\n",
       "      <td>71.0</td>\n",
       "      <td>450.21</td>\n",
       "      <td>0.01</td>\n",
       "      <td>1000</td>\n",
       "      <td>21.0</td>\n",
       "      <td>0.01</td>\n",
       "      <td>30720</td>\n",
       "      <td>17106.99</td>\n",
       "      <td>0.006836</td>\n",
       "      <td>0.0</td>\n",
       "      <td>0.00</td>\n",
       "      <td>0.000000</td>\n",
       "      <td>70.000000</td>\n",
       "    </tr>\n",
       "    <tr>\n",
       "      <th>4</th>\n",
       "      <td>1008</td>\n",
       "      <td>ultimate</td>\n",
       "      <td>70</td>\n",
       "      <td>11</td>\n",
       "      <td>3000</td>\n",
       "      <td>63.0</td>\n",
       "      <td>422.81</td>\n",
       "      <td>0.01</td>\n",
       "      <td>1000</td>\n",
       "      <td>37.0</td>\n",
       "      <td>0.01</td>\n",
       "      <td>30720</td>\n",
       "      <td>23676.72</td>\n",
       "      <td>0.006836</td>\n",
       "      <td>0.0</td>\n",
       "      <td>0.00</td>\n",
       "      <td>0.000000</td>\n",
       "      <td>70.000000</td>\n",
       "    </tr>\n",
       "    <tr>\n",
       "      <th>...</th>\n",
       "      <td>...</td>\n",
       "      <td>...</td>\n",
       "      <td>...</td>\n",
       "      <td>...</td>\n",
       "      <td>...</td>\n",
       "      <td>...</td>\n",
       "      <td>...</td>\n",
       "      <td>...</td>\n",
       "      <td>...</td>\n",
       "      <td>...</td>\n",
       "      <td>...</td>\n",
       "      <td>...</td>\n",
       "      <td>...</td>\n",
       "      <td>...</td>\n",
       "      <td>...</td>\n",
       "      <td>...</td>\n",
       "      <td>...</td>\n",
       "      <td>...</td>\n",
       "    </tr>\n",
       "    <tr>\n",
       "      <th>2288</th>\n",
       "      <td>1194</td>\n",
       "      <td>surf</td>\n",
       "      <td>20</td>\n",
       "      <td>11</td>\n",
       "      <td>500</td>\n",
       "      <td>NaN</td>\n",
       "      <td>NaN</td>\n",
       "      <td>0.03</td>\n",
       "      <td>50</td>\n",
       "      <td>62.0</td>\n",
       "      <td>0.03</td>\n",
       "      <td>15360</td>\n",
       "      <td>42866.10</td>\n",
       "      <td>0.009766</td>\n",
       "      <td>0.0</td>\n",
       "      <td>0.36</td>\n",
       "      <td>268.614258</td>\n",
       "      <td>288.974258</td>\n",
       "    </tr>\n",
       "    <tr>\n",
       "      <th>2289</th>\n",
       "      <td>1194</td>\n",
       "      <td>surf</td>\n",
       "      <td>20</td>\n",
       "      <td>12</td>\n",
       "      <td>500</td>\n",
       "      <td>NaN</td>\n",
       "      <td>NaN</td>\n",
       "      <td>0.03</td>\n",
       "      <td>50</td>\n",
       "      <td>56.0</td>\n",
       "      <td>0.03</td>\n",
       "      <td>15360</td>\n",
       "      <td>31088.49</td>\n",
       "      <td>0.009766</td>\n",
       "      <td>0.0</td>\n",
       "      <td>0.18</td>\n",
       "      <td>153.598535</td>\n",
       "      <td>173.778535</td>\n",
       "    </tr>\n",
       "    <tr>\n",
       "      <th>2290</th>\n",
       "      <td>1349</td>\n",
       "      <td>surf</td>\n",
       "      <td>20</td>\n",
       "      <td>10</td>\n",
       "      <td>500</td>\n",
       "      <td>NaN</td>\n",
       "      <td>NaN</td>\n",
       "      <td>0.03</td>\n",
       "      <td>50</td>\n",
       "      <td>76.0</td>\n",
       "      <td>0.03</td>\n",
       "      <td>15360</td>\n",
       "      <td>13093.55</td>\n",
       "      <td>0.009766</td>\n",
       "      <td>0.0</td>\n",
       "      <td>0.78</td>\n",
       "      <td>0.000000</td>\n",
       "      <td>20.780000</td>\n",
       "    </tr>\n",
       "    <tr>\n",
       "      <th>2291</th>\n",
       "      <td>1349</td>\n",
       "      <td>surf</td>\n",
       "      <td>20</td>\n",
       "      <td>11</td>\n",
       "      <td>500</td>\n",
       "      <td>NaN</td>\n",
       "      <td>NaN</td>\n",
       "      <td>0.03</td>\n",
       "      <td>50</td>\n",
       "      <td>72.0</td>\n",
       "      <td>0.03</td>\n",
       "      <td>15360</td>\n",
       "      <td>17128.26</td>\n",
       "      <td>0.009766</td>\n",
       "      <td>0.0</td>\n",
       "      <td>0.66</td>\n",
       "      <td>17.268164</td>\n",
       "      <td>37.928164</td>\n",
       "    </tr>\n",
       "    <tr>\n",
       "      <th>2292</th>\n",
       "      <td>1349</td>\n",
       "      <td>surf</td>\n",
       "      <td>20</td>\n",
       "      <td>12</td>\n",
       "      <td>500</td>\n",
       "      <td>NaN</td>\n",
       "      <td>NaN</td>\n",
       "      <td>0.03</td>\n",
       "      <td>50</td>\n",
       "      <td>61.0</td>\n",
       "      <td>0.03</td>\n",
       "      <td>15360</td>\n",
       "      <td>13039.91</td>\n",
       "      <td>0.009766</td>\n",
       "      <td>0.0</td>\n",
       "      <td>0.33</td>\n",
       "      <td>0.000000</td>\n",
       "      <td>20.330000</td>\n",
       "    </tr>\n",
       "  </tbody>\n",
       "</table>\n",
       "<p>2293 rows × 18 columns</p>\n",
       "</div>"
      ],
      "text/plain": [
       "     user_id      plan  usd_monthly_pay  month  minutes_included  \\\n",
       "0       1000  ultimate               70     12              3000   \n",
       "1       1006  ultimate               70     11              3000   \n",
       "2       1006  ultimate               70     12              3000   \n",
       "3       1008  ultimate               70     10              3000   \n",
       "4       1008  ultimate               70     11              3000   \n",
       "...      ...       ...              ...    ...               ...   \n",
       "2288    1194      surf               20     11               500   \n",
       "2289    1194      surf               20     12               500   \n",
       "2290    1349      surf               20     10               500   \n",
       "2291    1349      surf               20     11               500   \n",
       "2292    1349      surf               20     12               500   \n",
       "\n",
       "      calls_per_month  duration  usd_per_minute  messages_included  \\\n",
       "0                16.0    116.83            0.01               1000   \n",
       "1                 2.0      9.32            0.01               1000   \n",
       "2                 9.0     54.79            0.01               1000   \n",
       "3                71.0    450.21            0.01               1000   \n",
       "4                63.0    422.81            0.01               1000   \n",
       "...               ...       ...             ...                ...   \n",
       "2288              NaN       NaN            0.03                 50   \n",
       "2289              NaN       NaN            0.03                 50   \n",
       "2290              NaN       NaN            0.03                 50   \n",
       "2291              NaN       NaN            0.03                 50   \n",
       "2292              NaN       NaN            0.03                 50   \n",
       "\n",
       "      quantity_msg  usd_per_message  mb_per_month_included   mb_used  \\\n",
       "0             11.0             0.01                  30720   1901.47   \n",
       "1             15.0             0.01                  30720   2068.37   \n",
       "2            139.0             0.01                  30720  32118.82   \n",
       "3             21.0             0.01                  30720  17106.99   \n",
       "4             37.0             0.01                  30720  23676.72   \n",
       "...            ...              ...                    ...       ...   \n",
       "2288          62.0             0.03                  15360  42866.10   \n",
       "2289          56.0             0.03                  15360  31088.49   \n",
       "2290          76.0             0.03                  15360  13093.55   \n",
       "2291          72.0             0.03                  15360  17128.26   \n",
       "2292          61.0             0.03                  15360  13039.91   \n",
       "\n",
       "      usd_per_mb  extra_charge_calls  extra_charge_msg  extra_charge_mb  \\\n",
       "0       0.006836                 0.0              0.00         0.000000   \n",
       "1       0.006836                 0.0              0.00         0.000000   \n",
       "2       0.006836                 0.0              0.00         9.562246   \n",
       "3       0.006836                 0.0              0.00         0.000000   \n",
       "4       0.006836                 0.0              0.00         0.000000   \n",
       "...          ...                 ...               ...              ...   \n",
       "2288    0.009766                 0.0              0.36       268.614258   \n",
       "2289    0.009766                 0.0              0.18       153.598535   \n",
       "2290    0.009766                 0.0              0.78         0.000000   \n",
       "2291    0.009766                 0.0              0.66        17.268164   \n",
       "2292    0.009766                 0.0              0.33         0.000000   \n",
       "\n",
       "       total_fee  \n",
       "0      70.000000  \n",
       "1      70.000000  \n",
       "2      79.562246  \n",
       "3      70.000000  \n",
       "4      70.000000  \n",
       "...          ...  \n",
       "2288  288.974258  \n",
       "2289  173.778535  \n",
       "2290   20.780000  \n",
       "2291   37.928164  \n",
       "2292   20.330000  \n",
       "\n",
       "[2293 rows x 18 columns]"
      ]
     },
     "metadata": {},
     "output_type": "display_data"
    }
   ],
   "source": [
    "# Calcula el ingreso mensual para cada usuario\n",
    "general_df = general_df.assign(extra_charge_calls=0.0,extra_charge_msg=0.0,extra_charge_mb=0.0)\n",
    "cont = 0\n",
    "for each in general_df.loc[:,\"minutes_included\"]:\n",
    "    total = general_df.loc[cont,\"duration\"]\n",
    "    tax = general_df.loc[cont,\"usd_per_minute\"]\n",
    "    if each < total:\n",
    "        general_df.loc[cont,\"extra_charge_calls\"] = (total - each) * tax\n",
    "    cont += 1\n",
    "\n",
    "cont = 0\n",
    "for each in general_df.loc[:,\"messages_included\"]:\n",
    "    total = general_df.loc[cont,\"quantity_msg\"]\n",
    "    tax = general_df.loc[cont,\"usd_per_message\"]\n",
    "    if each < total:\n",
    "        general_df.loc[cont,\"extra_charge_msg\"] = (total - each) * tax\n",
    "    cont += 1\n",
    "\n",
    "cont = 0\n",
    "for each in general_df.loc[:,\"mb_per_month_included\"]:\n",
    "    total = general_df.loc[cont,\"mb_used\"]\n",
    "    tax = general_df.loc[cont,\"usd_per_mb\"]\n",
    "    if each < total:\n",
    "        general_df.loc[cont,\"extra_charge_mb\"] = (total - each) * tax\n",
    "    cont += 1\n",
    "\n",
    "general_df[\"total_fee\"] = general_df[\"usd_monthly_pay\"] + general_df[\"extra_charge_calls\"] + general_df[\"extra_charge_msg\"] + general_df[\"extra_charge_mb\"]\n",
    " \n",
    "display(general_df)"
   ]
  },
  {
   "cell_type": "markdown",
   "metadata": {
    "id": "-jtyHzJb0q1I"
   },
   "source": [
    "## Estudia el comportamiento de usuario"
   ]
  },
  {
   "cell_type": "markdown",
   "metadata": {
    "id": "AxU3Y0N70q1J"
   },
   "source": [
    "[Calcula algunas estadísticas descriptivas para los datos agregados y fusionados que nos sean útiles y que muestren un panorama general captado por los datos. Dibuja gráficos útiles para facilitar la comprensión. Dado que la tarea principal es comparar las tarifas y decidir cuál es más rentable, las estadísticas y gráficas deben calcularse por tarifa.]\n",
    "\n",
    "[En los comentarios hallarás pistas relevantes para las llamadas, pero no las hay para los mensajes e Internet. Sin embargo, el principio del estudio estadístico que se aplica para ellos es el mismo que para las llamadas.]"
   ]
  },
  {
   "cell_type": "markdown",
   "metadata": {
    "id": "vtW4CJEe0q1J"
   },
   "source": [
    "### Llamadas"
   ]
  },
  {
   "cell_type": "code",
   "execution_count": 29,
   "metadata": {
    "id": "Jf5v5--k0q1J",
    "scrolled": false,
    "trusted": true
   },
   "outputs": [
    {
     "data": {
      "image/png": "[encoded data removed]",
      "text/plain": [
       "<Figure size 640x480 with 1 Axes>"
      ]
     },
     "metadata": {},
     "output_type": "display_data"
    }
   ],
   "source": [
    "# Compara la duración promedio de llamadas por cada plan y por cada mes. Traza un gráfico de barras para visualizarla.\n",
    "df_surf = general_df[general_df[\"plan\"]==\"surf\"]\n",
    "df_surf = df_surf.reset_index()\n",
    "df_surf[\"avg_time_surf\"] = 0.0\n",
    "df_surf[\"avg_time_surf\"] = df_surf[\"duration\"] / df_surf[\"calls_per_month\"]\n",
    "df_surf = df_surf.drop([\"index\",\"user_id\",\"plan\",\"calls_per_month\",\"duration\",\"usd_monthly_pay\",\"minutes_included\",\"usd_per_minute\",\"messages_included\",\"quantity_msg\",\"usd_per_message\",\"mb_per_month_included\",\"mb_used\",\"usd_per_mb\",\"extra_charge_calls\",\"extra_charge_msg\",\"extra_charge_mb\",\"total_fee\"],axis=1)\n",
    "df_surf_avg = df_surf.groupby(by=\"month\").mean()\n",
    "\n",
    "df_ultimate = general_df[general_df[\"plan\"]==\"ultimate\"]\n",
    "df_ultimate = df_ultimate.reset_index()\n",
    "df_ultimate[\"avg_time_ult\"] = 0.0\n",
    "df_ultimate[\"avg_time_ult\"] = df_ultimate[\"duration\"] / df_ultimate[\"calls_per_month\"]\n",
    "df_ultimate = df_ultimate.drop([\"index\",\"user_id\",\"plan\",\"usd_monthly_pay\",\"calls_per_month\",\"duration\",\"minutes_included\",\"usd_per_minute\",\"messages_included\",\"quantity_msg\",\"usd_per_message\",\"mb_per_month_included\",\"mb_used\",\"usd_per_mb\",\"extra_charge_calls\",\"extra_charge_msg\",\"extra_charge_mb\",\"total_fee\"],axis=1)\n",
    "df_ultimate_avg = df_ultimate.groupby(by=\"month\").mean()\n",
    "\n",
    "df_surf_vs_ult = df_surf_avg.merge(df_ultimate_avg,on=\"month\")\n",
    "df_surf_vs_ult.plot(title=\"Tiempo promedio de los usuarios en llamadas\",\n",
    "                    xlabel=\"Meses (1-Enero : 12-Diciembre)\",\n",
    "                    ylabel=\"Duración promedio de cada llamada (minutos)\",\n",
    "                    kind=\"bar\",\n",
    "                    grid=True, \n",
    "                    xlim=[1,12],\n",
    "                    ylim=[0,8])\n",
    "plt.legend([\"Surf\",\"Ultimate\"])\n",
    "plt.show()"
   ]
  },
  {
   "cell_type": "code",
   "execution_count": 30,
   "metadata": {
    "id": "QoLqW1S_0q1J",
    "trusted": true
   },
   "outputs": [
    {
     "data": {
      "image/png": "[encoded data removed]",
      "text/plain": [
       "<Figure size 640x480 with 1 Axes>"
      ]
     },
     "metadata": {},
     "output_type": "display_data"
    }
   ],
   "source": [
    "# Compara el número de minutos mensuales que necesitan los usuarios de cada plan. Traza un histograma.\n",
    "df_surf_sum = df_surf.groupby(by=\"month\").sum()\n",
    "df_ultimate_sum = df_ultimate.groupby(by=\"month\").sum()\n",
    "\n",
    "plt.hist(df_surf_sum, bins=4, alpha=0.4)\n",
    "plt.hist(df_ultimate_sum, bins=4, alpha=0.6)\n",
    "plt.title(\"Tiempo total de minutos en llamadas por plan\")\n",
    "plt.legend([\"Surf\",\"Ultimate\"])\n",
    "plt.xlabel(\"Tiempo (min)\")\n",
    "plt.show()"
   ]
  },
  {
   "cell_type": "markdown",
   "metadata": {
    "id": "bLS9T8OH0q1K"
   },
   "source": [
    "[Calcula la media y la variable de la duración de las llamadas para averiguar si los usuarios de los distintos planes se comportan de forma diferente al realizar sus llamadas.]"
   ]
  },
  {
   "cell_type": "code",
   "execution_count": 31,
   "metadata": {
    "id": "oSndbAnt0q1K",
    "trusted": true
   },
   "outputs": [
    {
     "name": "stdout",
     "output_type": "stream",
     "text": [
      "El tiempo promedio de las llamadas en el plan Surf es: 869.9294392223628 minutos\n",
      "La varianza del plan Surf es: 472324.8595956881 min²\n",
      "\n",
      "El tiempo promedio de las llamadas en el plan Ultimate es: 396.7995505971913 minutos\n",
      "La varianza del plan Ultimate es: 97132.52426530536 min²\n"
     ]
    }
   ],
   "source": [
    "# Calcula la media y la varianza de la duración mensual de llamadas.\n",
    "avg_surf = df_surf_sum[\"avg_time_surf\"].mean()\n",
    "print(f'El tiempo promedio de las llamadas en el plan Surf es: {avg_surf} minutos')\n",
    "var_surf = np.var(df_surf_sum[\"avg_time_surf\"])\n",
    "print(f'La varianza del plan Surf es: {var_surf} min²')\n",
    "print()\n",
    "\n",
    "avg_ult = df_ultimate_sum[\"avg_time_ult\"].mean()\n",
    "print(f'El tiempo promedio de las llamadas en el plan Ultimate es: {avg_ult} minutos')\n",
    "var_ult = np.var(df_ultimate_sum[\"avg_time_ult\"])\n",
    "print(f'La varianza del plan Ultimate es: {var_ult} min²')\n"
   ]
  },
  {
   "cell_type": "code",
   "execution_count": 32,
   "metadata": {
    "id": "nZzoRUKc0q1K",
    "trusted": true
   },
   "outputs": [
    {
     "data": {
      "image/png": "[encoded data removed]",
      "text/plain": [
       "<Figure size 640x480 with 1 Axes>"
      ]
     },
     "metadata": {},
     "output_type": "display_data"
    },
    {
     "data": {
      "image/png": "[encoded data removed]",
      "text/plain": [
       "<Figure size 640x480 with 1 Axes>"
      ]
     },
     "metadata": {},
     "output_type": "display_data"
    }
   ],
   "source": [
    "# Traza un diagrama de caja para visualizar la distribución de la duración mensual de llamadas\n",
    "plt.boxplot(df_surf_sum)\n",
    "plt.title(\"Diagrama de caja y bigotes de la duración de las llamadas para el plan Surf\")\n",
    "plt.show()\n",
    "\n",
    "plt.boxplot(df_ultimate_sum)\n",
    "plt.title(\"Diagrama de caja y bigotes de la duración de las llamadas para el plan Ultimate\")\n",
    "plt.show()"
   ]
  },
  {
   "cell_type": "markdown",
   "metadata": {
    "id": "r627zBO50q1K"
   },
   "source": [
    "**Independientemente del plan, los usuarios pasan en promedio el mismo tiempo llamando durante todo el año.**\n",
    "\n",
    "**Si bien los usuarios del plan Surf pasan más tiempo llamando y tienen variaciones más altas en cuanto al tiempo total de llamadas al mes durante el transcurso del año en comparación a los usuarios del plan Ultimate, los diagramas de cajas muestran un comportamiento muy similar entre ambos planes.**\n",
    "\n",
    "**Esto también los podemos notar en los histogramas ya que los del plan Surf tienen un sesgo a la derecha muy marcado y los del plan Ultimate también tienen un sesgo a la derecha pero menos pronunciado.**"
   ]
  },
  {
   "cell_type": "markdown",
   "metadata": {
    "id": "8idKy8Wh0q1L"
   },
   "source": [
    "### Mensajes"
   ]
  },
  {
   "cell_type": "code",
   "execution_count": 33,
   "metadata": {
    "id": "NXLxiTit0q1L",
    "trusted": true
   },
   "outputs": [
    {
     "data": {
      "image/png": "[encoded data removed]",
      "text/plain": [
       "<Figure size 640x480 with 1 Axes>"
      ]
     },
     "metadata": {},
     "output_type": "display_data"
    }
   ],
   "source": [
    "# Comprara el número de mensajes que tienden a enviar cada mes los usuarios de cada plan\n",
    "df_surf_msg = general_df[general_df[\"plan\"]==\"surf\"]\n",
    "df_surf_msg = df_surf_msg.reset_index()\n",
    "df_surf_msg = df_surf_msg.drop([\"user_id\",\"index\",\"messages_included\",\"calls_per_month\",\"duration\",\"mb_used\",\"plan\",\"usd_monthly_pay\",\"minutes_included\",\"usd_per_minute\",\"mb_per_month_included\",\"usd_per_mb\",\"usd_per_message\",\"extra_charge_calls\",\"extra_charge_msg\",\"extra_charge_mb\",\"total_fee\"],axis=1)\n",
    "df_surf_msg = df_surf_msg.fillna(0)\n",
    "df_surf_msg_avg = df_surf_msg.groupby(by=\"month\").mean()\n",
    "\n",
    "df_ult_msg = general_df[general_df[\"plan\"]==\"ultimate\"]\n",
    "df_ult_msg = df_ult_msg.reset_index()\n",
    "df_ult_msg = df_ult_msg.drop([\"user_id\",\"index\",\"messages_included\",\"calls_per_month\",\"duration\",\"mb_used\",\"plan\",\"usd_monthly_pay\",\"minutes_included\",\"usd_per_minute\",\"mb_per_month_included\",\"usd_per_mb\",\"usd_per_message\",\"extra_charge_calls\",\"extra_charge_msg\",\"extra_charge_mb\",\"total_fee\"],axis=1)\n",
    "df_ult_msg = df_ult_msg.fillna(0)\n",
    "df_ult_msg_avg = df_ult_msg.groupby(by=\"month\").mean()\n",
    "\n",
    "df_surf_vs_ult = df_surf_msg_avg.merge(df_ult_msg_avg,on=\"month\")\n",
    "df_surf_vs_ult.plot(title=\"Total de mensajes promedio de los usuarios por mes\",\n",
    "                    xlabel=\"Meses (1-Enero : 12-Diciembre)\",\n",
    "                    ylabel=\"Cantidad de mensajes al mes\",\n",
    "                    kind=\"bar\",\n",
    "                    grid=True, \n",
    "                    xlim=[1,12],\n",
    "                    ylim=[0,50])\n",
    "plt.legend([\"Surf\",\"Ultimate\"])\n",
    "plt.show()"
   ]
  },
  {
   "cell_type": "code",
   "execution_count": 34,
   "metadata": {
    "id": "GRI_R7xF0q1L",
    "trusted": true
   },
   "outputs": [
    {
     "data": {
      "image/png": "[encoded data removed]",
      "text/plain": [
       "<Figure size 640x480 with 1 Axes>"
      ]
     },
     "metadata": {},
     "output_type": "display_data"
    }
   ],
   "source": [
    "# Compara el número de mensajes mensuales que necesitan los usuarios de cada plan. Traza un histograma.\n",
    "df_surf_sum = df_surf_msg.groupby(by=\"month\").sum()\n",
    "df_ultimate_sum = df_ult_msg.groupby(by=\"month\").sum()\n",
    "\n",
    "plt.hist(df_surf_sum, bins=4, alpha=0.4)\n",
    "plt.hist(df_ultimate_sum, bins=4, alpha=0.6)\n",
    "plt.title(\"Mensajes de los usuarios por plan\")\n",
    "plt.legend([\"Surf\",\"Ultimate\"])\n",
    "plt.xlabel(\"Cantidad de mensajes\")\n",
    "plt.show()"
   ]
  },
  {
   "cell_type": "code",
   "execution_count": 35,
   "metadata": {
    "id": "dtFwCGAp0q1M",
    "trusted": true
   },
   "outputs": [
    {
     "name": "stdout",
     "output_type": "stream",
     "text": [
      "La cantidad promedio de mensajes para el plan Surf es: 4084.5 mensajes\n",
      "La varianza del plan Surf es: 14764949.916666666 msg²\n",
      "\n",
      "La cantidad promedio de mensajes para el plan Ultimate es: 2253.0833333333335 mensajes\n",
      "La varianza del plan Ultimate es: 4307875.909722221 msg²\n"
     ]
    }
   ],
   "source": [
    "# Calcula la media y la varianza de la cantidad de mensajes.\n",
    "avg_surf = df_surf_sum[\"quantity_msg\"].mean()\n",
    "var_surf = np.var(df_surf_sum[\"quantity_msg\"])\n",
    "print(f'La cantidad promedio de mensajes para el plan Surf es: {avg_surf} mensajes')\n",
    "print(f'La varianza del plan Surf es: {var_surf} msg²')\n",
    "print()\n",
    "\n",
    "avg_ult = df_ultimate_sum[\"quantity_msg\"].mean()\n",
    "var_ult = np.var(df_ultimate_sum[\"quantity_msg\"])\n",
    "print(f'La cantidad promedio de mensajes para el plan Ultimate es: {avg_ult} mensajes')\n",
    "print(f'La varianza del plan Ultimate es: {var_ult} msg²')"
   ]
  },
  {
   "cell_type": "code",
   "execution_count": 36,
   "metadata": {
    "trusted": true
   },
   "outputs": [
    {
     "data": {
      "image/png": "[encoded data removed]",
      "text/plain": [
       "<Figure size 640x480 with 1 Axes>"
      ]
     },
     "metadata": {},
     "output_type": "display_data"
    },
    {
     "data": {
      "image/png": "[encoded data removed]",
      "text/plain": [
       "<Figure size 640x480 with 1 Axes>"
      ]
     },
     "metadata": {},
     "output_type": "display_data"
    }
   ],
   "source": [
    "# Traza un diagrama de caja para visualizar la distribución de los mensajes mensuales\n",
    "plt.boxplot(df_surf_sum)\n",
    "plt.title(\"Diagrama de caja y bigotes para los mensajes del plan Surf\")\n",
    "plt.show()\n",
    "\n",
    "plt.boxplot(df_ultimate_sum)\n",
    "plt.title(\"Diagrama de caja y bigotes para los mensajes del plan Ultimate\")\n",
    "plt.show()"
   ]
  },
  {
   "cell_type": "markdown",
   "metadata": {
    "id": "390SSL480q1M"
   },
   "source": [
    "**Basado en el histograma y los diagramas de cajas y bigotes, ambos planes tienen un comportamiento muy similar, tanto en el Surf como en el Ultimate ya que ambos presentan un sesgo a la derecha**\n",
    "\n",
    "**Sin embargo, Aunque los usuarios del plan Surf mandan el doble de mensajes que los del plan Ultimate, podemos notar que los usuarios del plan Ultimate mandan mas mensajes al mes en promedio.**"
   ]
  },
  {
   "cell_type": "markdown",
   "metadata": {
    "id": "42YSypXz0q1M"
   },
   "source": [
    "### Internet"
   ]
  },
  {
   "cell_type": "code",
   "execution_count": 37,
   "metadata": {
    "id": "lSuKPtjh0q1M",
    "trusted": true
   },
   "outputs": [
    {
     "data": {
      "image/png": "[encoded data removed]",
      "text/plain": [
       "<Figure size 640x480 with 1 Axes>"
      ]
     },
     "metadata": {},
     "output_type": "display_data"
    }
   ],
   "source": [
    "# Compara la cantidad de tráfico de Internet consumido por los usuarios al mes por plan\n",
    "df_surf_mb = general_df[general_df[\"plan\"]==\"surf\"]\n",
    "df_surf_mb = df_surf_mb.reset_index()\n",
    "df_surf_mb = df_surf_mb.drop([\"user_id\",\"index\",\"messages_included\",\"calls_per_month\",\"duration\",\"plan\",\"quantity_msg\",\"usd_monthly_pay\",\"minutes_included\",\"usd_per_minute\",\"mb_per_month_included\",\"usd_per_mb\",\"usd_per_message\",\"extra_charge_calls\",\"extra_charge_msg\",\"extra_charge_mb\",\"total_fee\"],axis=1)\n",
    "df_surf_mb = df_surf_mb.fillna(0)\n",
    "df_surf_mb_avg = df_surf_mb.groupby(by=\"month\").mean()\n",
    "\n",
    "df_ult_mb = general_df[general_df[\"plan\"]==\"ultimate\"]\n",
    "df_ult_mb = df_ult_mb.reset_index()\n",
    "df_ult_mb = df_ult_mb.drop([\"user_id\",\"index\",\"messages_included\",\"calls_per_month\",\"duration\",\"plan\",\"quantity_msg\",\"usd_monthly_pay\",\"minutes_included\",\"usd_per_minute\",\"mb_per_month_included\",\"usd_per_mb\",\"usd_per_message\",\"extra_charge_calls\",\"extra_charge_msg\",\"extra_charge_mb\",\"total_fee\"],axis=1)\n",
    "df_ult_mb = df_ult_mb.fillna(0)\n",
    "df_ult_mb_avg = df_ult_mb.groupby(by=\"month\").mean()\n",
    "\n",
    "df_surf_vs_ult = df_surf_mb_avg.merge(df_ult_mb_avg,on=\"month\")\n",
    "df_surf_vs_ult.plot(title=\"Promedio de megabytes consumidos por mes\",\n",
    "                    xlabel=\"Meses (1-Enero : 12-Diciembre)\",\n",
    "                    ylabel=\"Cantidad de megas al mes\",\n",
    "                    kind=\"bar\",\n",
    "                    grid=True, \n",
    "                    xlim=[1,12],\n",
    "                    ylim=[0,20000])\n",
    "plt.legend([\"Surf\",\"Ultimate\"])\n",
    "plt.show()"
   ]
  },
  {
   "cell_type": "code",
   "execution_count": 38,
   "metadata": {
    "id": "wnh8jYXi0q1N",
    "trusted": true
   },
   "outputs": [
    {
     "data": {
      "image/png": "[encoded data removed]",
      "text/plain": [
       "<Figure size 640x480 with 1 Axes>"
      ]
     },
     "metadata": {},
     "output_type": "display_data"
    }
   ],
   "source": [
    "# Compara el número de megas mensuales que necesitan los usuarios de cada plan. Traza un histograma.\n",
    "df_surf_sum = df_surf_mb.groupby(by=\"month\").sum()\n",
    "df_ultimate_sum = df_ult_mb.groupby(by=\"month\").sum()\n",
    "\n",
    "plt.hist(df_surf_sum, bins=4, alpha=0.4)\n",
    "plt.hist(df_ultimate_sum, bins=4, alpha=0.6)\n",
    "plt.title(\"Megabytes de los usuarios por plan\")\n",
    "plt.legend([\"Surf\",\"Ultimate\"])\n",
    "plt.xlabel(\"Megas\")\n",
    "plt.show()"
   ]
  },
  {
   "cell_type": "code",
   "execution_count": 39,
   "metadata": {
    "id": "5VlyJ9ry0q1N",
    "trusted": true
   },
   "outputs": [
    {
     "name": "stdout",
     "output_type": "stream",
     "text": [
      "La cantidad promedio de megas para el plan Surf es: 2170514.994166666 megas\n",
      "La varianza del plan Surf es: 3386356625425.2886 mb²\n",
      "\n",
      "La cantidad promedio de megas para el plan Ultimate es: 1032881.9816666665 megas\n",
      "La varianza del plan Ultimate es: 717342663814.6989 mb²\n"
     ]
    }
   ],
   "source": [
    "# Calcula la media y la varianza de la cantidad de megas.\n",
    "avg_surf = df_surf_sum[\"mb_used\"].mean()\n",
    "var_surf = np.var(df_surf_sum[\"mb_used\"])\n",
    "print(f'La cantidad promedio de megas para el plan Surf es: {avg_surf} megas')\n",
    "print(f'La varianza del plan Surf es: {var_surf} mb²')\n",
    "print()\n",
    "\n",
    "avg_ult = df_ultimate_sum[\"mb_used\"].mean()\n",
    "var_ult = np.var(df_ultimate_sum[\"mb_used\"])\n",
    "print(f'La cantidad promedio de megas para el plan Ultimate es: {avg_ult} megas')\n",
    "print(f'La varianza del plan Ultimate es: {var_ult} mb²')"
   ]
  },
  {
   "cell_type": "code",
   "execution_count": 40,
   "metadata": {
    "scrolled": true,
    "trusted": true
   },
   "outputs": [
    {
     "data": {
      "image/png": "[encoded data removed]",
      "text/plain": [
       "<Figure size 640x480 with 1 Axes>"
      ]
     },
     "metadata": {},
     "output_type": "display_data"
    },
    {
     "data": {
      "image/png": "[encoded data removed]",
      "text/plain": [
       "<Figure size 640x480 with 1 Axes>"
      ]
     },
     "metadata": {},
     "output_type": "display_data"
    }
   ],
   "source": [
    "# Traza un diagrama de caja para visualizar la distribución de los mensajes mensuales\n",
    "plt.boxplot(df_surf_sum)\n",
    "plt.title(\"Diagrama de caja y bigotes para los megas del plan Surf\")\n",
    "plt.show()\n",
    "plt.boxplot(df_ultimate_sum)\n",
    "plt.title(\"Diagrama de caja y bigotes para los megas del plan Ultimate\")\n",
    "plt.show()"
   ]
  },
  {
   "cell_type": "markdown",
   "metadata": {
    "id": "UN9zwuMP0q1N"
   },
   "source": [
    "**Al igual que en el caso de los mensajes se puede ver en el histograma y los diagramas de cajas y bigotes que ambos tienen comportamientos similares con sesgos a la derecha, aunque el de los usuarios del plan Surf es más marcado ese sesgo**\n",
    "\n",
    "**Lo que si podemos ver claramente en el diagrama de barras es que los usuarios del plan Ultimate gastan en promedio un poco mas de megas que los del plan Surf, sobre todo el primer tetramestre del año. Y a partir de la mitad del año su comportamiento es muy similar** "
   ]
  },
  {
   "cell_type": "markdown",
   "metadata": {
    "id": "tCijq3260q1N"
   },
   "source": [
    "## Ingreso"
   ]
  },
  {
   "cell_type": "markdown",
   "metadata": {
    "id": "9nq5IAcy0q1O"
   },
   "source": [
    "[Del mismo modo que has estudiado el comportamiento de los usuarios, describe estadísticamente los ingresos de los planes.]"
   ]
  },
  {
   "cell_type": "code",
   "execution_count": 41,
   "metadata": {
    "id": "tz-dq_V00q1O",
    "scrolled": false,
    "trusted": true
   },
   "outputs": [
    {
     "data": {
      "image/png": "[encoded data removed]",
      "text/plain": [
       "<Figure size 640x480 with 1 Axes>"
      ]
     },
     "metadata": {},
     "output_type": "display_data"
    }
   ],
   "source": [
    "# Compara la tarifa de los usuarios al mes por plan\n",
    "df_surf_fee = general_df[general_df[\"plan\"]==\"surf\"]\n",
    "df_surf_fee = df_surf_fee.reset_index()\n",
    "df_surf_fee = df_surf_fee.drop([\"mb_used\",\"user_id\",\"index\",\"messages_included\",\"calls_per_month\",\"duration\",\"plan\",\"quantity_msg\",\"usd_monthly_pay\",\"minutes_included\",\"usd_per_minute\",\"mb_per_month_included\",\"usd_per_mb\",\"usd_per_message\",\"extra_charge_calls\",\"extra_charge_msg\",\"extra_charge_mb\"],axis=1)\n",
    "df_surf_fee_avg = df_surf_fee.groupby(by=\"month\").mean()\n",
    "df_surf_fee_avg[\"total_fee\"] = df_surf_fee_avg[\"total_fee\"] / 20\n",
    "\n",
    "df_ult_fee = general_df[general_df[\"plan\"]==\"ultimate\"]\n",
    "df_ult_fee = df_ult_fee.reset_index()\n",
    "df_ult_fee = df_ult_fee.drop([\"mb_used\",\"user_id\",\"index\",\"messages_included\",\"calls_per_month\",\"duration\",\"plan\",\"quantity_msg\",\"usd_monthly_pay\",\"minutes_included\",\"usd_per_minute\",\"mb_per_month_included\",\"usd_per_mb\",\"usd_per_message\",\"extra_charge_calls\",\"extra_charge_msg\",\"extra_charge_mb\"],axis=1)\n",
    "df_ult_fee_avg = df_ult_fee.groupby(by=\"month\").mean()\n",
    "df_ult_fee_avg[\"total_fee\"] = df_ult_fee_avg[\"total_fee\"] / 70\n",
    "\n",
    "df_surf_vs_ult = df_surf_fee_avg.merge(df_ult_fee_avg,on=\"month\")\n",
    "df_surf_vs_ult.plot(title=\"Promedio de la tarifa pagada por mes\",\n",
    "                    xlabel=\"Meses (1-Enero : 12-Diciembre)\",\n",
    "                    ylabel=\"Veces que pagan el valor de la tarifa base\",\n",
    "                    kind=\"bar\",\n",
    "                    grid=True, \n",
    "                    ylim=[0.5,3.5])\n",
    "plt.legend([\"Surf\",\"Ultimate\"])\n",
    "plt.show()"
   ]
  },
  {
   "cell_type": "markdown",
   "metadata": {
    "id": "KAFidcXZ0q1P"
   },
   "source": [
    "**Los usuarios del plan Surf pagan en promedio mas del doble de la tarifa base que pagan al mes, inclusive en algunos meses han llegado a pagar hasta 3 veces su valor, casi el mismo costo del plan Ultimate.**\n",
    "\n",
    "**Mientras que los usuarios del plan Ultimate no consumen más de su tarifa base en todo el año.**"
   ]
  },
  {
   "cell_type": "markdown",
   "metadata": {
    "id": "ajJ7VKeI0q1Q"
   },
   "source": [
    "## Prueba las hipótesis estadísticas"
   ]
  },
  {
   "cell_type": "markdown",
   "metadata": {
    "id": "AdXAZ-yL0q1Q"
   },
   "source": [
    "[Prueba la hipótesis de que son diferentes los ingresos promedio procedentes de los usuarios de los planes de llamada Ultimate y Surf.]"
   ]
  },
  {
   "cell_type": "markdown",
   "metadata": {
    "id": "IQwa_hsh0q1Q"
   },
   "source": [
    "[Elabora las hipótesis nula y alternativa, escoge la prueba estadística, determina el valor alfa.]"
   ]
  },
  {
   "cell_type": "code",
   "execution_count": 42,
   "metadata": {
    "id": "nFoPNlPq0q1R",
    "trusted": true
   },
   "outputs": [
    {
     "name": "stdout",
     "output_type": "stream",
     "text": [
      "Se rechaza la hipótesis nula\n"
     ]
    }
   ],
   "source": [
    "# Mi hipótesis nula es que los ingresos promedio son iguales\n",
    "# Mi hipótesis alternativa es que son los ingresos promedios son distintos.\n",
    "\n",
    "df_surf_fee_avg = df_surf_fee.groupby(by=\"month\").mean()\n",
    "df_ult_fee_avg = df_ult_fee.groupby(by=\"month\").mean()\n",
    "\n",
    "# Utilice el método de levene para saber si en equal_var se debía usar False o True, lo dejo comentado porque\n",
    "# por algún error aquí en JN me marca un error.\n",
    "\n",
    "#beta = 0.05\n",
    "#w_stats, p_value = levene(df_surf_fee_avg,df_ult_fee_avg)\n",
    "#if p_value < beta:\n",
    "#    variable = False\n",
    "#else:\n",
    "#    variable = True\n",
    "\n",
    "# Ahora utilizaré el método ttest_ind para probar si mi hipótesis de 2 medias son diferentes.\n",
    "\n",
    "alpha = 0.05\n",
    "results = st.ttest_ind(df_surf_fee_avg,df_ult_fee_avg,equal_var=False)\n",
    "\n",
    "if results.pvalue < alpha:\n",
    "    print(\"Se rechaza la hipótesis nula\")\n",
    "else:\n",
    "    print(\"No podemor rechazar la hipótesis nula\")"
   ]
  },
  {
   "cell_type": "markdown",
   "metadata": {
    "id": "tCcAruM60q1R"
   },
   "source": [
    "[Prueba la hipótesis de que el ingreso promedio de los usuarios del área NY-NJ es diferente al de los usuarios de otras regiones.]"
   ]
  },
  {
   "cell_type": "markdown",
   "metadata": {
    "id": "LsBgitqj0q1R"
   },
   "source": [
    "[Elabora las hipótesis nula y alternativa, escoge la prueba estadística, determina el valor alfa.]"
   ]
  },
  {
   "cell_type": "code",
   "execution_count": 43,
   "metadata": {
    "id": "Cqcj7wrZ0q1S",
    "trusted": true
   },
   "outputs": [
    {
     "name": "stdout",
     "output_type": "stream",
     "text": [
      "No podemor rechazar la hipótesis nula\n"
     ]
    }
   ],
   "source": [
    "# Antes de definir la hipótesis nula y alternativa, hay que construir los Dataframes con todos los usuarios de NY-NJ\n",
    "# y el resto de usuarios.\n",
    "\n",
    "# Primero voy a crear 2 DF uno con la suma de la tarifa de cada usuarios y otro con el número de tarifas para\n",
    "# obtener el promedio.\n",
    "\n",
    "df_users_citys = df_users[[\"user_id\",\"city\"]]\n",
    "df_users_fees = general_df[[\"user_id\",\"total_fee\"]]\n",
    "general_df_locations = df_users_fees.merge(df_users_citys,on=\"user_id\",how=\"left\")\n",
    "user_fee_qty = general_df_locations.groupby(by=\"user_id\").sum().reset_index()\n",
    "user_fee_tot = general_df_locations.groupby(by=\"user_id\").count().reset_index()\n",
    "\n",
    "# Ahora los uno para posteriormente solo dividir la columan de la suma / cantidad de tarifas.\n",
    "\n",
    "users_fee = user_fee_qty.merge(user_fee_tot,on=\"user_id\",suffixes=[\"_qty\",\"_sum\"])\n",
    "users_fee[\"total_fee_user\"] = users_fee[\"total_fee_qty\"] / users_fee[\"total_fee_sum\"]\n",
    "users_fee = users_fee.drop([\"total_fee_qty\",\"total_fee_sum\"],axis=1)\n",
    "users_fee = users_fee[[\"user_id\",\"total_fee_user\"]]\n",
    "\n",
    "# Ahora voy a unir el último DF creado con el de los usuarios para obtener los nombres de las ciudades\n",
    "# de cada uno de los usuarios. Para después tener 2 DF, uno con solo los usuarios de NY-NJ y otor con el\n",
    "# resto de usuarios del país. \n",
    "\n",
    "users_fee = users_fee.merge(df_users,on=\"user_id\")[[\"user_id\",\"total_fee_user\",\"city\"]]\n",
    "lista = [\"new york-newark-jersey city, ny-nj-pa msa\"]\n",
    "users_ny_nj = users_fee.query(\"city in @lista\")[[\"total_fee_user\"]]\n",
    "rest_users = users_fee.query(\"city not in @lista\")[[\"total_fee_user\"]]\n",
    "\n",
    "# Mi hipótesis nula es que los ingresos promedio de los usuarios de NY-NJ son iguales a los de otras regiones.\n",
    "# Mi hipótesis alternativa es que son los ingresos promedios son distintos.\n",
    "\n",
    "alpha = 0.05\n",
    "results = st.ttest_ind(users_ny_nj,rest_users,equal_var=True)\n",
    "\n",
    "# Utilice el método de levene para saber si en equal_var se debía usar False o True, lo dejo comentado porque\n",
    "# por algún error aquí en JN me marca un error.\n",
    "\n",
    "#beta = 0.05\n",
    "#w_stats, p_value = levene(users_ny_nj,rest_users)\n",
    "#if p_value < beta:\n",
    "#    variable = False\n",
    "#else:\n",
    "#    variable = True\n",
    "\n",
    "# Ahora utilizaré el método ttest_ind para probar si mi hipótesis de 2 medias diferentes.\n",
    "\n",
    "if results.pvalue < alpha:\n",
    "    print(\"Se rechaza la hipótesis nula\")\n",
    "else:\n",
    "    print(\"No podemor rechazar la hipótesis nula\")"
   ]
  },
  {
   "cell_type": "markdown",
   "metadata": {
    "id": "bbTR8UQO0q1T"
   },
   "source": [
    "## Conclusión general\n",
    "\n",
    "[En esta sección final, enumera tus conclusiones importantes. Asegúrate de que estas abarquen todas las decisiones (suposiciones) importantes que adoptaste y que determinaron la forma elegida para procesar y analizar los datos.]\n",
    "\n",
    "**Primero que nada se tuvo que corregir el tipo de datos de algunos DF's, el costo por mb extra estaba dado en GB por lo cual se tuvo que hacer la conversión, se le dio formato de letras minúsculas a varios textos, se dio formato datetime a diferentes columna**\n",
    "\n",
    "**En cuanto a los datos obtenidos con los diferente estudios, se pudo observar que los usuarios del plan Surf gastan más en llamadas, mensajes e internet en comparación a los del plan Ultimate, por ésto mismo en promedio pagan hasta 2 o 2.5 veces más la tarifa base de su plan. No se vio el estudio específico para cada usuarios, pero tal vez una búsqueda más a fondo para saber que usuarios gastan más y ofrecerles que paguen por el plan Ultimate podría ser mejor para ellos basados en su consumo.**\n",
    "\n",
    "**En cuanto a las hipótesis se pudo ver que para los usuarios de los planes Surf y Ultimate las tarifas promedio son distintos. Y para la hipótesis de que los usuarios de NY-NJ tienen una tarifa promedio distitna al resto de los usuarios de otras ciudades pudimos observar que es falso ya que si tienen un comportamiento similar.**"
   ]
  }
 ],
 "metadata": {
  "ExecuteTimeLog": [
   {
    "duration": 828,
    "start_time": "2021-11-16T09:21:11.304Z"
   },
   {
    "duration": 893,
    "start_time": "2021-11-16T09:21:17.728Z"
   },
   {
    "duration": 1150,
    "start_time": "2021-11-16T09:21:29.568Z"
   },
   {
    "duration": 3,
    "start_time": "2021-11-16T09:24:14.495Z"
   },
   {
    "duration": 120,
    "start_time": "2021-11-16T09:24:46.630Z"
   },
   {
    "duration": 3,
    "start_time": "2021-11-16T09:28:27.882Z"
   },
   {
    "duration": 4,
    "start_time": "2021-11-16T09:29:54.281Z"
   },
   {
    "duration": 3,
    "start_time": "2021-11-16T09:30:45.936Z"
   },
   {
    "duration": 4,
    "start_time": "2021-11-16T09:31:06.300Z"
   },
   {
    "duration": 113,
    "start_time": "2021-11-16T09:31:37.208Z"
   },
   {
    "duration": 143,
    "start_time": "2021-11-16T09:31:48.656Z"
   },
   {
    "duration": 98,
    "start_time": "2021-11-16T09:31:55.678Z"
   },
   {
    "duration": 3,
    "start_time": "2021-11-16T09:32:08.535Z"
   },
   {
    "duration": 111,
    "start_time": "2021-11-16T09:32:10.120Z"
   },
   {
    "duration": 3,
    "start_time": "2021-11-16T09:32:15.732Z"
   },
   {
    "duration": 4,
    "start_time": "2021-11-16T09:32:29.423Z"
   },
   {
    "duration": 3,
    "start_time": "2021-11-16T10:03:03.074Z"
   },
   {
    "duration": 3,
    "start_time": "2021-11-16T10:10:01.288Z"
   },
   {
    "duration": 3,
    "start_time": "2021-11-16T10:10:46.923Z"
   },
   {
    "duration": 121,
    "start_time": "2021-11-16T10:37:46.494Z"
   },
   {
    "duration": 125,
    "start_time": "2021-11-16T10:38:20.632Z"
   },
   {
    "duration": 112,
    "start_time": "2021-11-16T10:46:53.001Z"
   },
   {
    "duration": 110,
    "start_time": "2021-11-16T10:48:25.775Z"
   },
   {
    "duration": 3,
    "start_time": "2021-11-16T10:50:18.720Z"
   },
   {
    "duration": 4,
    "start_time": "2021-11-16T10:50:37.649Z"
   },
   {
    "duration": 2,
    "start_time": "2021-11-16T10:50:51.884Z"
   },
   {
    "duration": 3,
    "start_time": "2021-11-16T10:51:56.237Z"
   },
   {
    "duration": 101,
    "start_time": "2021-11-16T10:53:13.791Z"
   },
   {
    "duration": 3,
    "start_time": "2021-11-16T10:55:59.186Z"
   },
   {
    "duration": 3,
    "start_time": "2021-11-16T10:56:10.751Z"
   },
   {
    "duration": 3,
    "start_time": "2021-11-16T10:56:49.038Z"
   },
   {
    "duration": 3,
    "start_time": "2021-11-16T10:56:49.174Z"
   },
   {
    "duration": 4,
    "start_time": "2021-11-16T10:56:49.414Z"
   },
   {
    "duration": 3,
    "start_time": "2021-11-16T10:56:49.680Z"
   },
   {
    "duration": 3,
    "start_time": "2021-11-16T10:56:50.370Z"
   },
   {
    "duration": 114,
    "start_time": "2021-11-16T10:59:34.518Z"
   },
   {
    "duration": 3,
    "start_time": "2021-11-16T11:01:41.201Z"
   },
   {
    "duration": 116,
    "start_time": "2021-11-16T11:01:48.754Z"
   },
   {
    "duration": 3,
    "start_time": "2021-11-16T11:02:16.685Z"
   },
   {
    "duration": 3,
    "start_time": "2021-11-16T11:02:19.479Z"
   },
   {
    "duration": 3,
    "start_time": "2021-11-16T11:02:47.067Z"
   },
   {
    "duration": 3,
    "start_time": "2021-11-16T11:02:49.353Z"
   },
   {
    "duration": 3,
    "start_time": "2021-11-16T11:03:07.835Z"
   },
   {
    "duration": 3,
    "start_time": "2021-11-16T11:03:07.953Z"
   },
   {
    "duration": 112,
    "start_time": "2021-11-16T11:07:52.072Z"
   },
   {
    "duration": 187,
    "start_time": "2021-11-16T11:09:23.468Z"
   },
   {
    "duration": 4,
    "start_time": "2021-11-16T11:10:01.455Z"
   },
   {
    "duration": 3,
    "start_time": "2021-11-16T11:10:05.069Z"
   },
   {
    "duration": 4,
    "start_time": "2021-11-16T11:10:13.376Z"
   },
   {
    "duration": 3,
    "start_time": "2021-11-16T11:10:14.434Z"
   },
   {
    "duration": 3,
    "start_time": "2021-11-16T11:10:22.853Z"
   },
   {
    "duration": 4,
    "start_time": "2021-11-16T11:27:29.279Z"
   },
   {
    "duration": 4,
    "start_time": "2021-11-16T11:29:08.919Z"
   },
   {
    "duration": 118,
    "start_time": "2021-11-16T11:29:46.703Z"
   },
   {
    "duration": 437,
    "start_time": "2021-11-16T11:36:02.181Z"
   },
   {
    "duration": 157,
    "start_time": "2021-11-16T11:36:14.388Z"
   },
   {
    "duration": 207,
    "start_time": "2021-11-16T11:47:15.898Z"
   },
   {
    "duration": 3,
    "start_time": "2021-11-16T11:53:52.092Z"
   },
   {
    "duration": 3,
    "start_time": "2021-11-16T11:53:52.236Z"
   },
   {
    "duration": 3,
    "start_time": "2021-11-16T11:59:12.005Z"
   },
   {
    "duration": 112,
    "start_time": "2021-11-16T12:00:33.446Z"
   },
   {
    "duration": 3,
    "start_time": "2021-11-16T12:02:14.453Z"
   },
   {
    "duration": 3,
    "start_time": "2021-11-16T12:02:39.512Z"
   },
   {
    "duration": 106,
    "start_time": "2021-11-16T12:03:03.460Z"
   },
   {
    "duration": 3,
    "start_time": "2021-11-17T20:37:21.139Z"
   },
   {
    "duration": 3,
    "start_time": "2021-11-17T20:37:22.229Z"
   },
   {
    "duration": 3,
    "start_time": "2021-11-17T20:38:38.806Z"
   },
   {
    "duration": 3,
    "start_time": "2021-11-17T20:38:41.958Z"
   },
   {
    "duration": 3,
    "start_time": "2021-11-17T20:43:46.551Z"
   },
   {
    "duration": 4,
    "start_time": "2021-11-17T20:58:21.835Z"
   },
   {
    "duration": 3,
    "start_time": "2021-11-17T20:59:21.872Z"
   },
   {
    "duration": 4,
    "start_time": "2021-11-17T20:59:45.352Z"
   },
   {
    "duration": 4,
    "start_time": "2021-11-17T20:59:49.646Z"
   },
   {
    "duration": 159,
    "start_time": "2021-11-17T21:02:26.949Z"
   },
   {
    "duration": 3,
    "start_time": "2021-11-17T21:03:53.461Z"
   },
   {
    "duration": 3,
    "start_time": "2021-11-17T21:03:53.694Z"
   },
   {
    "duration": 3,
    "start_time": "2021-11-17T21:05:28.145Z"
   },
   {
    "duration": 116,
    "start_time": "2021-11-17T21:05:57.787Z"
   },
   {
    "duration": 3,
    "start_time": "2021-11-17T21:06:37.993Z"
   },
   {
    "duration": 3,
    "start_time": "2021-11-17T21:06:38.261Z"
   },
   {
    "duration": 3,
    "start_time": "2021-11-17T21:11:54.358Z"
   },
   {
    "duration": 3,
    "start_time": "2021-11-17T21:12:43.846Z"
   },
   {
    "duration": 4,
    "start_time": "2021-11-17T21:13:08.773Z"
   },
   {
    "duration": 3,
    "start_time": "2021-11-17T21:14:44.441Z"
   },
   {
    "duration": 3,
    "start_time": "2021-11-17T21:15:42.059Z"
   },
   {
    "duration": 4,
    "start_time": "2021-11-17T21:15:51.995Z"
   },
   {
    "duration": 3,
    "start_time": "2021-11-17T21:15:53.923Z"
   },
   {
    "duration": 3,
    "start_time": "2021-11-17T21:15:55.282Z"
   },
   {
    "duration": 3,
    "start_time": "2021-11-17T21:16:28.492Z"
   },
   {
    "duration": 3,
    "start_time": "2021-11-17T21:16:32.603Z"
   },
   {
    "duration": 3,
    "start_time": "2021-11-17T21:17:06.941Z"
   },
   {
    "duration": 98,
    "start_time": "2021-11-17T21:18:05.733Z"
   },
   {
    "duration": 4,
    "start_time": "2021-11-17T21:21:35.255Z"
   },
   {
    "duration": 3,
    "start_time": "2021-11-17T21:21:37.804Z"
   },
   {
    "duration": 4,
    "start_time": "2021-11-17T21:23:06.071Z"
   },
   {
    "duration": 3,
    "start_time": "2021-11-17T21:23:24.799Z"
   },
   {
    "duration": 3,
    "start_time": "2021-11-17T21:23:32.591Z"
   },
   {
    "duration": 98,
    "start_time": "2021-11-17T21:28:31.559Z"
   },
   {
    "duration": 3,
    "start_time": "2021-11-17T21:28:45.448Z"
   },
   {
    "duration": 3,
    "start_time": "2021-11-17T21:29:17.303Z"
   },
   {
    "duration": 3,
    "start_time": "2021-11-17T21:29:29.617Z"
   },
   {
    "duration": 3,
    "start_time": "2021-11-17T21:29:32.681Z"
   },
   {
    "duration": 3,
    "start_time": "2021-11-17T21:36:11.474Z"
   },
   {
    "duration": 3,
    "start_time": "2021-11-17T21:36:14.791Z"
   },
   {
    "duration": 3,
    "start_time": "2021-11-17T21:36:53.943Z"
   },
   {
    "duration": 3,
    "start_time": "2021-11-17T21:36:56.165Z"
   },
   {
    "duration": 4,
    "start_time": "2021-11-17T21:37:16.590Z"
   },
   {
    "duration": 3,
    "start_time": "2021-11-17T21:37:22.702Z"
   },
   {
    "duration": 4,
    "start_time": "2021-11-17T21:38:03.479Z"
   },
   {
    "duration": 3,
    "start_time": "2021-11-17T21:38:08.601Z"
   },
   {
    "duration": 3,
    "start_time": "2021-11-17T21:38:12.928Z"
   },
   {
    "duration": 3,
    "start_time": "2021-11-17T21:38:48.896Z"
   },
   {
    "duration": 2,
    "start_time": "2021-11-17T21:38:49.171Z"
   },
   {
    "duration": 4,
    "start_time": "2021-11-17T21:39:57.889Z"
   },
   {
    "duration": 3,
    "start_time": "2021-11-17T21:39:58.057Z"
   },
   {
    "duration": 3,
    "start_time": "2021-11-17T21:41:20.108Z"
   },
   {
    "duration": 3,
    "start_time": "2021-11-17T21:41:20.629Z"
   },
   {
    "duration": 3,
    "start_time": "2021-11-17T21:42:49.136Z"
   },
   {
    "duration": 3,
    "start_time": "2021-11-17T21:43:15.137Z"
   },
   {
    "duration": 4,
    "start_time": "2021-11-17T21:43:16.766Z"
   },
   {
    "duration": 4,
    "start_time": "2021-11-17T21:43:31.711Z"
   },
   {
    "duration": 3,
    "start_time": "2021-11-17T21:43:36.312Z"
   },
   {
    "duration": 4,
    "start_time": "2021-11-17T21:45:08.825Z"
   },
   {
    "duration": 4,
    "start_time": "2021-11-17T21:45:10.119Z"
   },
   {
    "duration": 4,
    "start_time": "2021-11-17T21:45:13.748Z"
   },
   {
    "duration": 3,
    "start_time": "2021-11-17T21:45:22.219Z"
   },
   {
    "duration": 3,
    "start_time": "2021-11-17T21:45:33.412Z"
   },
   {
    "duration": 2,
    "start_time": "2021-11-17T21:46:01.885Z"
   },
   {
    "duration": 3,
    "start_time": "2021-11-17T21:46:03.628Z"
   },
   {
    "duration": 107,
    "start_time": "2021-11-17T21:47:32.512Z"
   },
   {
    "duration": 103,
    "start_time": "2021-11-17T21:50:36.243Z"
   },
   {
    "duration": 3,
    "start_time": "2021-11-18T06:28:31.440Z"
   },
   {
    "duration": 3,
    "start_time": "2021-11-18T06:29:00.168Z"
   },
   {
    "duration": 3,
    "start_time": "2021-11-18T06:31:27.008Z"
   },
   {
    "duration": 2,
    "start_time": "2021-11-18T06:35:34.288Z"
   },
   {
    "duration": 2,
    "start_time": "2021-11-18T06:38:04.527Z"
   },
   {
    "duration": 156,
    "start_time": "2025-04-02T23:13:42.737Z"
   },
   {
    "duration": 12,
    "start_time": "2025-04-02T23:14:08.935Z"
   },
   {
    "duration": 2571,
    "start_time": "2025-04-02T23:15:10.195Z"
   },
   {
    "duration": 208,
    "start_time": "2025-04-02T23:15:12.768Z"
   },
   {
    "duration": 21,
    "start_time": "2025-04-02T23:15:14.805Z"
   },
   {
    "duration": 18,
    "start_time": "2025-04-02T23:15:42.109Z"
   },
   {
    "duration": 15,
    "start_time": "2025-04-02T23:18:17.382Z"
   },
   {
    "duration": 20,
    "start_time": "2025-04-02T23:41:47.006Z"
   },
   {
    "duration": 17,
    "start_time": "2025-04-02T23:44:33.024Z"
   },
   {
    "duration": 18,
    "start_time": "2025-04-02T23:46:22.921Z"
   },
   {
    "duration": 19,
    "start_time": "2025-04-02T23:47:39.376Z"
   },
   {
    "duration": 20,
    "start_time": "2025-04-02T23:47:48.569Z"
   },
   {
    "duration": 19,
    "start_time": "2025-04-02T23:48:05.443Z"
   },
   {
    "duration": 3,
    "start_time": "2025-04-02T23:48:47.945Z"
   },
   {
    "duration": 157,
    "start_time": "2025-04-02T23:48:50.153Z"
   },
   {
    "duration": 15,
    "start_time": "2025-04-02T23:48:53.459Z"
   },
   {
    "duration": 21,
    "start_time": "2025-04-02T23:48:59.449Z"
   },
   {
    "duration": 17,
    "start_time": "2025-04-02T23:49:05.193Z"
   },
   {
    "duration": 19,
    "start_time": "2025-04-02T23:49:07.748Z"
   },
   {
    "duration": 14,
    "start_time": "2025-04-02T23:49:10.881Z"
   },
   {
    "duration": 808,
    "start_time": "2025-04-02T23:54:04.432Z"
   },
   {
    "duration": 154,
    "start_time": "2025-04-02T23:54:05.242Z"
   },
   {
    "duration": 17,
    "start_time": "2025-04-02T23:54:05.398Z"
   },
   {
    "duration": 18,
    "start_time": "2025-04-02T23:54:05.417Z"
   },
   {
    "duration": 37,
    "start_time": "2025-04-02T23:54:05.438Z"
   },
   {
    "duration": 18,
    "start_time": "2025-04-02T23:54:05.476Z"
   },
   {
    "duration": 17,
    "start_time": "2025-04-02T23:54:05.495Z"
   },
   {
    "duration": 2,
    "start_time": "2025-04-02T23:54:05.514Z"
   },
   {
    "duration": 3,
    "start_time": "2025-04-02T23:54:05.518Z"
   },
   {
    "duration": 3,
    "start_time": "2025-04-02T23:54:05.523Z"
   },
   {
    "duration": 2,
    "start_time": "2025-04-02T23:54:05.529Z"
   },
   {
    "duration": 3,
    "start_time": "2025-04-02T23:54:05.533Z"
   },
   {
    "duration": 35,
    "start_time": "2025-04-02T23:54:05.537Z"
   },
   {
    "duration": 2,
    "start_time": "2025-04-02T23:54:05.576Z"
   },
   {
    "duration": 4,
    "start_time": "2025-04-02T23:54:05.579Z"
   },
   {
    "duration": 3,
    "start_time": "2025-04-02T23:54:05.584Z"
   },
   {
    "duration": 3,
    "start_time": "2025-04-02T23:54:05.589Z"
   },
   {
    "duration": 3,
    "start_time": "2025-04-02T23:54:05.593Z"
   },
   {
    "duration": 3,
    "start_time": "2025-04-02T23:54:05.598Z"
   },
   {
    "duration": 3,
    "start_time": "2025-04-02T23:54:05.602Z"
   },
   {
    "duration": 4,
    "start_time": "2025-04-02T23:54:05.607Z"
   },
   {
    "duration": 3,
    "start_time": "2025-04-02T23:54:05.613Z"
   },
   {
    "duration": 3,
    "start_time": "2025-04-02T23:54:05.617Z"
   },
   {
    "duration": 3,
    "start_time": "2025-04-02T23:54:05.622Z"
   },
   {
    "duration": 43,
    "start_time": "2025-04-02T23:54:05.627Z"
   },
   {
    "duration": 3,
    "start_time": "2025-04-02T23:54:05.672Z"
   },
   {
    "duration": 3,
    "start_time": "2025-04-02T23:54:05.676Z"
   },
   {
    "duration": 3,
    "start_time": "2025-04-02T23:54:05.681Z"
   },
   {
    "duration": 3,
    "start_time": "2025-04-02T23:54:05.685Z"
   },
   {
    "duration": 3,
    "start_time": "2025-04-02T23:54:05.690Z"
   },
   {
    "duration": 3,
    "start_time": "2025-04-02T23:54:05.694Z"
   },
   {
    "duration": 3,
    "start_time": "2025-04-02T23:54:05.699Z"
   },
   {
    "duration": 3,
    "start_time": "2025-04-02T23:54:05.703Z"
   },
   {
    "duration": 14,
    "start_time": "2025-04-02T23:54:22.210Z"
   },
   {
    "duration": 906,
    "start_time": "2025-04-03T19:09:28.120Z"
   },
   {
    "duration": 179,
    "start_time": "2025-04-03T19:09:29.029Z"
   },
   {
    "duration": 19,
    "start_time": "2025-04-03T19:09:29.210Z"
   },
   {
    "duration": 21,
    "start_time": "2025-04-03T19:09:29.232Z"
   },
   {
    "duration": 18,
    "start_time": "2025-04-03T19:09:29.271Z"
   },
   {
    "duration": 19,
    "start_time": "2025-04-03T19:09:29.291Z"
   },
   {
    "duration": 18,
    "start_time": "2025-04-03T19:09:29.312Z"
   },
   {
    "duration": 2,
    "start_time": "2025-04-03T19:09:29.332Z"
   },
   {
    "duration": 2,
    "start_time": "2025-04-03T19:09:29.370Z"
   },
   {
    "duration": 2,
    "start_time": "2025-04-03T19:09:29.376Z"
   },
   {
    "duration": 3,
    "start_time": "2025-04-03T19:09:29.379Z"
   },
   {
    "duration": 2,
    "start_time": "2025-04-03T19:09:29.384Z"
   },
   {
    "duration": 4,
    "start_time": "2025-04-03T19:09:29.388Z"
   },
   {
    "duration": 3,
    "start_time": "2025-04-03T19:09:29.394Z"
   },
   {
    "duration": 3,
    "start_time": "2025-04-03T19:09:29.399Z"
   },
   {
    "duration": 4,
    "start_time": "2025-04-03T19:09:29.403Z"
   },
   {
    "duration": 3,
    "start_time": "2025-04-03T19:09:29.409Z"
   },
   {
    "duration": 3,
    "start_time": "2025-04-03T19:09:29.413Z"
   },
   {
    "duration": 2,
    "start_time": "2025-04-03T19:09:29.418Z"
   },
   {
    "duration": 3,
    "start_time": "2025-04-03T19:09:29.422Z"
   },
   {
    "duration": 43,
    "start_time": "2025-04-03T19:09:29.427Z"
   },
   {
    "duration": 3,
    "start_time": "2025-04-03T19:09:29.472Z"
   },
   {
    "duration": 3,
    "start_time": "2025-04-03T19:09:29.477Z"
   },
   {
    "duration": 3,
    "start_time": "2025-04-03T19:09:29.482Z"
   },
   {
    "duration": 3,
    "start_time": "2025-04-03T19:09:29.486Z"
   },
   {
    "duration": 4,
    "start_time": "2025-04-03T19:09:29.490Z"
   },
   {
    "duration": 4,
    "start_time": "2025-04-03T19:09:29.495Z"
   },
   {
    "duration": 2,
    "start_time": "2025-04-03T19:09:29.503Z"
   },
   {
    "duration": 3,
    "start_time": "2025-04-03T19:09:29.506Z"
   },
   {
    "duration": 3,
    "start_time": "2025-04-03T19:09:29.511Z"
   },
   {
    "duration": 4,
    "start_time": "2025-04-03T19:09:29.515Z"
   },
   {
    "duration": 2,
    "start_time": "2025-04-03T19:09:29.522Z"
   },
   {
    "duration": 45,
    "start_time": "2025-04-03T19:09:29.526Z"
   },
   {
    "duration": 263,
    "start_time": "2025-04-03T20:13:05.689Z"
   },
   {
    "duration": 10,
    "start_time": "2025-04-03T20:13:16.255Z"
   },
   {
    "duration": 5,
    "start_time": "2025-04-03T20:13:48.384Z"
   },
   {
    "duration": 7,
    "start_time": "2025-04-03T20:14:56.831Z"
   },
   {
    "duration": 801,
    "start_time": "2025-04-03T21:24:54.747Z"
   },
   {
    "duration": 154,
    "start_time": "2025-04-03T21:24:55.550Z"
   },
   {
    "duration": 27,
    "start_time": "2025-04-03T21:24:55.706Z"
   },
   {
    "duration": 9,
    "start_time": "2025-04-03T21:24:55.735Z"
   },
   {
    "duration": 27,
    "start_time": "2025-04-03T21:24:55.746Z"
   },
   {
    "duration": 4,
    "start_time": "2025-04-03T21:24:55.775Z"
   },
   {
    "duration": 5,
    "start_time": "2025-04-03T21:24:55.780Z"
   },
   {
    "duration": 3,
    "start_time": "2025-04-03T21:24:55.786Z"
   },
   {
    "duration": 3,
    "start_time": "2025-04-03T21:24:55.791Z"
   },
   {
    "duration": 7,
    "start_time": "2025-04-03T21:24:55.797Z"
   },
   {
    "duration": 3,
    "start_time": "2025-04-03T21:24:55.806Z"
   },
   {
    "duration": 2,
    "start_time": "2025-04-03T21:24:55.811Z"
   },
   {
    "duration": 3,
    "start_time": "2025-04-03T21:24:55.815Z"
   },
   {
    "duration": 3,
    "start_time": "2025-04-03T21:24:55.820Z"
   },
   {
    "duration": 3,
    "start_time": "2025-04-03T21:24:55.824Z"
   },
   {
    "duration": 3,
    "start_time": "2025-04-03T21:24:55.829Z"
   },
   {
    "duration": 2,
    "start_time": "2025-04-03T21:24:55.871Z"
   },
   {
    "duration": 3,
    "start_time": "2025-04-03T21:24:55.874Z"
   },
   {
    "duration": 3,
    "start_time": "2025-04-03T21:24:55.879Z"
   },
   {
    "duration": 3,
    "start_time": "2025-04-03T21:24:55.884Z"
   },
   {
    "duration": 4,
    "start_time": "2025-04-03T21:24:55.888Z"
   },
   {
    "duration": 3,
    "start_time": "2025-04-03T21:24:55.894Z"
   },
   {
    "duration": 3,
    "start_time": "2025-04-03T21:24:55.899Z"
   },
   {
    "duration": 4,
    "start_time": "2025-04-03T21:24:55.903Z"
   },
   {
    "duration": 3,
    "start_time": "2025-04-03T21:24:55.908Z"
   },
   {
    "duration": 3,
    "start_time": "2025-04-03T21:24:55.913Z"
   },
   {
    "duration": 3,
    "start_time": "2025-04-03T21:24:55.918Z"
   },
   {
    "duration": 2,
    "start_time": "2025-04-03T21:24:55.924Z"
   },
   {
    "duration": 3,
    "start_time": "2025-04-03T21:24:55.927Z"
   },
   {
    "duration": 2,
    "start_time": "2025-04-03T21:24:55.971Z"
   },
   {
    "duration": 4,
    "start_time": "2025-04-03T21:24:55.974Z"
   },
   {
    "duration": 3,
    "start_time": "2025-04-03T21:24:55.979Z"
   },
   {
    "duration": 26,
    "start_time": "2025-04-03T21:25:30.014Z"
   },
   {
    "duration": 27,
    "start_time": "2025-04-03T21:26:41.791Z"
   },
   {
    "duration": 9,
    "start_time": "2025-04-03T21:30:56.345Z"
   },
   {
    "duration": 786,
    "start_time": "2025-04-03T21:31:17.567Z"
   },
   {
    "duration": 164,
    "start_time": "2025-04-03T21:31:18.356Z"
   },
   {
    "duration": 29,
    "start_time": "2025-04-03T21:31:18.521Z"
   },
   {
    "duration": 23,
    "start_time": "2025-04-03T21:31:18.552Z"
   },
   {
    "duration": 13,
    "start_time": "2025-04-03T21:31:18.577Z"
   },
   {
    "duration": 5,
    "start_time": "2025-04-03T21:31:18.592Z"
   },
   {
    "duration": 4,
    "start_time": "2025-04-03T21:31:18.599Z"
   },
   {
    "duration": 9,
    "start_time": "2025-04-03T21:31:18.604Z"
   },
   {
    "duration": 12,
    "start_time": "2025-04-03T21:31:18.614Z"
   },
   {
    "duration": 8,
    "start_time": "2025-04-03T21:31:18.627Z"
   },
   {
    "duration": 36,
    "start_time": "2025-04-03T21:31:18.637Z"
   },
   {
    "duration": 3,
    "start_time": "2025-04-03T21:31:18.674Z"
   },
   {
    "duration": 3,
    "start_time": "2025-04-03T21:31:18.679Z"
   },
   {
    "duration": 2,
    "start_time": "2025-04-03T21:31:18.686Z"
   },
   {
    "duration": 3,
    "start_time": "2025-04-03T21:31:18.689Z"
   },
   {
    "duration": 3,
    "start_time": "2025-04-03T21:31:18.694Z"
   },
   {
    "duration": 4,
    "start_time": "2025-04-03T21:31:18.698Z"
   },
   {
    "duration": 3,
    "start_time": "2025-04-03T21:31:18.703Z"
   },
   {
    "duration": 3,
    "start_time": "2025-04-03T21:31:18.708Z"
   },
   {
    "duration": 3,
    "start_time": "2025-04-03T21:31:18.713Z"
   },
   {
    "duration": 3,
    "start_time": "2025-04-03T21:31:18.718Z"
   },
   {
    "duration": 4,
    "start_time": "2025-04-03T21:31:18.722Z"
   },
   {
    "duration": 43,
    "start_time": "2025-04-03T21:31:18.727Z"
   },
   {
    "duration": 3,
    "start_time": "2025-04-03T21:31:18.771Z"
   },
   {
    "duration": 3,
    "start_time": "2025-04-03T21:31:18.776Z"
   },
   {
    "duration": 3,
    "start_time": "2025-04-03T21:31:18.781Z"
   },
   {
    "duration": 4,
    "start_time": "2025-04-03T21:31:18.786Z"
   },
   {
    "duration": 3,
    "start_time": "2025-04-03T21:31:18.791Z"
   },
   {
    "duration": 4,
    "start_time": "2025-04-03T21:31:18.795Z"
   },
   {
    "duration": 4,
    "start_time": "2025-04-03T21:31:18.800Z"
   },
   {
    "duration": 3,
    "start_time": "2025-04-03T21:31:18.805Z"
   },
   {
    "duration": 3,
    "start_time": "2025-04-03T21:31:18.810Z"
   },
   {
    "duration": 10,
    "start_time": "2025-04-03T21:34:27.549Z"
   },
   {
    "duration": 787,
    "start_time": "2025-04-03T21:34:44.926Z"
   },
   {
    "duration": 163,
    "start_time": "2025-04-03T21:34:45.715Z"
   },
   {
    "duration": 29,
    "start_time": "2025-04-03T21:34:45.880Z"
   },
   {
    "duration": 10,
    "start_time": "2025-04-03T21:34:45.911Z"
   },
   {
    "duration": 7,
    "start_time": "2025-04-03T21:34:45.922Z"
   },
   {
    "duration": 5,
    "start_time": "2025-04-03T21:34:45.930Z"
   },
   {
    "duration": 34,
    "start_time": "2025-04-03T21:34:45.936Z"
   },
   {
    "duration": 8,
    "start_time": "2025-04-03T21:34:45.972Z"
   },
   {
    "duration": 8,
    "start_time": "2025-04-03T21:34:45.982Z"
   },
   {
    "duration": 7,
    "start_time": "2025-04-03T21:34:45.994Z"
   },
   {
    "duration": 3,
    "start_time": "2025-04-03T21:34:46.003Z"
   },
   {
    "duration": 3,
    "start_time": "2025-04-03T21:34:46.007Z"
   },
   {
    "duration": 3,
    "start_time": "2025-04-03T21:34:46.012Z"
   },
   {
    "duration": 2,
    "start_time": "2025-04-03T21:34:46.017Z"
   },
   {
    "duration": 4,
    "start_time": "2025-04-03T21:34:46.021Z"
   },
   {
    "duration": 3,
    "start_time": "2025-04-03T21:34:46.026Z"
   },
   {
    "duration": 41,
    "start_time": "2025-04-03T21:34:46.030Z"
   },
   {
    "duration": 3,
    "start_time": "2025-04-03T21:34:46.073Z"
   },
   {
    "duration": 3,
    "start_time": "2025-04-03T21:34:46.077Z"
   },
   {
    "duration": 3,
    "start_time": "2025-04-03T21:34:46.082Z"
   },
   {
    "duration": 4,
    "start_time": "2025-04-03T21:34:46.086Z"
   },
   {
    "duration": 2,
    "start_time": "2025-04-03T21:34:46.092Z"
   },
   {
    "duration": 2,
    "start_time": "2025-04-03T21:34:46.096Z"
   },
   {
    "duration": 2,
    "start_time": "2025-04-03T21:34:46.101Z"
   },
   {
    "duration": 4,
    "start_time": "2025-04-03T21:34:46.105Z"
   },
   {
    "duration": 4,
    "start_time": "2025-04-03T21:34:46.110Z"
   },
   {
    "duration": 3,
    "start_time": "2025-04-03T21:34:46.115Z"
   },
   {
    "duration": 2,
    "start_time": "2025-04-03T21:34:46.123Z"
   },
   {
    "duration": 3,
    "start_time": "2025-04-03T21:34:46.170Z"
   },
   {
    "duration": 3,
    "start_time": "2025-04-03T21:34:46.174Z"
   },
   {
    "duration": 3,
    "start_time": "2025-04-03T21:34:46.179Z"
   },
   {
    "duration": 4,
    "start_time": "2025-04-03T21:34:46.183Z"
   },
   {
    "duration": 16,
    "start_time": "2025-04-03T21:57:58.187Z"
   },
   {
    "duration": 5,
    "start_time": "2025-04-03T21:58:03.875Z"
   },
   {
    "duration": 12,
    "start_time": "2025-04-03T22:25:15.943Z"
   },
   {
    "duration": 6,
    "start_time": "2025-04-03T22:25:29.666Z"
   },
   {
    "duration": 7,
    "start_time": "2025-04-03T22:25:38.849Z"
   },
   {
    "duration": 864,
    "start_time": "2025-04-03T22:27:51.187Z"
   },
   {
    "duration": 173,
    "start_time": "2025-04-03T22:27:52.054Z"
   },
   {
    "duration": 42,
    "start_time": "2025-04-03T22:27:52.229Z"
   },
   {
    "duration": 9,
    "start_time": "2025-04-03T22:27:52.274Z"
   },
   {
    "duration": 8,
    "start_time": "2025-04-03T22:27:52.285Z"
   },
   {
    "duration": 6,
    "start_time": "2025-04-03T22:27:52.294Z"
   },
   {
    "duration": 4,
    "start_time": "2025-04-03T22:27:52.302Z"
   },
   {
    "duration": 8,
    "start_time": "2025-04-03T22:27:52.307Z"
   },
   {
    "duration": 8,
    "start_time": "2025-04-03T22:27:52.317Z"
   },
   {
    "duration": 43,
    "start_time": "2025-04-03T22:27:52.328Z"
   },
   {
    "duration": 5,
    "start_time": "2025-04-03T22:27:52.372Z"
   },
   {
    "duration": 15,
    "start_time": "2025-04-03T22:27:52.378Z"
   },
   {
    "duration": 6,
    "start_time": "2025-04-03T22:27:52.395Z"
   },
   {
    "duration": 24,
    "start_time": "2025-04-03T22:27:52.403Z"
   },
   {
    "duration": 41,
    "start_time": "2025-04-03T22:27:52.429Z"
   },
   {
    "duration": 6,
    "start_time": "2025-04-03T22:27:52.472Z"
   },
   {
    "duration": 4,
    "start_time": "2025-04-03T22:27:52.479Z"
   },
   {
    "duration": 3,
    "start_time": "2025-04-03T22:27:52.485Z"
   },
   {
    "duration": 3,
    "start_time": "2025-04-03T22:27:52.489Z"
   },
   {
    "duration": 2,
    "start_time": "2025-04-03T22:27:52.494Z"
   },
   {
    "duration": 3,
    "start_time": "2025-04-03T22:27:52.498Z"
   },
   {
    "duration": 4,
    "start_time": "2025-04-03T22:27:52.502Z"
   },
   {
    "duration": 4,
    "start_time": "2025-04-03T22:27:52.507Z"
   },
   {
    "duration": 3,
    "start_time": "2025-04-03T22:27:52.512Z"
   },
   {
    "duration": 3,
    "start_time": "2025-04-03T22:27:52.517Z"
   },
   {
    "duration": 3,
    "start_time": "2025-04-03T22:27:52.521Z"
   },
   {
    "duration": 3,
    "start_time": "2025-04-03T22:27:52.526Z"
   },
   {
    "duration": 3,
    "start_time": "2025-04-03T22:27:52.572Z"
   },
   {
    "duration": 3,
    "start_time": "2025-04-03T22:27:52.576Z"
   },
   {
    "duration": 3,
    "start_time": "2025-04-03T22:27:52.581Z"
   },
   {
    "duration": 3,
    "start_time": "2025-04-03T22:27:52.585Z"
   },
   {
    "duration": 3,
    "start_time": "2025-04-03T22:27:52.590Z"
   },
   {
    "duration": 3,
    "start_time": "2025-04-03T22:27:52.594Z"
   },
   {
    "duration": 3,
    "start_time": "2025-04-03T22:27:52.599Z"
   },
   {
    "duration": 125,
    "start_time": "2025-04-03T22:36:27.203Z"
   },
   {
    "duration": 15,
    "start_time": "2025-04-03T22:36:34.713Z"
   },
   {
    "duration": 6,
    "start_time": "2025-04-03T22:38:38.675Z"
   },
   {
    "duration": 150,
    "start_time": "2025-04-03T22:45:16.550Z"
   },
   {
    "duration": 7,
    "start_time": "2025-04-03T22:45:19.321Z"
   },
   {
    "duration": 22,
    "start_time": "2025-04-03T23:00:22.966Z"
   },
   {
    "duration": 29,
    "start_time": "2025-04-04T14:18:46.690Z"
   },
   {
    "duration": 30,
    "start_time": "2025-04-04T14:23:45.632Z"
   },
   {
    "duration": 21,
    "start_time": "2025-04-04T14:40:38.966Z"
   },
   {
    "duration": 239,
    "start_time": "2025-04-04T15:12:26.847Z"
   },
   {
    "duration": 28,
    "start_time": "2025-04-04T15:13:08.179Z"
   },
   {
    "duration": 798,
    "start_time": "2025-04-04T15:14:14.154Z"
   },
   {
    "duration": 155,
    "start_time": "2025-04-04T15:14:14.954Z"
   },
   {
    "duration": 29,
    "start_time": "2025-04-04T15:14:15.111Z"
   },
   {
    "duration": 9,
    "start_time": "2025-04-04T15:14:15.142Z"
   },
   {
    "duration": 7,
    "start_time": "2025-04-04T15:14:15.170Z"
   },
   {
    "duration": 5,
    "start_time": "2025-04-04T15:14:15.178Z"
   },
   {
    "duration": 5,
    "start_time": "2025-04-04T15:14:15.184Z"
   },
   {
    "duration": 8,
    "start_time": "2025-04-04T15:14:15.190Z"
   },
   {
    "duration": 7,
    "start_time": "2025-04-04T15:14:15.200Z"
   },
   {
    "duration": 6,
    "start_time": "2025-04-04T15:14:15.209Z"
   },
   {
    "duration": 5,
    "start_time": "2025-04-04T15:14:15.217Z"
   },
   {
    "duration": 52,
    "start_time": "2025-04-04T15:14:15.224Z"
   },
   {
    "duration": 7,
    "start_time": "2025-04-04T15:14:15.278Z"
   },
   {
    "duration": 23,
    "start_time": "2025-04-04T15:14:15.289Z"
   },
   {
    "duration": 11,
    "start_time": "2025-04-04T15:14:15.314Z"
   },
   {
    "duration": 6,
    "start_time": "2025-04-04T15:14:15.327Z"
   },
   {
    "duration": 39,
    "start_time": "2025-04-04T15:14:15.336Z"
   },
   {
    "duration": 14,
    "start_time": "2025-04-04T15:14:15.376Z"
   },
   {
    "duration": 6,
    "start_time": "2025-04-04T15:14:15.392Z"
   },
   {
    "duration": 688,
    "start_time": "2025-04-04T15:14:15.400Z"
   },
   {
    "duration": 0,
    "start_time": "2025-04-04T15:14:16.089Z"
   },
   {
    "duration": 0,
    "start_time": "2025-04-04T15:14:16.091Z"
   },
   {
    "duration": 0,
    "start_time": "2025-04-04T15:14:16.093Z"
   },
   {
    "duration": 0,
    "start_time": "2025-04-04T15:14:16.094Z"
   },
   {
    "duration": 0,
    "start_time": "2025-04-04T15:14:16.095Z"
   },
   {
    "duration": 0,
    "start_time": "2025-04-04T15:14:16.096Z"
   },
   {
    "duration": 0,
    "start_time": "2025-04-04T15:14:16.098Z"
   },
   {
    "duration": 0,
    "start_time": "2025-04-04T15:14:16.099Z"
   },
   {
    "duration": 0,
    "start_time": "2025-04-04T15:14:16.101Z"
   },
   {
    "duration": 0,
    "start_time": "2025-04-04T15:14:16.102Z"
   },
   {
    "duration": 0,
    "start_time": "2025-04-04T15:14:16.103Z"
   },
   {
    "duration": 0,
    "start_time": "2025-04-04T15:14:16.104Z"
   },
   {
    "duration": 0,
    "start_time": "2025-04-04T15:14:16.105Z"
   },
   {
    "duration": 0,
    "start_time": "2025-04-04T15:14:16.107Z"
   },
   {
    "duration": 0,
    "start_time": "2025-04-04T15:14:16.108Z"
   },
   {
    "duration": 0,
    "start_time": "2025-04-04T15:14:16.109Z"
   },
   {
    "duration": 823,
    "start_time": "2025-04-04T15:15:10.187Z"
   },
   {
    "duration": 154,
    "start_time": "2025-04-04T15:15:11.012Z"
   },
   {
    "duration": 29,
    "start_time": "2025-04-04T15:15:11.168Z"
   },
   {
    "duration": 8,
    "start_time": "2025-04-04T15:15:11.199Z"
   },
   {
    "duration": 7,
    "start_time": "2025-04-04T15:15:11.210Z"
   },
   {
    "duration": 4,
    "start_time": "2025-04-04T15:15:11.219Z"
   },
   {
    "duration": 4,
    "start_time": "2025-04-04T15:15:11.225Z"
   },
   {
    "duration": 45,
    "start_time": "2025-04-04T15:15:11.230Z"
   },
   {
    "duration": 9,
    "start_time": "2025-04-04T15:15:11.276Z"
   },
   {
    "duration": 5,
    "start_time": "2025-04-04T15:15:11.287Z"
   },
   {
    "duration": 5,
    "start_time": "2025-04-04T15:15:11.294Z"
   },
   {
    "duration": 16,
    "start_time": "2025-04-04T15:15:11.300Z"
   },
   {
    "duration": 7,
    "start_time": "2025-04-04T15:15:11.317Z"
   },
   {
    "duration": 57,
    "start_time": "2025-04-04T15:15:11.327Z"
   },
   {
    "duration": 14,
    "start_time": "2025-04-04T15:15:11.385Z"
   },
   {
    "duration": 6,
    "start_time": "2025-04-04T15:15:11.400Z"
   },
   {
    "duration": 14,
    "start_time": "2025-04-04T15:15:11.408Z"
   },
   {
    "duration": 13,
    "start_time": "2025-04-04T15:15:11.424Z"
   },
   {
    "duration": 32,
    "start_time": "2025-04-04T15:15:11.439Z"
   },
   {
    "duration": 681,
    "start_time": "2025-04-04T15:15:11.472Z"
   },
   {
    "duration": 0,
    "start_time": "2025-04-04T15:15:12.155Z"
   },
   {
    "duration": 0,
    "start_time": "2025-04-04T15:15:12.156Z"
   },
   {
    "duration": 0,
    "start_time": "2025-04-04T15:15:12.157Z"
   },
   {
    "duration": 0,
    "start_time": "2025-04-04T15:15:12.170Z"
   },
   {
    "duration": 0,
    "start_time": "2025-04-04T15:15:12.171Z"
   },
   {
    "duration": 0,
    "start_time": "2025-04-04T15:15:12.172Z"
   },
   {
    "duration": 0,
    "start_time": "2025-04-04T15:15:12.173Z"
   },
   {
    "duration": 0,
    "start_time": "2025-04-04T15:15:12.174Z"
   },
   {
    "duration": 0,
    "start_time": "2025-04-04T15:15:12.175Z"
   },
   {
    "duration": 0,
    "start_time": "2025-04-04T15:15:12.176Z"
   },
   {
    "duration": 0,
    "start_time": "2025-04-04T15:15:12.177Z"
   },
   {
    "duration": 0,
    "start_time": "2025-04-04T15:15:12.179Z"
   },
   {
    "duration": 0,
    "start_time": "2025-04-04T15:15:12.180Z"
   },
   {
    "duration": 0,
    "start_time": "2025-04-04T15:15:12.181Z"
   },
   {
    "duration": 0,
    "start_time": "2025-04-04T15:15:12.182Z"
   },
   {
    "duration": 0,
    "start_time": "2025-04-04T15:15:12.183Z"
   },
   {
    "duration": 49,
    "start_time": "2025-04-04T15:15:31.970Z"
   },
   {
    "duration": 17,
    "start_time": "2025-04-04T15:16:31.672Z"
   },
   {
    "duration": 842,
    "start_time": "2025-04-04T15:16:37.807Z"
   },
   {
    "duration": 157,
    "start_time": "2025-04-04T15:16:38.651Z"
   },
   {
    "duration": 27,
    "start_time": "2025-04-04T15:16:38.810Z"
   },
   {
    "duration": 8,
    "start_time": "2025-04-04T15:16:38.840Z"
   },
   {
    "duration": 8,
    "start_time": "2025-04-04T15:16:38.870Z"
   },
   {
    "duration": 4,
    "start_time": "2025-04-04T15:16:38.880Z"
   },
   {
    "duration": 5,
    "start_time": "2025-04-04T15:16:38.886Z"
   },
   {
    "duration": 8,
    "start_time": "2025-04-04T15:16:38.892Z"
   },
   {
    "duration": 8,
    "start_time": "2025-04-04T15:16:38.901Z"
   },
   {
    "duration": 5,
    "start_time": "2025-04-04T15:16:38.913Z"
   },
   {
    "duration": 4,
    "start_time": "2025-04-04T15:16:38.920Z"
   },
   {
    "duration": 49,
    "start_time": "2025-04-04T15:16:38.926Z"
   },
   {
    "duration": 6,
    "start_time": "2025-04-04T15:16:38.977Z"
   },
   {
    "duration": 25,
    "start_time": "2025-04-04T15:16:38.985Z"
   },
   {
    "duration": 12,
    "start_time": "2025-04-04T15:16:39.011Z"
   },
   {
    "duration": 8,
    "start_time": "2025-04-04T15:16:39.024Z"
   },
   {
    "duration": 42,
    "start_time": "2025-04-04T15:16:39.033Z"
   },
   {
    "duration": 13,
    "start_time": "2025-04-04T15:16:39.077Z"
   },
   {
    "duration": 6,
    "start_time": "2025-04-04T15:16:39.092Z"
   },
   {
    "duration": 18,
    "start_time": "2025-04-04T15:16:39.100Z"
   },
   {
    "duration": 7,
    "start_time": "2025-04-04T15:16:39.119Z"
   },
   {
    "duration": 61,
    "start_time": "2025-04-04T15:16:39.128Z"
   },
   {
    "duration": 22,
    "start_time": "2025-04-04T15:16:39.190Z"
   },
   {
    "duration": 20,
    "start_time": "2025-04-04T15:16:39.214Z"
   },
   {
    "duration": 3,
    "start_time": "2025-04-04T15:16:39.235Z"
   },
   {
    "duration": 3,
    "start_time": "2025-04-04T15:16:39.239Z"
   },
   {
    "duration": 30,
    "start_time": "2025-04-04T15:16:39.243Z"
   },
   {
    "duration": 2,
    "start_time": "2025-04-04T15:16:39.277Z"
   },
   {
    "duration": 4,
    "start_time": "2025-04-04T15:16:39.280Z"
   },
   {
    "duration": 4,
    "start_time": "2025-04-04T15:16:39.285Z"
   },
   {
    "duration": 3,
    "start_time": "2025-04-04T15:16:39.290Z"
   },
   {
    "duration": 2,
    "start_time": "2025-04-04T15:16:39.296Z"
   },
   {
    "duration": 4,
    "start_time": "2025-04-04T15:16:39.299Z"
   },
   {
    "duration": 4,
    "start_time": "2025-04-04T15:16:39.304Z"
   },
   {
    "duration": 2,
    "start_time": "2025-04-04T15:16:39.310Z"
   },
   {
    "duration": 3,
    "start_time": "2025-04-04T15:16:39.314Z"
   },
   {
    "duration": 23,
    "start_time": "2025-04-04T15:28:31.877Z"
   },
   {
    "duration": 787,
    "start_time": "2025-04-04T15:45:41.841Z"
   },
   {
    "duration": 158,
    "start_time": "2025-04-04T15:45:42.630Z"
   },
   {
    "duration": 29,
    "start_time": "2025-04-04T15:45:42.790Z"
   },
   {
    "duration": 9,
    "start_time": "2025-04-04T15:45:42.821Z"
   },
   {
    "duration": 7,
    "start_time": "2025-04-04T15:45:42.832Z"
   },
   {
    "duration": 31,
    "start_time": "2025-04-04T15:45:42.840Z"
   },
   {
    "duration": 4,
    "start_time": "2025-04-04T15:45:42.873Z"
   },
   {
    "duration": 8,
    "start_time": "2025-04-04T15:45:42.879Z"
   },
   {
    "duration": 9,
    "start_time": "2025-04-04T15:45:42.888Z"
   },
   {
    "duration": 6,
    "start_time": "2025-04-04T15:45:42.898Z"
   },
   {
    "duration": 5,
    "start_time": "2025-04-04T15:45:42.905Z"
   },
   {
    "duration": 16,
    "start_time": "2025-04-04T15:45:42.912Z"
   },
   {
    "duration": 6,
    "start_time": "2025-04-04T15:45:42.929Z"
   },
   {
    "duration": 52,
    "start_time": "2025-04-04T15:45:42.939Z"
   },
   {
    "duration": 12,
    "start_time": "2025-04-04T15:45:42.992Z"
   },
   {
    "duration": 5,
    "start_time": "2025-04-04T15:45:43.006Z"
   },
   {
    "duration": 14,
    "start_time": "2025-04-04T15:45:43.013Z"
   },
   {
    "duration": 46,
    "start_time": "2025-04-04T15:45:43.028Z"
   },
   {
    "duration": 7,
    "start_time": "2025-04-04T15:45:43.076Z"
   },
   {
    "duration": 19,
    "start_time": "2025-04-04T15:45:43.084Z"
   },
   {
    "duration": 7,
    "start_time": "2025-04-04T15:45:43.105Z"
   },
   {
    "duration": 57,
    "start_time": "2025-04-04T15:45:43.114Z"
   },
   {
    "duration": 21,
    "start_time": "2025-04-04T15:45:43.173Z"
   },
   {
    "duration": 22,
    "start_time": "2025-04-04T15:45:43.197Z"
   },
   {
    "duration": 23,
    "start_time": "2025-04-04T15:45:43.220Z"
   },
   {
    "duration": 26,
    "start_time": "2025-04-04T15:45:43.245Z"
   },
   {
    "duration": 4,
    "start_time": "2025-04-04T15:45:43.272Z"
   },
   {
    "duration": 3,
    "start_time": "2025-04-04T15:45:43.277Z"
   },
   {
    "duration": 3,
    "start_time": "2025-04-04T15:45:43.282Z"
   },
   {
    "duration": 3,
    "start_time": "2025-04-04T15:45:43.287Z"
   },
   {
    "duration": 4,
    "start_time": "2025-04-04T15:45:43.291Z"
   },
   {
    "duration": 4,
    "start_time": "2025-04-04T15:45:43.296Z"
   },
   {
    "duration": 4,
    "start_time": "2025-04-04T15:45:43.301Z"
   },
   {
    "duration": 2,
    "start_time": "2025-04-04T15:45:43.307Z"
   },
   {
    "duration": 3,
    "start_time": "2025-04-04T15:45:43.311Z"
   },
   {
    "duration": 3,
    "start_time": "2025-04-04T15:45:43.315Z"
   },
   {
    "duration": 2835,
    "start_time": "2025-04-04T17:03:40.814Z"
   },
   {
    "duration": 229,
    "start_time": "2025-04-04T17:03:43.652Z"
   },
   {
    "duration": 33,
    "start_time": "2025-04-04T17:03:43.883Z"
   },
   {
    "duration": 10,
    "start_time": "2025-04-04T17:03:43.917Z"
   },
   {
    "duration": 7,
    "start_time": "2025-04-04T17:03:43.930Z"
   },
   {
    "duration": 5,
    "start_time": "2025-04-04T17:03:43.939Z"
   },
   {
    "duration": 42,
    "start_time": "2025-04-04T17:03:43.946Z"
   },
   {
    "duration": 9,
    "start_time": "2025-04-04T17:03:43.990Z"
   },
   {
    "duration": 8,
    "start_time": "2025-04-04T17:03:44.001Z"
   },
   {
    "duration": 7,
    "start_time": "2025-04-04T17:03:44.011Z"
   },
   {
    "duration": 5,
    "start_time": "2025-04-04T17:03:44.019Z"
   },
   {
    "duration": 16,
    "start_time": "2025-04-04T17:03:44.026Z"
   },
   {
    "duration": 7,
    "start_time": "2025-04-04T17:03:44.043Z"
   },
   {
    "duration": 25,
    "start_time": "2025-04-04T17:03:44.090Z"
   },
   {
    "duration": 12,
    "start_time": "2025-04-04T17:03:44.117Z"
   },
   {
    "duration": 6,
    "start_time": "2025-04-04T17:03:44.131Z"
   },
   {
    "duration": 15,
    "start_time": "2025-04-04T17:03:44.138Z"
   },
   {
    "duration": 43,
    "start_time": "2025-04-04T17:03:44.155Z"
   },
   {
    "duration": 7,
    "start_time": "2025-04-04T17:03:44.199Z"
   },
   {
    "duration": 20,
    "start_time": "2025-04-04T17:03:44.208Z"
   },
   {
    "duration": 8,
    "start_time": "2025-04-04T17:03:44.229Z"
   },
   {
    "duration": 59,
    "start_time": "2025-04-04T17:03:44.238Z"
   },
   {
    "duration": 23,
    "start_time": "2025-04-04T17:03:44.299Z"
   },
   {
    "duration": 22,
    "start_time": "2025-04-04T17:03:44.324Z"
   },
   {
    "duration": 47,
    "start_time": "2025-04-04T17:03:44.349Z"
   },
   {
    "duration": 3,
    "start_time": "2025-04-04T17:03:44.398Z"
   },
   {
    "duration": 3,
    "start_time": "2025-04-04T17:03:44.402Z"
   },
   {
    "duration": 3,
    "start_time": "2025-04-04T17:03:44.407Z"
   },
   {
    "duration": 3,
    "start_time": "2025-04-04T17:03:44.412Z"
   },
   {
    "duration": 4,
    "start_time": "2025-04-04T17:03:44.416Z"
   },
   {
    "duration": 3,
    "start_time": "2025-04-04T17:03:44.421Z"
   },
   {
    "duration": 3,
    "start_time": "2025-04-04T17:03:44.426Z"
   },
   {
    "duration": 3,
    "start_time": "2025-04-04T17:03:44.431Z"
   },
   {
    "duration": 3,
    "start_time": "2025-04-04T17:03:44.436Z"
   },
   {
    "duration": 3,
    "start_time": "2025-04-04T17:03:44.441Z"
   },
   {
    "duration": 3,
    "start_time": "2025-04-04T17:03:44.446Z"
   },
   {
    "duration": 884,
    "start_time": "2025-04-04T17:41:04.208Z"
   },
   {
    "duration": 162,
    "start_time": "2025-04-04T17:41:05.094Z"
   },
   {
    "duration": 34,
    "start_time": "2025-04-04T17:41:05.258Z"
   },
   {
    "duration": 8,
    "start_time": "2025-04-04T17:41:05.295Z"
   },
   {
    "duration": 7,
    "start_time": "2025-04-04T17:41:05.305Z"
   },
   {
    "duration": 5,
    "start_time": "2025-04-04T17:41:05.314Z"
   },
   {
    "duration": 4,
    "start_time": "2025-04-04T17:41:05.320Z"
   },
   {
    "duration": 9,
    "start_time": "2025-04-04T17:41:05.326Z"
   },
   {
    "duration": 9,
    "start_time": "2025-04-04T17:41:05.336Z"
   },
   {
    "duration": 6,
    "start_time": "2025-04-04T17:41:05.388Z"
   },
   {
    "duration": 5,
    "start_time": "2025-04-04T17:41:05.396Z"
   },
   {
    "duration": 16,
    "start_time": "2025-04-04T17:41:05.403Z"
   },
   {
    "duration": 6,
    "start_time": "2025-04-04T17:41:05.421Z"
   },
   {
    "duration": 26,
    "start_time": "2025-04-04T17:41:05.429Z"
   },
   {
    "duration": 37,
    "start_time": "2025-04-04T17:41:05.456Z"
   },
   {
    "duration": 7,
    "start_time": "2025-04-04T17:41:05.495Z"
   },
   {
    "duration": 15,
    "start_time": "2025-04-04T17:41:05.504Z"
   },
   {
    "duration": 14,
    "start_time": "2025-04-04T17:41:05.521Z"
   },
   {
    "duration": 7,
    "start_time": "2025-04-04T17:41:05.536Z"
   },
   {
    "duration": 53,
    "start_time": "2025-04-04T17:41:05.545Z"
   },
   {
    "duration": 10,
    "start_time": "2025-04-04T17:41:05.601Z"
   },
   {
    "duration": 37,
    "start_time": "2025-04-04T17:41:05.613Z"
   },
   {
    "duration": 38,
    "start_time": "2025-04-04T17:41:05.652Z"
   },
   {
    "duration": 22,
    "start_time": "2025-04-04T17:41:05.692Z"
   },
   {
    "duration": 24,
    "start_time": "2025-04-04T17:41:05.715Z"
   },
   {
    "duration": 18,
    "start_time": "2025-04-04T17:41:05.741Z"
   },
   {
    "duration": 25,
    "start_time": "2025-04-04T17:41:05.762Z"
   },
   {
    "duration": 3,
    "start_time": "2025-04-04T17:41:05.792Z"
   },
   {
    "duration": 2,
    "start_time": "2025-04-04T17:41:05.798Z"
   },
   {
    "duration": 3,
    "start_time": "2025-04-04T17:41:05.802Z"
   },
   {
    "duration": 2,
    "start_time": "2025-04-04T17:41:05.807Z"
   },
   {
    "duration": 4,
    "start_time": "2025-04-04T17:41:05.811Z"
   },
   {
    "duration": 4,
    "start_time": "2025-04-04T17:41:05.816Z"
   },
   {
    "duration": 3,
    "start_time": "2025-04-04T17:41:05.822Z"
   },
   {
    "duration": 4,
    "start_time": "2025-04-04T17:41:05.826Z"
   },
   {
    "duration": 3,
    "start_time": "2025-04-04T17:41:05.831Z"
   },
   {
    "duration": 16,
    "start_time": "2025-04-04T17:42:27.437Z"
   },
   {
    "duration": 15,
    "start_time": "2025-04-04T17:43:01.253Z"
   },
   {
    "duration": 890,
    "start_time": "2025-04-04T17:44:49.604Z"
   },
   {
    "duration": 173,
    "start_time": "2025-04-04T17:44:50.497Z"
   },
   {
    "duration": 42,
    "start_time": "2025-04-04T17:44:50.671Z"
   },
   {
    "duration": 9,
    "start_time": "2025-04-04T17:44:50.716Z"
   },
   {
    "duration": 9,
    "start_time": "2025-04-04T17:44:50.726Z"
   },
   {
    "duration": 5,
    "start_time": "2025-04-04T17:44:50.737Z"
   },
   {
    "duration": 5,
    "start_time": "2025-04-04T17:44:50.743Z"
   },
   {
    "duration": 44,
    "start_time": "2025-04-04T17:44:50.749Z"
   },
   {
    "duration": 10,
    "start_time": "2025-04-04T17:44:50.795Z"
   },
   {
    "duration": 6,
    "start_time": "2025-04-04T17:44:50.809Z"
   },
   {
    "duration": 5,
    "start_time": "2025-04-04T17:44:50.816Z"
   },
   {
    "duration": 17,
    "start_time": "2025-04-04T17:44:50.823Z"
   },
   {
    "duration": 7,
    "start_time": "2025-04-04T17:44:50.841Z"
   },
   {
    "duration": 60,
    "start_time": "2025-04-04T17:44:50.850Z"
   },
   {
    "duration": 12,
    "start_time": "2025-04-04T17:44:50.912Z"
   },
   {
    "duration": 7,
    "start_time": "2025-04-04T17:44:50.926Z"
   },
   {
    "duration": 16,
    "start_time": "2025-04-04T17:44:50.935Z"
   },
   {
    "duration": 48,
    "start_time": "2025-04-04T17:44:50.952Z"
   },
   {
    "duration": 9,
    "start_time": "2025-04-04T17:44:51.001Z"
   },
   {
    "duration": 19,
    "start_time": "2025-04-04T17:44:51.011Z"
   },
   {
    "duration": 8,
    "start_time": "2025-04-04T17:44:51.032Z"
   },
   {
    "duration": 58,
    "start_time": "2025-04-04T17:44:51.041Z"
   },
   {
    "duration": 23,
    "start_time": "2025-04-04T17:44:51.101Z"
   },
   {
    "duration": 21,
    "start_time": "2025-04-04T17:44:51.126Z"
   },
   {
    "duration": 48,
    "start_time": "2025-04-04T17:44:51.149Z"
   },
   {
    "duration": 15,
    "start_time": "2025-04-04T17:44:51.199Z"
   },
   {
    "duration": 2,
    "start_time": "2025-04-04T17:44:51.216Z"
   },
   {
    "duration": 2,
    "start_time": "2025-04-04T17:44:51.223Z"
   },
   {
    "duration": 2,
    "start_time": "2025-04-04T17:44:51.227Z"
   },
   {
    "duration": 4,
    "start_time": "2025-04-04T17:44:51.231Z"
   },
   {
    "duration": 4,
    "start_time": "2025-04-04T17:44:51.236Z"
   },
   {
    "duration": 3,
    "start_time": "2025-04-04T17:44:51.241Z"
   },
   {
    "duration": 3,
    "start_time": "2025-04-04T17:44:51.246Z"
   },
   {
    "duration": 4,
    "start_time": "2025-04-04T17:44:51.286Z"
   },
   {
    "duration": 3,
    "start_time": "2025-04-04T17:44:51.293Z"
   },
   {
    "duration": 4,
    "start_time": "2025-04-04T17:44:51.298Z"
   },
   {
    "duration": 858,
    "start_time": "2025-04-04T18:27:58.084Z"
   },
   {
    "duration": 163,
    "start_time": "2025-04-04T18:27:58.944Z"
   },
   {
    "duration": 31,
    "start_time": "2025-04-04T18:27:59.109Z"
   },
   {
    "duration": 9,
    "start_time": "2025-04-04T18:27:59.142Z"
   },
   {
    "duration": 36,
    "start_time": "2025-04-04T18:27:59.154Z"
   },
   {
    "duration": 6,
    "start_time": "2025-04-04T18:27:59.191Z"
   },
   {
    "duration": 5,
    "start_time": "2025-04-04T18:27:59.198Z"
   },
   {
    "duration": 9,
    "start_time": "2025-04-04T18:27:59.205Z"
   },
   {
    "duration": 9,
    "start_time": "2025-04-04T18:27:59.215Z"
   },
   {
    "duration": 7,
    "start_time": "2025-04-04T18:27:59.226Z"
   },
   {
    "duration": 5,
    "start_time": "2025-04-04T18:27:59.234Z"
   },
   {
    "duration": 54,
    "start_time": "2025-04-04T18:27:59.240Z"
   },
   {
    "duration": 7,
    "start_time": "2025-04-04T18:27:59.296Z"
   },
   {
    "duration": 24,
    "start_time": "2025-04-04T18:27:59.307Z"
   },
   {
    "duration": 12,
    "start_time": "2025-04-04T18:27:59.333Z"
   },
   {
    "duration": 7,
    "start_time": "2025-04-04T18:27:59.347Z"
   },
   {
    "duration": 45,
    "start_time": "2025-04-04T18:27:59.355Z"
   },
   {
    "duration": 14,
    "start_time": "2025-04-04T18:27:59.401Z"
   },
   {
    "duration": 7,
    "start_time": "2025-04-04T18:27:59.416Z"
   },
   {
    "duration": 19,
    "start_time": "2025-04-04T18:27:59.425Z"
   },
   {
    "duration": 8,
    "start_time": "2025-04-04T18:27:59.445Z"
   },
   {
    "duration": 65,
    "start_time": "2025-04-04T18:27:59.455Z"
   },
   {
    "duration": 21,
    "start_time": "2025-04-04T18:27:59.522Z"
   },
   {
    "duration": 21,
    "start_time": "2025-04-04T18:27:59.545Z"
   },
   {
    "duration": 23,
    "start_time": "2025-04-04T18:27:59.586Z"
   },
   {
    "duration": 14,
    "start_time": "2025-04-04T18:27:59.612Z"
   },
   {
    "duration": 25,
    "start_time": "2025-04-04T18:27:59.628Z"
   },
   {
    "duration": 2,
    "start_time": "2025-04-04T18:27:59.655Z"
   },
   {
    "duration": 2,
    "start_time": "2025-04-04T18:27:59.687Z"
   },
   {
    "duration": 3,
    "start_time": "2025-04-04T18:27:59.691Z"
   },
   {
    "duration": 4,
    "start_time": "2025-04-04T18:27:59.695Z"
   },
   {
    "duration": 4,
    "start_time": "2025-04-04T18:27:59.700Z"
   },
   {
    "duration": 3,
    "start_time": "2025-04-04T18:27:59.706Z"
   },
   {
    "duration": 4,
    "start_time": "2025-04-04T18:27:59.710Z"
   },
   {
    "duration": 3,
    "start_time": "2025-04-04T18:27:59.715Z"
   },
   {
    "duration": 3,
    "start_time": "2025-04-04T18:27:59.720Z"
   },
   {
    "duration": 146,
    "start_time": "2025-04-04T18:43:29.673Z"
   },
   {
    "duration": 844,
    "start_time": "2025-04-04T18:44:03.345Z"
   },
   {
    "duration": 165,
    "start_time": "2025-04-04T18:44:04.191Z"
   },
   {
    "duration": 40,
    "start_time": "2025-04-04T18:44:04.358Z"
   },
   {
    "duration": 9,
    "start_time": "2025-04-04T18:44:04.400Z"
   },
   {
    "duration": 8,
    "start_time": "2025-04-04T18:44:04.410Z"
   },
   {
    "duration": 5,
    "start_time": "2025-04-04T18:44:04.419Z"
   },
   {
    "duration": 6,
    "start_time": "2025-04-04T18:44:04.426Z"
   },
   {
    "duration": 9,
    "start_time": "2025-04-04T18:44:04.433Z"
   },
   {
    "duration": 48,
    "start_time": "2025-04-04T18:44:04.444Z"
   },
   {
    "duration": 6,
    "start_time": "2025-04-04T18:44:04.495Z"
   },
   {
    "duration": 6,
    "start_time": "2025-04-04T18:44:04.503Z"
   },
   {
    "duration": 15,
    "start_time": "2025-04-04T18:44:04.511Z"
   },
   {
    "duration": 7,
    "start_time": "2025-04-04T18:44:04.528Z"
   },
   {
    "duration": 56,
    "start_time": "2025-04-04T18:44:04.537Z"
   },
   {
    "duration": 14,
    "start_time": "2025-04-04T18:44:04.595Z"
   },
   {
    "duration": 6,
    "start_time": "2025-04-04T18:44:04.611Z"
   },
   {
    "duration": 16,
    "start_time": "2025-04-04T18:44:04.619Z"
   },
   {
    "duration": 14,
    "start_time": "2025-04-04T18:44:04.637Z"
   },
   {
    "duration": 38,
    "start_time": "2025-04-04T18:44:04.652Z"
   },
   {
    "duration": 19,
    "start_time": "2025-04-04T18:44:04.692Z"
   },
   {
    "duration": 8,
    "start_time": "2025-04-04T18:44:04.713Z"
   },
   {
    "duration": 35,
    "start_time": "2025-04-04T18:44:04.723Z"
   },
   {
    "duration": 47,
    "start_time": "2025-04-04T18:44:04.761Z"
   },
   {
    "duration": 22,
    "start_time": "2025-04-04T18:44:04.810Z"
   },
   {
    "duration": 24,
    "start_time": "2025-04-04T18:44:04.834Z"
   },
   {
    "duration": 41,
    "start_time": "2025-04-04T18:44:04.860Z"
   },
   {
    "duration": 27,
    "start_time": "2025-04-04T18:44:04.903Z"
   },
   {
    "duration": 4,
    "start_time": "2025-04-04T18:44:04.933Z"
   },
   {
    "duration": 3,
    "start_time": "2025-04-04T18:44:04.938Z"
   },
   {
    "duration": 3,
    "start_time": "2025-04-04T18:44:04.942Z"
   },
   {
    "duration": 3,
    "start_time": "2025-04-04T18:44:04.947Z"
   },
   {
    "duration": 3,
    "start_time": "2025-04-04T18:44:04.952Z"
   },
   {
    "duration": 2,
    "start_time": "2025-04-04T18:44:04.987Z"
   },
   {
    "duration": 3,
    "start_time": "2025-04-04T18:44:04.991Z"
   },
   {
    "duration": 3,
    "start_time": "2025-04-04T18:44:04.996Z"
   },
   {
    "duration": 3,
    "start_time": "2025-04-04T18:44:05.001Z"
   },
   {
    "duration": 901,
    "start_time": "2025-04-04T18:44:23.906Z"
   },
   {
    "duration": 172,
    "start_time": "2025-04-04T18:44:24.809Z"
   },
   {
    "duration": 35,
    "start_time": "2025-04-04T18:44:24.985Z"
   },
   {
    "duration": 11,
    "start_time": "2025-04-04T18:44:25.023Z"
   },
   {
    "duration": 10,
    "start_time": "2025-04-04T18:44:25.036Z"
   },
   {
    "duration": 6,
    "start_time": "2025-04-04T18:44:25.048Z"
   },
   {
    "duration": 6,
    "start_time": "2025-04-04T18:44:25.086Z"
   },
   {
    "duration": 11,
    "start_time": "2025-04-04T18:44:25.094Z"
   },
   {
    "duration": 8,
    "start_time": "2025-04-04T18:44:25.108Z"
   },
   {
    "duration": 7,
    "start_time": "2025-04-04T18:44:25.121Z"
   },
   {
    "duration": 5,
    "start_time": "2025-04-04T18:44:25.130Z"
   },
   {
    "duration": 51,
    "start_time": "2025-04-04T18:44:25.137Z"
   },
   {
    "duration": 8,
    "start_time": "2025-04-04T18:44:25.190Z"
   },
   {
    "duration": 34,
    "start_time": "2025-04-04T18:44:25.200Z"
   },
   {
    "duration": 13,
    "start_time": "2025-04-04T18:44:25.236Z"
   },
   {
    "duration": 6,
    "start_time": "2025-04-04T18:44:25.251Z"
   },
   {
    "duration": 46,
    "start_time": "2025-04-04T18:44:25.259Z"
   },
   {
    "duration": 14,
    "start_time": "2025-04-04T18:44:25.307Z"
   },
   {
    "duration": 8,
    "start_time": "2025-04-04T18:44:25.324Z"
   },
   {
    "duration": 20,
    "start_time": "2025-04-04T18:44:25.333Z"
   },
   {
    "duration": 33,
    "start_time": "2025-04-04T18:44:25.355Z"
   },
   {
    "duration": 49,
    "start_time": "2025-04-04T18:44:25.390Z"
   },
   {
    "duration": 46,
    "start_time": "2025-04-04T18:44:25.441Z"
   },
   {
    "duration": 23,
    "start_time": "2025-04-04T18:44:25.489Z"
   },
   {
    "duration": 27,
    "start_time": "2025-04-04T18:44:25.514Z"
   },
   {
    "duration": 21,
    "start_time": "2025-04-04T18:44:25.543Z"
   },
   {
    "duration": 39,
    "start_time": "2025-04-04T18:44:25.589Z"
   },
   {
    "duration": 3,
    "start_time": "2025-04-04T18:44:25.633Z"
   },
   {
    "duration": 3,
    "start_time": "2025-04-04T18:44:25.638Z"
   },
   {
    "duration": 3,
    "start_time": "2025-04-04T18:44:25.642Z"
   },
   {
    "duration": 4,
    "start_time": "2025-04-04T18:44:25.647Z"
   },
   {
    "duration": 3,
    "start_time": "2025-04-04T18:44:25.652Z"
   },
   {
    "duration": 3,
    "start_time": "2025-04-04T18:44:25.687Z"
   },
   {
    "duration": 2,
    "start_time": "2025-04-04T18:44:25.692Z"
   },
   {
    "duration": 3,
    "start_time": "2025-04-04T18:44:25.696Z"
   },
   {
    "duration": 3,
    "start_time": "2025-04-04T18:44:25.700Z"
   },
   {
    "duration": 504,
    "start_time": "2025-04-04T21:05:05.832Z"
   },
   {
    "duration": 472,
    "start_time": "2025-04-04T21:11:12.995Z"
   },
   {
    "duration": 15,
    "start_time": "2025-04-04T22:34:47.187Z"
   },
   {
    "duration": 16,
    "start_time": "2025-04-04T22:35:32.534Z"
   },
   {
    "duration": 164,
    "start_time": "2025-04-04T23:17:06.161Z"
   },
   {
    "duration": 2709,
    "start_time": "2025-04-04T23:17:14.606Z"
   },
   {
    "duration": 228,
    "start_time": "2025-04-04T23:17:17.318Z"
   },
   {
    "duration": 40,
    "start_time": "2025-04-04T23:17:17.548Z"
   },
   {
    "duration": 10,
    "start_time": "2025-04-04T23:17:17.590Z"
   },
   {
    "duration": 7,
    "start_time": "2025-04-04T23:17:17.602Z"
   },
   {
    "duration": 5,
    "start_time": "2025-04-04T23:17:17.611Z"
   },
   {
    "duration": 6,
    "start_time": "2025-04-04T23:17:17.618Z"
   },
   {
    "duration": 9,
    "start_time": "2025-04-04T23:17:17.625Z"
   },
   {
    "duration": 9,
    "start_time": "2025-04-04T23:17:17.636Z"
   },
   {
    "duration": 44,
    "start_time": "2025-04-04T23:17:17.647Z"
   },
   {
    "duration": 5,
    "start_time": "2025-04-04T23:17:17.693Z"
   },
   {
    "duration": 16,
    "start_time": "2025-04-04T23:17:17.700Z"
   },
   {
    "duration": 8,
    "start_time": "2025-04-04T23:17:17.718Z"
   },
   {
    "duration": 26,
    "start_time": "2025-04-04T23:17:17.730Z"
   },
   {
    "duration": 13,
    "start_time": "2025-04-04T23:17:17.787Z"
   },
   {
    "duration": 7,
    "start_time": "2025-04-04T23:17:17.802Z"
   },
   {
    "duration": 17,
    "start_time": "2025-04-04T23:17:17.811Z"
   },
   {
    "duration": 15,
    "start_time": "2025-04-04T23:17:17.830Z"
   },
   {
    "duration": 42,
    "start_time": "2025-04-04T23:17:17.847Z"
   },
   {
    "duration": 26,
    "start_time": "2025-04-04T23:17:17.891Z"
   },
   {
    "duration": 9,
    "start_time": "2025-04-04T23:17:17.918Z"
   },
   {
    "duration": 59,
    "start_time": "2025-04-04T23:17:17.929Z"
   },
   {
    "duration": 24,
    "start_time": "2025-04-04T23:17:17.990Z"
   },
   {
    "duration": 23,
    "start_time": "2025-04-04T23:17:18.016Z"
   },
   {
    "duration": 50,
    "start_time": "2025-04-04T23:17:18.041Z"
   },
   {
    "duration": 17,
    "start_time": "2025-04-04T23:17:18.093Z"
   },
   {
    "duration": 34,
    "start_time": "2025-04-04T23:17:18.112Z"
   },
   {
    "duration": 515,
    "start_time": "2025-04-04T23:17:18.148Z"
   },
   {
    "duration": 305,
    "start_time": "2025-04-04T23:17:18.665Z"
   },
   {
    "duration": 2,
    "start_time": "2025-04-04T23:17:18.972Z"
   },
   {
    "duration": 11,
    "start_time": "2025-04-04T23:17:18.976Z"
   },
   {
    "duration": 4,
    "start_time": "2025-04-04T23:17:18.989Z"
   },
   {
    "duration": 4,
    "start_time": "2025-04-04T23:17:18.994Z"
   },
   {
    "duration": 4,
    "start_time": "2025-04-04T23:17:18.999Z"
   },
   {
    "duration": 3,
    "start_time": "2025-04-04T23:17:19.004Z"
   },
   {
    "duration": 4,
    "start_time": "2025-04-04T23:17:19.008Z"
   },
   {
    "duration": 451,
    "start_time": "2025-04-04T23:18:07.905Z"
   },
   {
    "duration": 9,
    "start_time": "2025-04-04T23:33:56.335Z"
   },
   {
    "duration": 19,
    "start_time": "2025-04-04T23:34:30.316Z"
   },
   {
    "duration": 23,
    "start_time": "2025-04-04T23:37:20.354Z"
   },
   {
    "duration": 16,
    "start_time": "2025-04-04T23:53:49.420Z"
   },
   {
    "duration": 13,
    "start_time": "2025-04-04T23:53:54.573Z"
   },
   {
    "duration": 22,
    "start_time": "2025-04-04T23:57:19.185Z"
   },
   {
    "duration": 2756,
    "start_time": "2025-04-06T17:46:25.430Z"
   },
   {
    "duration": 232,
    "start_time": "2025-04-06T17:46:28.188Z"
   },
   {
    "duration": 29,
    "start_time": "2025-04-06T17:46:28.422Z"
   },
   {
    "duration": 9,
    "start_time": "2025-04-06T17:46:28.453Z"
   },
   {
    "duration": 8,
    "start_time": "2025-04-06T17:46:28.464Z"
   },
   {
    "duration": 5,
    "start_time": "2025-04-06T17:46:28.474Z"
   },
   {
    "duration": 4,
    "start_time": "2025-04-06T17:46:28.480Z"
   },
   {
    "duration": 45,
    "start_time": "2025-04-06T17:46:28.486Z"
   },
   {
    "duration": 8,
    "start_time": "2025-04-06T17:46:28.534Z"
   },
   {
    "duration": 5,
    "start_time": "2025-04-06T17:46:28.546Z"
   },
   {
    "duration": 5,
    "start_time": "2025-04-06T17:46:28.553Z"
   },
   {
    "duration": 18,
    "start_time": "2025-04-06T17:46:28.560Z"
   },
   {
    "duration": 7,
    "start_time": "2025-04-06T17:46:28.581Z"
   },
   {
    "duration": 25,
    "start_time": "2025-04-06T17:46:28.625Z"
   },
   {
    "duration": 12,
    "start_time": "2025-04-06T17:46:28.652Z"
   },
   {
    "duration": 6,
    "start_time": "2025-04-06T17:46:28.666Z"
   },
   {
    "duration": 15,
    "start_time": "2025-04-06T17:46:28.674Z"
   },
   {
    "duration": 45,
    "start_time": "2025-04-06T17:46:28.691Z"
   },
   {
    "duration": 7,
    "start_time": "2025-04-06T17:46:28.738Z"
   },
   {
    "duration": 19,
    "start_time": "2025-04-06T17:46:28.747Z"
   },
   {
    "duration": 8,
    "start_time": "2025-04-06T17:46:28.768Z"
   },
   {
    "duration": 65,
    "start_time": "2025-04-06T17:46:28.778Z"
   },
   {
    "duration": 22,
    "start_time": "2025-04-06T17:46:28.845Z"
   },
   {
    "duration": 21,
    "start_time": "2025-04-06T17:46:28.869Z"
   },
   {
    "duration": 44,
    "start_time": "2025-04-06T17:46:28.892Z"
   },
   {
    "duration": 15,
    "start_time": "2025-04-06T17:46:28.939Z"
   },
   {
    "duration": 26,
    "start_time": "2025-04-06T17:46:28.956Z"
   },
   {
    "duration": 511,
    "start_time": "2025-04-06T17:46:28.986Z"
   },
   {
    "duration": 30,
    "start_time": "2025-04-06T17:46:29.498Z"
   },
   {
    "duration": 2,
    "start_time": "2025-04-06T17:46:29.530Z"
   },
   {
    "duration": 3,
    "start_time": "2025-04-06T17:46:29.534Z"
   },
   {
    "duration": 2,
    "start_time": "2025-04-06T17:46:29.539Z"
   },
   {
    "duration": 3,
    "start_time": "2025-04-06T17:46:29.543Z"
   },
   {
    "duration": 3,
    "start_time": "2025-04-06T17:46:29.547Z"
   },
   {
    "duration": 3,
    "start_time": "2025-04-06T17:46:29.552Z"
   },
   {
    "duration": 4,
    "start_time": "2025-04-06T17:46:29.556Z"
   },
   {
    "duration": 208,
    "start_time": "2025-04-06T17:46:36.452Z"
   },
   {
    "duration": 862,
    "start_time": "2025-04-06T18:16:34.950Z"
   },
   {
    "duration": 164,
    "start_time": "2025-04-06T18:16:35.814Z"
   },
   {
    "duration": 30,
    "start_time": "2025-04-06T18:16:35.979Z"
   },
   {
    "duration": 16,
    "start_time": "2025-04-06T18:16:36.011Z"
   },
   {
    "duration": 8,
    "start_time": "2025-04-06T18:16:36.029Z"
   },
   {
    "duration": 4,
    "start_time": "2025-04-06T18:16:36.038Z"
   },
   {
    "duration": 4,
    "start_time": "2025-04-06T18:16:36.044Z"
   },
   {
    "duration": 9,
    "start_time": "2025-04-06T18:16:36.049Z"
   },
   {
    "duration": 8,
    "start_time": "2025-04-06T18:16:36.059Z"
   },
   {
    "duration": 5,
    "start_time": "2025-04-06T18:16:36.070Z"
   },
   {
    "duration": 47,
    "start_time": "2025-04-06T18:16:36.077Z"
   },
   {
    "duration": 15,
    "start_time": "2025-04-06T18:16:36.126Z"
   },
   {
    "duration": 7,
    "start_time": "2025-04-06T18:16:36.143Z"
   },
   {
    "duration": 24,
    "start_time": "2025-04-06T18:16:36.151Z"
   },
   {
    "duration": 12,
    "start_time": "2025-04-06T18:16:36.176Z"
   },
   {
    "duration": 34,
    "start_time": "2025-04-06T18:16:36.190Z"
   },
   {
    "duration": 15,
    "start_time": "2025-04-06T18:16:36.225Z"
   },
   {
    "duration": 13,
    "start_time": "2025-04-06T18:16:36.241Z"
   },
   {
    "duration": 6,
    "start_time": "2025-04-06T18:16:36.256Z"
   },
   {
    "duration": 18,
    "start_time": "2025-04-06T18:16:36.264Z"
   },
   {
    "duration": 8,
    "start_time": "2025-04-06T18:16:36.284Z"
   },
   {
    "duration": 34,
    "start_time": "2025-04-06T18:16:36.324Z"
   },
   {
    "duration": 21,
    "start_time": "2025-04-06T18:16:36.360Z"
   },
   {
    "duration": 19,
    "start_time": "2025-04-06T18:16:36.382Z"
   },
   {
    "duration": 43,
    "start_time": "2025-04-06T18:16:36.402Z"
   },
   {
    "duration": 15,
    "start_time": "2025-04-06T18:16:36.447Z"
   },
   {
    "duration": 24,
    "start_time": "2025-04-06T18:16:36.464Z"
   },
   {
    "duration": 479,
    "start_time": "2025-04-06T18:16:36.492Z"
   },
   {
    "duration": 189,
    "start_time": "2025-04-06T18:16:36.973Z"
   },
   {
    "duration": 169,
    "start_time": "2025-04-06T18:16:37.164Z"
   },
   {
    "duration": 4,
    "start_time": "2025-04-06T18:16:37.335Z"
   },
   {
    "duration": 4,
    "start_time": "2025-04-06T18:16:37.340Z"
   },
   {
    "duration": 2,
    "start_time": "2025-04-06T18:16:37.345Z"
   },
   {
    "duration": 3,
    "start_time": "2025-04-06T18:16:37.349Z"
   },
   {
    "duration": 3,
    "start_time": "2025-04-06T18:16:37.353Z"
   },
   {
    "duration": 3,
    "start_time": "2025-04-06T18:16:37.357Z"
   },
   {
    "duration": 114,
    "start_time": "2025-04-06T18:17:18.792Z"
   },
   {
    "duration": 8,
    "start_time": "2025-04-06T18:20:13.362Z"
   },
   {
    "duration": 4,
    "start_time": "2025-04-06T18:22:14.065Z"
   },
   {
    "duration": 5,
    "start_time": "2025-04-06T18:22:59.564Z"
   },
   {
    "duration": 4,
    "start_time": "2025-04-06T18:23:13.175Z"
   },
   {
    "duration": 4,
    "start_time": "2025-04-06T18:24:56.454Z"
   },
   {
    "duration": 217,
    "start_time": "2025-04-06T18:25:46.391Z"
   },
   {
    "duration": 14,
    "start_time": "2025-04-06T18:25:54.868Z"
   },
   {
    "duration": 3,
    "start_time": "2025-04-06T18:26:09.563Z"
   },
   {
    "duration": 4,
    "start_time": "2025-04-06T18:26:29.890Z"
   },
   {
    "duration": 5,
    "start_time": "2025-04-06T18:26:43.745Z"
   },
   {
    "duration": 4,
    "start_time": "2025-04-06T18:27:36.020Z"
   },
   {
    "duration": 4,
    "start_time": "2025-04-06T18:29:18.314Z"
   },
   {
    "duration": 6,
    "start_time": "2025-04-06T18:29:25.244Z"
   },
   {
    "duration": 5,
    "start_time": "2025-04-06T18:29:46.900Z"
   },
   {
    "duration": 17,
    "start_time": "2025-04-06T18:30:50.906Z"
   },
   {
    "duration": 5,
    "start_time": "2025-04-06T18:31:01.957Z"
   },
   {
    "duration": 117,
    "start_time": "2025-04-06T18:37:39.490Z"
   },
   {
    "duration": 77,
    "start_time": "2025-04-06T18:37:48.569Z"
   },
   {
    "duration": 77,
    "start_time": "2025-04-06T18:39:25.885Z"
   },
   {
    "duration": 2552,
    "start_time": "2025-04-07T14:13:10.652Z"
   },
   {
    "duration": 826,
    "start_time": "2025-04-07T14:13:48.999Z"
   },
   {
    "duration": 160,
    "start_time": "2025-04-07T14:13:49.827Z"
   },
   {
    "duration": 30,
    "start_time": "2025-04-07T14:13:49.988Z"
   },
   {
    "duration": 9,
    "start_time": "2025-04-07T14:13:50.020Z"
   },
   {
    "duration": 7,
    "start_time": "2025-04-07T14:13:50.031Z"
   },
   {
    "duration": 33,
    "start_time": "2025-04-07T14:13:50.039Z"
   },
   {
    "duration": 4,
    "start_time": "2025-04-07T14:13:50.073Z"
   },
   {
    "duration": 8,
    "start_time": "2025-04-07T14:13:50.079Z"
   },
   {
    "duration": 8,
    "start_time": "2025-04-07T14:13:50.088Z"
   },
   {
    "duration": 5,
    "start_time": "2025-04-07T14:13:50.098Z"
   },
   {
    "duration": 5,
    "start_time": "2025-04-07T14:13:50.104Z"
   },
   {
    "duration": 16,
    "start_time": "2025-04-07T14:13:50.110Z"
   },
   {
    "duration": 42,
    "start_time": "2025-04-07T14:13:50.128Z"
   },
   {
    "duration": 26,
    "start_time": "2025-04-07T14:13:50.175Z"
   },
   {
    "duration": 15,
    "start_time": "2025-04-07T14:13:50.203Z"
   },
   {
    "duration": 7,
    "start_time": "2025-04-07T14:13:50.220Z"
   },
   {
    "duration": 41,
    "start_time": "2025-04-07T14:13:50.229Z"
   },
   {
    "duration": 15,
    "start_time": "2025-04-07T14:13:50.272Z"
   },
   {
    "duration": 11,
    "start_time": "2025-04-07T14:13:50.290Z"
   },
   {
    "duration": 27,
    "start_time": "2025-04-07T14:13:50.303Z"
   },
   {
    "duration": 11,
    "start_time": "2025-04-07T14:13:50.332Z"
   },
   {
    "duration": 70,
    "start_time": "2025-04-07T14:13:50.345Z"
   },
   {
    "duration": 32,
    "start_time": "2025-04-07T14:13:50.417Z"
   },
   {
    "duration": 34,
    "start_time": "2025-04-07T14:13:50.451Z"
   },
   {
    "duration": 23,
    "start_time": "2025-04-07T14:13:50.487Z"
   },
   {
    "duration": 16,
    "start_time": "2025-04-07T14:13:50.513Z"
   },
   {
    "duration": 47,
    "start_time": "2025-04-07T14:13:50.531Z"
   },
   {
    "duration": 483,
    "start_time": "2025-04-07T14:13:50.580Z"
   },
   {
    "duration": 198,
    "start_time": "2025-04-07T14:13:51.064Z"
   },
   {
    "duration": 184,
    "start_time": "2025-04-07T14:13:51.264Z"
   },
   {
    "duration": 7,
    "start_time": "2025-04-07T14:13:51.450Z"
   },
   {
    "duration": 82,
    "start_time": "2025-04-07T14:13:51.459Z"
   },
   {
    "duration": 97,
    "start_time": "2025-04-07T14:13:51.543Z"
   },
   {
    "duration": 2,
    "start_time": "2025-04-07T14:13:51.642Z"
   },
   {
    "duration": 2,
    "start_time": "2025-04-07T14:13:51.646Z"
   },
   {
    "duration": 3,
    "start_time": "2025-04-07T14:13:51.650Z"
   },
   {
    "duration": 15,
    "start_time": "2025-04-07T14:13:51.655Z"
   },
   {
    "duration": 180,
    "start_time": "2025-04-07T18:24:04.751Z"
   },
   {
    "duration": 131,
    "start_time": "2025-04-07T18:30:10.147Z"
   },
   {
    "duration": 125,
    "start_time": "2025-04-07T18:30:28.164Z"
   },
   {
    "duration": 5,
    "start_time": "2025-04-07T18:40:30.966Z"
   },
   {
    "duration": 163,
    "start_time": "2025-04-07T18:51:30.255Z"
   },
   {
    "duration": 164,
    "start_time": "2025-04-07T19:42:43.020Z"
   },
   {
    "duration": 166,
    "start_time": "2025-04-07T19:44:18.555Z"
   },
   {
    "duration": 120,
    "start_time": "2025-04-07T19:46:32.891Z"
   },
   {
    "duration": 5,
    "start_time": "2025-04-07T19:49:14.556Z"
   },
   {
    "duration": 237,
    "start_time": "2025-04-07T19:53:41.467Z"
   },
   {
    "duration": 5,
    "start_time": "2025-04-07T20:28:52.570Z"
   },
   {
    "duration": 133,
    "start_time": "2025-04-07T20:30:43.872Z"
   },
   {
    "duration": 164,
    "start_time": "2025-04-07T20:30:53.082Z"
   },
   {
    "duration": 170,
    "start_time": "2025-04-07T20:31:15.883Z"
   },
   {
    "duration": 193,
    "start_time": "2025-04-07T20:31:29.657Z"
   },
   {
    "duration": 7,
    "start_time": "2025-04-07T20:32:19.730Z"
   },
   {
    "duration": 4,
    "start_time": "2025-04-07T20:33:10.404Z"
   },
   {
    "duration": 166,
    "start_time": "2025-04-07T20:33:29.628Z"
   },
   {
    "duration": 162,
    "start_time": "2025-04-07T20:37:19.156Z"
   },
   {
    "duration": 175,
    "start_time": "2025-04-07T20:37:31.276Z"
   },
   {
    "duration": 120,
    "start_time": "2025-04-07T20:38:43.445Z"
   },
   {
    "duration": 8,
    "start_time": "2025-04-07T20:40:36.798Z"
   },
   {
    "duration": 232,
    "start_time": "2025-04-07T20:42:02.354Z"
   },
   {
    "duration": 857,
    "start_time": "2025-04-07T21:23:49.786Z"
   },
   {
    "duration": 164,
    "start_time": "2025-04-07T21:23:50.645Z"
   },
   {
    "duration": 29,
    "start_time": "2025-04-07T21:23:50.811Z"
   },
   {
    "duration": 31,
    "start_time": "2025-04-07T21:23:50.843Z"
   },
   {
    "duration": 7,
    "start_time": "2025-04-07T21:23:50.875Z"
   },
   {
    "duration": 4,
    "start_time": "2025-04-07T21:23:50.884Z"
   },
   {
    "duration": 5,
    "start_time": "2025-04-07T21:23:50.890Z"
   },
   {
    "duration": 7,
    "start_time": "2025-04-07T21:23:50.897Z"
   },
   {
    "duration": 8,
    "start_time": "2025-04-07T21:23:50.906Z"
   },
   {
    "duration": 5,
    "start_time": "2025-04-07T21:23:50.918Z"
   },
   {
    "duration": 4,
    "start_time": "2025-04-07T21:23:50.926Z"
   },
   {
    "duration": 50,
    "start_time": "2025-04-07T21:23:50.932Z"
   },
   {
    "duration": 7,
    "start_time": "2025-04-07T21:23:50.984Z"
   },
   {
    "duration": 25,
    "start_time": "2025-04-07T21:23:50.993Z"
   },
   {
    "duration": 13,
    "start_time": "2025-04-07T21:23:51.019Z"
   },
   {
    "duration": 6,
    "start_time": "2025-04-07T21:23:51.034Z"
   },
   {
    "duration": 15,
    "start_time": "2025-04-07T21:23:51.070Z"
   },
   {
    "duration": 14,
    "start_time": "2025-04-07T21:23:51.087Z"
   },
   {
    "duration": 7,
    "start_time": "2025-04-07T21:23:51.103Z"
   },
   {
    "duration": 19,
    "start_time": "2025-04-07T21:23:51.111Z"
   },
   {
    "duration": 38,
    "start_time": "2025-04-07T21:23:51.132Z"
   },
   {
    "duration": 36,
    "start_time": "2025-04-07T21:23:51.172Z"
   },
   {
    "duration": 22,
    "start_time": "2025-04-07T21:23:51.210Z"
   },
   {
    "duration": 40,
    "start_time": "2025-04-07T21:23:51.234Z"
   },
   {
    "duration": 23,
    "start_time": "2025-04-07T21:23:51.276Z"
   },
   {
    "duration": 15,
    "start_time": "2025-04-07T21:23:51.301Z"
   },
   {
    "duration": 23,
    "start_time": "2025-04-07T21:23:51.318Z"
   },
   {
    "duration": 486,
    "start_time": "2025-04-07T21:23:51.370Z"
   },
   {
    "duration": 198,
    "start_time": "2025-04-07T21:23:51.858Z"
   },
   {
    "duration": 177,
    "start_time": "2025-04-07T21:23:52.059Z"
   },
   {
    "duration": 646,
    "start_time": "2025-04-07T21:23:52.238Z"
   },
   {
    "duration": 0,
    "start_time": "2025-04-07T21:23:52.886Z"
   },
   {
    "duration": 0,
    "start_time": "2025-04-07T21:23:52.887Z"
   },
   {
    "duration": 0,
    "start_time": "2025-04-07T21:23:52.889Z"
   },
   {
    "duration": 0,
    "start_time": "2025-04-07T21:23:52.890Z"
   },
   {
    "duration": 0,
    "start_time": "2025-04-07T21:23:52.891Z"
   },
   {
    "duration": 0,
    "start_time": "2025-04-07T21:23:52.892Z"
   },
   {
    "duration": 0,
    "start_time": "2025-04-07T21:23:52.893Z"
   },
   {
    "duration": 0,
    "start_time": "2025-04-07T21:23:52.895Z"
   },
   {
    "duration": 0,
    "start_time": "2025-04-07T21:23:52.896Z"
   },
   {
    "duration": 0,
    "start_time": "2025-04-07T21:23:52.898Z"
   },
   {
    "duration": 0,
    "start_time": "2025-04-07T21:23:52.899Z"
   },
   {
    "duration": 0,
    "start_time": "2025-04-07T21:23:52.900Z"
   },
   {
    "duration": 0,
    "start_time": "2025-04-07T21:23:52.901Z"
   },
   {
    "duration": 40,
    "start_time": "2025-04-07T21:27:08.644Z"
   },
   {
    "duration": 43,
    "start_time": "2025-04-07T21:27:27.307Z"
   },
   {
    "duration": 43,
    "start_time": "2025-04-07T21:27:52.278Z"
   },
   {
    "duration": 43,
    "start_time": "2025-04-07T21:28:02.172Z"
   },
   {
    "duration": 5,
    "start_time": "2025-04-07T21:28:41.820Z"
   },
   {
    "duration": 821,
    "start_time": "2025-04-07T21:28:48.433Z"
   },
   {
    "duration": 158,
    "start_time": "2025-04-07T21:28:49.256Z"
   },
   {
    "duration": 28,
    "start_time": "2025-04-07T21:28:49.416Z"
   },
   {
    "duration": 26,
    "start_time": "2025-04-07T21:28:49.447Z"
   },
   {
    "duration": 9,
    "start_time": "2025-04-07T21:28:49.474Z"
   },
   {
    "duration": 4,
    "start_time": "2025-04-07T21:28:49.485Z"
   },
   {
    "duration": 4,
    "start_time": "2025-04-07T21:28:49.491Z"
   },
   {
    "duration": 8,
    "start_time": "2025-04-07T21:28:49.497Z"
   },
   {
    "duration": 8,
    "start_time": "2025-04-07T21:28:49.506Z"
   },
   {
    "duration": 5,
    "start_time": "2025-04-07T21:28:49.518Z"
   },
   {
    "duration": 5,
    "start_time": "2025-04-07T21:28:49.524Z"
   },
   {
    "duration": 48,
    "start_time": "2025-04-07T21:28:49.530Z"
   },
   {
    "duration": 7,
    "start_time": "2025-04-07T21:28:49.580Z"
   },
   {
    "duration": 23,
    "start_time": "2025-04-07T21:28:49.588Z"
   },
   {
    "duration": 12,
    "start_time": "2025-04-07T21:28:49.613Z"
   },
   {
    "duration": 6,
    "start_time": "2025-04-07T21:28:49.627Z"
   },
   {
    "duration": 16,
    "start_time": "2025-04-07T21:28:49.669Z"
   },
   {
    "duration": 17,
    "start_time": "2025-04-07T21:28:49.687Z"
   },
   {
    "duration": 7,
    "start_time": "2025-04-07T21:28:49.706Z"
   },
   {
    "duration": 22,
    "start_time": "2025-04-07T21:28:49.715Z"
   },
   {
    "duration": 33,
    "start_time": "2025-04-07T21:28:49.740Z"
   },
   {
    "duration": 34,
    "start_time": "2025-04-07T21:28:49.775Z"
   },
   {
    "duration": 22,
    "start_time": "2025-04-07T21:28:49.811Z"
   },
   {
    "duration": 40,
    "start_time": "2025-04-07T21:28:49.834Z"
   },
   {
    "duration": 23,
    "start_time": "2025-04-07T21:28:49.876Z"
   },
   {
    "duration": 16,
    "start_time": "2025-04-07T21:28:49.901Z"
   },
   {
    "duration": 24,
    "start_time": "2025-04-07T21:28:49.919Z"
   },
   {
    "duration": 437,
    "start_time": "2025-04-07T21:28:49.969Z"
   },
   {
    "duration": 196,
    "start_time": "2025-04-07T21:28:50.408Z"
   },
   {
    "duration": 180,
    "start_time": "2025-04-07T21:28:50.606Z"
   },
   {
    "duration": 6,
    "start_time": "2025-04-07T21:28:50.788Z"
   },
   {
    "duration": 93,
    "start_time": "2025-04-07T21:28:50.796Z"
   },
   {
    "duration": 94,
    "start_time": "2025-04-07T21:28:50.891Z"
   },
   {
    "duration": 173,
    "start_time": "2025-04-07T21:28:50.986Z"
   },
   {
    "duration": 135,
    "start_time": "2025-04-07T21:28:51.161Z"
   },
   {
    "duration": 7,
    "start_time": "2025-04-07T21:28:51.297Z"
   },
   {
    "duration": 183,
    "start_time": "2025-04-07T21:28:51.306Z"
   },
   {
    "duration": 205,
    "start_time": "2025-04-07T21:28:51.491Z"
   },
   {
    "duration": 139,
    "start_time": "2025-04-07T21:28:51.698Z"
   },
   {
    "duration": 4,
    "start_time": "2025-04-07T21:28:51.839Z"
   },
   {
    "duration": 189,
    "start_time": "2025-04-07T21:28:51.845Z"
   },
   {
    "duration": 177,
    "start_time": "2025-04-07T21:28:52.036Z"
   },
   {
    "duration": 3,
    "start_time": "2025-04-07T21:28:52.214Z"
   },
   {
    "duration": 3,
    "start_time": "2025-04-07T21:28:52.218Z"
   },
   {
    "duration": 241,
    "start_time": "2025-04-07T21:29:26.172Z"
   },
   {
    "duration": 231,
    "start_time": "2025-04-07T21:41:46.315Z"
   },
   {
    "duration": 19,
    "start_time": "2025-04-07T21:41:56.629Z"
   },
   {
    "duration": 106,
    "start_time": "2025-04-07T21:56:17.991Z"
   },
   {
    "duration": 3,
    "start_time": "2025-04-07T21:56:57.119Z"
   },
   {
    "duration": 25,
    "start_time": "2025-04-07T21:57:02.740Z"
   },
   {
    "duration": 27,
    "start_time": "2025-04-07T21:58:15.121Z"
   },
   {
    "duration": 19,
    "start_time": "2025-04-07T21:59:02.226Z"
   },
   {
    "duration": 18,
    "start_time": "2025-04-07T21:59:24.881Z"
   },
   {
    "duration": 17,
    "start_time": "2025-04-07T22:01:57.566Z"
   },
   {
    "duration": 7,
    "start_time": "2025-04-07T22:02:04.556Z"
   },
   {
    "duration": 20,
    "start_time": "2025-04-07T22:06:02.358Z"
   },
   {
    "duration": 682,
    "start_time": "2025-04-08T14:37:15.253Z"
   },
   {
    "duration": 850,
    "start_time": "2025-04-08T14:37:40.682Z"
   },
   {
    "duration": 180,
    "start_time": "2025-04-08T14:37:41.534Z"
   },
   {
    "duration": 30,
    "start_time": "2025-04-08T14:37:41.715Z"
   },
   {
    "duration": 25,
    "start_time": "2025-04-08T14:37:41.747Z"
   },
   {
    "duration": 7,
    "start_time": "2025-04-08T14:37:41.774Z"
   },
   {
    "duration": 5,
    "start_time": "2025-04-08T14:37:41.782Z"
   },
   {
    "duration": 4,
    "start_time": "2025-04-08T14:37:41.789Z"
   },
   {
    "duration": 9,
    "start_time": "2025-04-08T14:37:41.794Z"
   },
   {
    "duration": 7,
    "start_time": "2025-04-08T14:37:41.805Z"
   },
   {
    "duration": 5,
    "start_time": "2025-04-08T14:37:41.815Z"
   },
   {
    "duration": 5,
    "start_time": "2025-04-08T14:37:41.821Z"
   },
   {
    "duration": 52,
    "start_time": "2025-04-08T14:37:41.827Z"
   },
   {
    "duration": 6,
    "start_time": "2025-04-08T14:37:41.881Z"
   },
   {
    "duration": 24,
    "start_time": "2025-04-08T14:37:41.888Z"
   },
   {
    "duration": 12,
    "start_time": "2025-04-08T14:37:41.914Z"
   },
   {
    "duration": 6,
    "start_time": "2025-04-08T14:37:41.928Z"
   },
   {
    "duration": 48,
    "start_time": "2025-04-08T14:37:41.935Z"
   },
   {
    "duration": 13,
    "start_time": "2025-04-08T14:37:41.985Z"
   },
   {
    "duration": 6,
    "start_time": "2025-04-08T14:37:42.000Z"
   },
   {
    "duration": 18,
    "start_time": "2025-04-08T14:37:42.007Z"
   },
   {
    "duration": 8,
    "start_time": "2025-04-08T14:37:42.027Z"
   },
   {
    "duration": 64,
    "start_time": "2025-04-08T14:37:42.037Z"
   },
   {
    "duration": 21,
    "start_time": "2025-04-08T14:37:42.103Z"
   },
   {
    "duration": 19,
    "start_time": "2025-04-08T14:37:42.126Z"
   },
   {
    "duration": 49,
    "start_time": "2025-04-08T14:37:42.147Z"
   },
   {
    "duration": 18,
    "start_time": "2025-04-08T14:37:42.198Z"
   },
   {
    "duration": 24,
    "start_time": "2025-04-08T14:37:42.217Z"
   },
   {
    "duration": 479,
    "start_time": "2025-04-08T14:37:42.246Z"
   },
   {
    "duration": 194,
    "start_time": "2025-04-08T14:37:42.727Z"
   },
   {
    "duration": 171,
    "start_time": "2025-04-08T14:37:42.923Z"
   },
   {
    "duration": 5,
    "start_time": "2025-04-08T14:37:43.096Z"
   },
   {
    "duration": 179,
    "start_time": "2025-04-08T14:37:43.103Z"
   },
   {
    "duration": 177,
    "start_time": "2025-04-08T14:37:43.283Z"
   },
   {
    "duration": 132,
    "start_time": "2025-04-08T14:37:43.462Z"
   },
   {
    "duration": 5,
    "start_time": "2025-04-08T14:37:43.595Z"
   },
   {
    "duration": 183,
    "start_time": "2025-04-08T14:37:43.602Z"
   },
   {
    "duration": 197,
    "start_time": "2025-04-08T14:37:43.787Z"
   },
   {
    "duration": 131,
    "start_time": "2025-04-08T14:37:43.986Z"
   },
   {
    "duration": 5,
    "start_time": "2025-04-08T14:37:44.119Z"
   },
   {
    "duration": 183,
    "start_time": "2025-04-08T14:37:44.125Z"
   },
   {
    "duration": 183,
    "start_time": "2025-04-08T14:37:44.310Z"
   },
   {
    "duration": 7,
    "start_time": "2025-04-08T14:37:44.495Z"
   },
   {
    "duration": 896,
    "start_time": "2025-04-08T14:37:44.504Z"
   },
   {
    "duration": 218,
    "start_time": "2025-04-08T14:38:30.356Z"
   },
   {
    "duration": 20,
    "start_time": "2025-04-08T14:38:41.068Z"
   },
   {
    "duration": 21,
    "start_time": "2025-04-08T14:38:57.715Z"
   },
   {
    "duration": 19,
    "start_time": "2025-04-08T14:39:05.651Z"
   },
   {
    "duration": 20,
    "start_time": "2025-04-08T14:39:45.866Z"
   },
   {
    "duration": 19,
    "start_time": "2025-04-08T14:40:13.460Z"
   },
   {
    "duration": 18,
    "start_time": "2025-04-08T14:40:45.220Z"
   },
   {
    "duration": 18,
    "start_time": "2025-04-08T14:40:53.987Z"
   },
   {
    "duration": 21,
    "start_time": "2025-04-08T14:41:16.677Z"
   },
   {
    "duration": 48,
    "start_time": "2025-04-08T14:41:27.933Z"
   },
   {
    "duration": 18,
    "start_time": "2025-04-08T14:41:34.838Z"
   },
   {
    "duration": 18,
    "start_time": "2025-04-08T14:41:50.380Z"
   },
   {
    "duration": 23,
    "start_time": "2025-04-08T14:43:02.097Z"
   },
   {
    "duration": 20,
    "start_time": "2025-04-08T14:44:13.464Z"
   },
   {
    "duration": 19,
    "start_time": "2025-04-08T14:44:30.803Z"
   },
   {
    "duration": 20,
    "start_time": "2025-04-08T14:51:20.975Z"
   },
   {
    "duration": 34,
    "start_time": "2025-04-08T14:55:42.071Z"
   },
   {
    "duration": 8,
    "start_time": "2025-04-08T15:13:23.715Z"
   },
   {
    "duration": 7,
    "start_time": "2025-04-08T15:13:40.504Z"
   },
   {
    "duration": 33,
    "start_time": "2025-04-08T15:14:36.728Z"
   },
   {
    "duration": 23,
    "start_time": "2025-04-08T15:19:37.020Z"
   },
   {
    "duration": 808,
    "start_time": "2025-04-08T15:30:40.625Z"
   },
   {
    "duration": 153,
    "start_time": "2025-04-08T15:30:41.435Z"
   },
   {
    "duration": 29,
    "start_time": "2025-04-08T15:30:41.589Z"
   },
   {
    "duration": 8,
    "start_time": "2025-04-08T15:30:41.620Z"
   },
   {
    "duration": 6,
    "start_time": "2025-04-08T15:30:41.631Z"
   },
   {
    "duration": 31,
    "start_time": "2025-04-08T15:30:41.639Z"
   },
   {
    "duration": 4,
    "start_time": "2025-04-08T15:30:41.672Z"
   },
   {
    "duration": 8,
    "start_time": "2025-04-08T15:30:41.677Z"
   },
   {
    "duration": 8,
    "start_time": "2025-04-08T15:30:41.687Z"
   },
   {
    "duration": 7,
    "start_time": "2025-04-08T15:30:41.696Z"
   },
   {
    "duration": 5,
    "start_time": "2025-04-08T15:30:41.704Z"
   },
   {
    "duration": 21,
    "start_time": "2025-04-08T15:30:41.710Z"
   },
   {
    "duration": 39,
    "start_time": "2025-04-08T15:30:41.733Z"
   },
   {
    "duration": 25,
    "start_time": "2025-04-08T15:30:41.777Z"
   },
   {
    "duration": 12,
    "start_time": "2025-04-08T15:30:41.804Z"
   },
   {
    "duration": 6,
    "start_time": "2025-04-08T15:30:41.818Z"
   },
   {
    "duration": 14,
    "start_time": "2025-04-08T15:30:41.826Z"
   },
   {
    "duration": 41,
    "start_time": "2025-04-08T15:30:41.841Z"
   },
   {
    "duration": 6,
    "start_time": "2025-04-08T15:30:41.884Z"
   },
   {
    "duration": 18,
    "start_time": "2025-04-08T15:30:41.892Z"
   },
   {
    "duration": 7,
    "start_time": "2025-04-08T15:30:41.912Z"
   },
   {
    "duration": 59,
    "start_time": "2025-04-08T15:30:41.921Z"
   },
   {
    "duration": 21,
    "start_time": "2025-04-08T15:30:41.982Z"
   },
   {
    "duration": 19,
    "start_time": "2025-04-08T15:30:42.005Z"
   },
   {
    "duration": 22,
    "start_time": "2025-04-08T15:30:42.025Z"
   },
   {
    "duration": 15,
    "start_time": "2025-04-08T15:30:42.071Z"
   },
   {
    "duration": 23,
    "start_time": "2025-04-08T15:30:42.088Z"
   },
   {
    "duration": 503,
    "start_time": "2025-04-08T15:30:42.112Z"
   },
   {
    "duration": 196,
    "start_time": "2025-04-08T15:30:42.617Z"
   },
   {
    "duration": 169,
    "start_time": "2025-04-08T15:30:42.815Z"
   },
   {
    "duration": 5,
    "start_time": "2025-04-08T15:30:42.986Z"
   },
   {
    "duration": 167,
    "start_time": "2025-04-08T15:30:42.992Z"
   },
   {
    "duration": 176,
    "start_time": "2025-04-08T15:30:43.161Z"
   },
   {
    "duration": 133,
    "start_time": "2025-04-08T15:30:43.338Z"
   },
   {
    "duration": 6,
    "start_time": "2025-04-08T15:30:43.473Z"
   },
   {
    "duration": 170,
    "start_time": "2025-04-08T15:30:43.481Z"
   },
   {
    "duration": 200,
    "start_time": "2025-04-08T15:30:43.653Z"
   },
   {
    "duration": 146,
    "start_time": "2025-04-08T15:30:43.855Z"
   },
   {
    "duration": 4,
    "start_time": "2025-04-08T15:30:44.003Z"
   },
   {
    "duration": 175,
    "start_time": "2025-04-08T15:30:44.009Z"
   },
   {
    "duration": 171,
    "start_time": "2025-04-08T15:30:44.188Z"
   },
   {
    "duration": 16,
    "start_time": "2025-04-08T15:30:44.361Z"
   },
   {
    "duration": 95,
    "start_time": "2025-04-08T15:30:44.379Z"
   },
   {
    "duration": 856,
    "start_time": "2025-04-08T15:31:56.096Z"
   },
   {
    "duration": 159,
    "start_time": "2025-04-08T15:31:56.954Z"
   },
   {
    "duration": 28,
    "start_time": "2025-04-08T15:31:57.114Z"
   },
   {
    "duration": 7,
    "start_time": "2025-04-08T15:31:57.144Z"
   },
   {
    "duration": 13,
    "start_time": "2025-04-08T15:31:57.170Z"
   },
   {
    "duration": 7,
    "start_time": "2025-04-08T15:31:57.185Z"
   },
   {
    "duration": 4,
    "start_time": "2025-04-08T15:31:57.193Z"
   },
   {
    "duration": 8,
    "start_time": "2025-04-08T15:31:57.199Z"
   },
   {
    "duration": 8,
    "start_time": "2025-04-08T15:31:57.209Z"
   },
   {
    "duration": 6,
    "start_time": "2025-04-08T15:31:57.218Z"
   },
   {
    "duration": 5,
    "start_time": "2025-04-08T15:31:57.225Z"
   },
   {
    "duration": 48,
    "start_time": "2025-04-08T15:31:57.231Z"
   },
   {
    "duration": 6,
    "start_time": "2025-04-08T15:31:57.281Z"
   },
   {
    "duration": 24,
    "start_time": "2025-04-08T15:31:57.291Z"
   },
   {
    "duration": 14,
    "start_time": "2025-04-08T15:31:57.316Z"
   },
   {
    "duration": 6,
    "start_time": "2025-04-08T15:31:57.331Z"
   },
   {
    "duration": 43,
    "start_time": "2025-04-08T15:31:57.339Z"
   },
   {
    "duration": 13,
    "start_time": "2025-04-08T15:31:57.384Z"
   },
   {
    "duration": 6,
    "start_time": "2025-04-08T15:31:57.399Z"
   },
   {
    "duration": 17,
    "start_time": "2025-04-08T15:31:57.407Z"
   },
   {
    "duration": 8,
    "start_time": "2025-04-08T15:31:57.426Z"
   },
   {
    "duration": 66,
    "start_time": "2025-04-08T15:31:57.436Z"
   },
   {
    "duration": 21,
    "start_time": "2025-04-08T15:31:57.504Z"
   },
   {
    "duration": 21,
    "start_time": "2025-04-08T15:31:57.527Z"
   },
   {
    "duration": 39,
    "start_time": "2025-04-08T15:31:57.549Z"
   },
   {
    "duration": 14,
    "start_time": "2025-04-08T15:31:57.590Z"
   },
   {
    "duration": 23,
    "start_time": "2025-04-08T15:31:57.606Z"
   },
   {
    "duration": 470,
    "start_time": "2025-04-08T15:31:57.631Z"
   },
   {
    "duration": 194,
    "start_time": "2025-04-08T15:31:58.103Z"
   },
   {
    "duration": 175,
    "start_time": "2025-04-08T15:31:58.299Z"
   },
   {
    "duration": 5,
    "start_time": "2025-04-08T15:31:58.476Z"
   },
   {
    "duration": 167,
    "start_time": "2025-04-08T15:31:58.482Z"
   },
   {
    "duration": 174,
    "start_time": "2025-04-08T15:31:58.651Z"
   },
   {
    "duration": 133,
    "start_time": "2025-04-08T15:31:58.827Z"
   },
   {
    "duration": 10,
    "start_time": "2025-04-08T15:31:58.961Z"
   },
   {
    "duration": 169,
    "start_time": "2025-04-08T15:31:58.973Z"
   },
   {
    "duration": 188,
    "start_time": "2025-04-08T15:31:59.144Z"
   },
   {
    "duration": 130,
    "start_time": "2025-04-08T15:31:59.334Z"
   },
   {
    "duration": 5,
    "start_time": "2025-04-08T15:31:59.466Z"
   },
   {
    "duration": 170,
    "start_time": "2025-04-08T15:31:59.473Z"
   },
   {
    "duration": 179,
    "start_time": "2025-04-08T15:31:59.647Z"
   },
   {
    "duration": 7,
    "start_time": "2025-04-08T15:31:59.829Z"
   },
   {
    "duration": 102,
    "start_time": "2025-04-08T15:31:59.838Z"
   },
   {
    "duration": 22,
    "start_time": "2025-04-08T15:34:41.698Z"
   },
   {
    "duration": 830,
    "start_time": "2025-04-08T15:36:45.922Z"
   },
   {
    "duration": 173,
    "start_time": "2025-04-08T15:36:46.755Z"
   },
   {
    "duration": 29,
    "start_time": "2025-04-08T15:36:46.929Z"
   },
   {
    "duration": 8,
    "start_time": "2025-04-08T15:36:46.971Z"
   },
   {
    "duration": 8,
    "start_time": "2025-04-08T15:36:46.980Z"
   },
   {
    "duration": 5,
    "start_time": "2025-04-08T15:36:46.989Z"
   },
   {
    "duration": 4,
    "start_time": "2025-04-08T15:36:46.995Z"
   },
   {
    "duration": 7,
    "start_time": "2025-04-08T15:36:47.001Z"
   },
   {
    "duration": 8,
    "start_time": "2025-04-08T15:36:47.010Z"
   },
   {
    "duration": 5,
    "start_time": "2025-04-08T15:36:47.022Z"
   },
   {
    "duration": 42,
    "start_time": "2025-04-08T15:36:47.029Z"
   },
   {
    "duration": 15,
    "start_time": "2025-04-08T15:36:47.074Z"
   },
   {
    "duration": 7,
    "start_time": "2025-04-08T15:36:47.091Z"
   },
   {
    "duration": 24,
    "start_time": "2025-04-08T15:36:47.099Z"
   },
   {
    "duration": 14,
    "start_time": "2025-04-08T15:36:47.125Z"
   },
   {
    "duration": 12,
    "start_time": "2025-04-08T15:36:47.171Z"
   },
   {
    "duration": 17,
    "start_time": "2025-04-08T15:36:47.185Z"
   },
   {
    "duration": 14,
    "start_time": "2025-04-08T15:36:47.203Z"
   },
   {
    "duration": 7,
    "start_time": "2025-04-08T15:36:47.219Z"
   },
   {
    "duration": 17,
    "start_time": "2025-04-08T15:36:47.227Z"
   },
   {
    "duration": 30,
    "start_time": "2025-04-08T15:36:47.246Z"
   },
   {
    "duration": 34,
    "start_time": "2025-04-08T15:36:47.278Z"
   },
   {
    "duration": 21,
    "start_time": "2025-04-08T15:36:47.314Z"
   },
   {
    "duration": 39,
    "start_time": "2025-04-08T15:36:47.337Z"
   },
   {
    "duration": 23,
    "start_time": "2025-04-08T15:36:47.378Z"
   },
   {
    "duration": 14,
    "start_time": "2025-04-08T15:36:47.403Z"
   },
   {
    "duration": 23,
    "start_time": "2025-04-08T15:36:47.419Z"
   },
   {
    "duration": 445,
    "start_time": "2025-04-08T15:36:47.471Z"
   },
   {
    "duration": 203,
    "start_time": "2025-04-08T15:36:47.918Z"
   },
   {
    "duration": 183,
    "start_time": "2025-04-08T15:36:48.123Z"
   },
   {
    "duration": 5,
    "start_time": "2025-04-08T15:36:48.308Z"
   },
   {
    "duration": 176,
    "start_time": "2025-04-08T15:36:48.315Z"
   },
   {
    "duration": 184,
    "start_time": "2025-04-08T15:36:48.493Z"
   },
   {
    "duration": 133,
    "start_time": "2025-04-08T15:36:48.679Z"
   },
   {
    "duration": 4,
    "start_time": "2025-04-08T15:36:48.814Z"
   },
   {
    "duration": 175,
    "start_time": "2025-04-08T15:36:48.820Z"
   },
   {
    "duration": 184,
    "start_time": "2025-04-08T15:36:48.997Z"
   },
   {
    "duration": 142,
    "start_time": "2025-04-08T15:36:49.183Z"
   },
   {
    "duration": 5,
    "start_time": "2025-04-08T15:36:49.327Z"
   },
   {
    "duration": 172,
    "start_time": "2025-04-08T15:36:49.333Z"
   },
   {
    "duration": 180,
    "start_time": "2025-04-08T15:36:49.507Z"
   },
   {
    "duration": 7,
    "start_time": "2025-04-08T15:36:49.689Z"
   },
   {
    "duration": 95,
    "start_time": "2025-04-08T15:36:49.697Z"
   },
   {
    "duration": 194,
    "start_time": "2025-04-08T15:46:26.716Z"
   },
   {
    "duration": 189,
    "start_time": "2025-04-08T15:47:06.744Z"
   },
   {
    "duration": 171,
    "start_time": "2025-04-08T15:47:15.885Z"
   },
   {
    "duration": 169,
    "start_time": "2025-04-08T15:47:37.648Z"
   },
   {
    "duration": 167,
    "start_time": "2025-04-08T15:48:06.463Z"
   },
   {
    "duration": 805,
    "start_time": "2025-04-08T16:13:06.352Z"
   },
   {
    "duration": 171,
    "start_time": "2025-04-08T16:13:07.159Z"
   },
   {
    "duration": 48,
    "start_time": "2025-04-08T16:13:07.331Z"
   },
   {
    "duration": 10,
    "start_time": "2025-04-08T16:13:07.382Z"
   },
   {
    "duration": 9,
    "start_time": "2025-04-08T16:13:07.393Z"
   },
   {
    "duration": 5,
    "start_time": "2025-04-08T16:13:07.403Z"
   },
   {
    "duration": 5,
    "start_time": "2025-04-08T16:13:07.409Z"
   },
   {
    "duration": 8,
    "start_time": "2025-04-08T16:13:07.415Z"
   },
   {
    "duration": 45,
    "start_time": "2025-04-08T16:13:07.425Z"
   },
   {
    "duration": 5,
    "start_time": "2025-04-08T16:13:07.475Z"
   },
   {
    "duration": 4,
    "start_time": "2025-04-08T16:13:07.482Z"
   },
   {
    "duration": 16,
    "start_time": "2025-04-08T16:13:07.488Z"
   },
   {
    "duration": 7,
    "start_time": "2025-04-08T16:13:07.505Z"
   },
   {
    "duration": 23,
    "start_time": "2025-04-08T16:13:07.514Z"
   },
   {
    "duration": 38,
    "start_time": "2025-04-08T16:13:07.539Z"
   },
   {
    "duration": 6,
    "start_time": "2025-04-08T16:13:07.578Z"
   },
   {
    "duration": 15,
    "start_time": "2025-04-08T16:13:07.586Z"
   },
   {
    "duration": 13,
    "start_time": "2025-04-08T16:13:07.603Z"
   },
   {
    "duration": 6,
    "start_time": "2025-04-08T16:13:07.618Z"
   },
   {
    "duration": 55,
    "start_time": "2025-04-08T16:13:07.626Z"
   },
   {
    "duration": 8,
    "start_time": "2025-04-08T16:13:07.683Z"
   },
   {
    "duration": 37,
    "start_time": "2025-04-08T16:13:07.692Z"
   },
   {
    "duration": 21,
    "start_time": "2025-04-08T16:13:07.731Z"
   },
   {
    "duration": 19,
    "start_time": "2025-04-08T16:13:07.771Z"
   },
   {
    "duration": 23,
    "start_time": "2025-04-08T16:13:07.791Z"
   },
   {
    "duration": 15,
    "start_time": "2025-04-08T16:13:07.816Z"
   },
   {
    "duration": 52,
    "start_time": "2025-04-08T16:13:07.833Z"
   },
   {
    "duration": 481,
    "start_time": "2025-04-08T16:13:07.889Z"
   },
   {
    "duration": 211,
    "start_time": "2025-04-08T16:13:08.372Z"
   },
   {
    "duration": 179,
    "start_time": "2025-04-08T16:13:08.585Z"
   },
   {
    "duration": 5,
    "start_time": "2025-04-08T16:13:08.770Z"
   },
   {
    "duration": 165,
    "start_time": "2025-04-08T16:13:08.777Z"
   },
   {
    "duration": 183,
    "start_time": "2025-04-08T16:13:08.944Z"
   },
   {
    "duration": 135,
    "start_time": "2025-04-08T16:13:09.128Z"
   },
   {
    "duration": 8,
    "start_time": "2025-04-08T16:13:09.264Z"
   },
   {
    "duration": 168,
    "start_time": "2025-04-08T16:13:09.274Z"
   },
   {
    "duration": 208,
    "start_time": "2025-04-08T16:13:09.444Z"
   },
   {
    "duration": 129,
    "start_time": "2025-04-08T16:13:09.654Z"
   },
   {
    "duration": 5,
    "start_time": "2025-04-08T16:13:09.785Z"
   },
   {
    "duration": 171,
    "start_time": "2025-04-08T16:13:09.792Z"
   },
   {
    "duration": 176,
    "start_time": "2025-04-08T16:13:09.969Z"
   },
   {
    "duration": 7,
    "start_time": "2025-04-08T16:13:10.147Z"
   },
   {
    "duration": 102,
    "start_time": "2025-04-08T16:13:10.156Z"
   }
  ],
  "colab": {
   "provenance": []
  },
  "kernelspec": {
   "display_name": "Python 3 (ipykernel)",
   "language": "python",
   "name": "python3"
  },
  "language_info": {
   "codemirror_mode": {
    "name": "ipython",
    "version": 3
   },
   "file_extension": ".py",
   "mimetype": "text/x-python",
   "name": "python",
   "nbconvert_exporter": "python",
   "pygments_lexer": "ipython3",
   "version": "3.9.19"
  },
  "toc": {
   "base_numbering": 1,
   "nav_menu": {},
   "number_sections": true,
   "sideBar": true,
   "skip_h1_title": false,
   "title_cell": "Table of Contents",
   "title_sidebar": "Contents",
   "toc_cell": false,
   "toc_position": {
    "height": "calc(100% - 180px)",
    "left": "10px",
    "top": "150px",
    "width": "165px"
   },
   "toc_section_display": true,
   "toc_window_display": true
  }
 },
 "nbformat": 4,
 "nbformat_minor": 1
}
